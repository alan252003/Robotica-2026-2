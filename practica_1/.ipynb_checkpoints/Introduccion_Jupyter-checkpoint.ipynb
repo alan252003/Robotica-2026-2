{
 "cells": [
  {
   "cell_type": "markdown",
   "id": "ddb15206-9128-47bc-b754-2409a0fddc6b",
   "metadata": {},
   "source": [
    "# Uso básico de Jupyter\n",
    "\n",
    "En este archivo se muestran ejemplos de uso de Jupyter, enfocado al modelado de robots"
   ]
  },
  {
   "cell_type": "markdown",
   "id": "e0c2f905-4b94-4d78-b2f6-7a2d2dfd49e3",
   "metadata": {},
   "source": [
    "# Markdown\n",
    "\n",
    "Markdown es un formato de texto plano al que se le puede aplicar un formato al interpretarse a partir de una nomenclatura sencilla"
   ]
  },
  {
   "cell_type": "markdown",
   "id": "3cbf7c47-7589-4f94-aecb-a2e0c1907752",
   "metadata": {},
   "source": [
    "\n",
    "### ✍️ Texto con formato\n",
    "\n",
    "- **Negritas**  \n",
    "- *Cursivas*  \n",
    "- ~~Tachado~~  \n",
    "- `Código en línea`  \n",
    "- > Cita de ejemplo  \n",
    "---"
   ]
  },
  {
   "cell_type": "markdown",
   "id": "6eee171d",
   "metadata": {},
   "source": [
    "### 🎉 Emojis útiles\n",
    "\n",
    "- 🎨 — Para representar **temas de diseño, creatividad o arte** dentro de un proyecto.  \n",
    "- 🚀 — Usado en partes de un proyecto que contengan **innovación, lanzamientos de nuevas versiones o desarrollo acelerado**.  \n",
    "- 📚 — Representa **estudio o documentación**.  \n",
    "- 🔧 — Útil en contextos de **herramientas, configuración o reparación**.  \n",
    "- ⚡ — Para indicar **velocidad en lanzamientos o reparación de bugs (quickfixes)**.\n",
    "\n",
    "---\n",
    "\n"
   ]
  },
  {
   "cell_type": "markdown",
   "id": "c5ceedd9",
   "metadata": {},
   "source": [
    "### 📋 Listas\n",
    "\n",
    "#### Lista ordenada\n",
    "1. Primer paso  \n",
    "2. Segundo paso  \n",
    "3. Tercer paso  \n",
    "\n",
    "#### Lista desordenada\n",
    "- Manzana 🍎  \n",
    "- Plátano 🍌  \n",
    "- Uva 🍇  \n",
    "\n",
    "---\n",
    "\n",
    "### ✅ Listas de tareas\n",
    "\n",
    "- [x] Primer tarea  \n",
    "- [ ] Segunda tarea  \n",
    "- [ ] Compartir este archivo  \n",
    "\n",
    "---\n"
   ]
  },
  {
   "cell_type": "markdown",
   "id": "1c83d9bf-d952-4562-be7a-875ca21def81",
   "metadata": {},
   "source": [
    "### Tablas y formatos\n",
    "\n",
    "### 📊 Tablas\n",
    "\n",
    "| Lenguaje  | Popularidad ⭐ | Comentario           |\n",
    "|-----------|---------------|----------------------|\n",
    "| Python 🐍 | Alta          | Fácil de aprender    |\n",
    "| Java ☕   | Media         | Muy usado en empresas|\n",
    "| C++ ⚡    | Media-Baja    | Rápido pero complejo |\n",
    "\n",
    "---\n",
    "\n",
    "### Alineación de tabla\n",
    "|---Izquierda---|--------Centro--------|-----------Derecha-----------|\n",
    "\n",
    "| Lenguaje  | Popularidad ⭐ | Comentario           |\n",
    "|:----------|:-------------:|---------------------:|\n",
    "| Python 🐍 | Alta          | Fácil de aprender    |\n",
    "| Java ☕    | Media         | Muy usado en empresas|\n",
    "| C++ ⚡     | Media-Baja    | Rápido pero complejo |\n",
    "\n",
    "---\n",
    "\n"
   ]
  },
  {
   "cell_type": "markdown",
   "id": "b33c32fa",
   "metadata": {},
   "source": [
    "### 🎨 Colores (con HTML incrustado)\n",
    "\n",
    "<p style=\"color:red;\">Texto en rojo</p>  \n",
    "<p style=\"color:green;\">Texto en verde</p>  \n",
    "<p style=\"color:blue;\">Texto en azul</p>  \n",
    "\n",
    "---\n"
   ]
  },
  {
   "cell_type": "markdown",
   "id": "8e1469fa",
   "metadata": {},
   "source": [
    "### 🖼️ Imágenes\n",
    "\n",
    "Imagen importada por Markdown:\n",
    "\n",
    "![Ejemplo imagen](https://upload.wikimedia.org/wikipedia/commons/thumb/4/48/Markdown-mark.svg/120px-Markdown-mark.svg.png)\n",
    "\n",
    "Imagen importada como html:\n",
    "\n",
    "<img src=\"https://upload.wikimedia.org/wikipedia/commons/thumb/4/48/Markdown-mark.svg/120px-Markdown-mark.svg.png\" width=60 height=60/>\n",
    "\n",
    "Imagen importada desde archivo:\n",
    "\n",
    "<img src=\"imagenes/Jupyter_logo.svg.png\" width=60 height=60/>\n",
    "\n",
    "---\n"
   ]
  },
  {
   "cell_type": "markdown",
   "id": "0c90e8f9-2432-4fa6-b107-7abe917c6efd",
   "metadata": {},
   "source": [
    "### 🔗 Enlaces\n",
    "\n",
    "- [Google](https://www.google.com)  \n",
    "- [Wikipedia en Español](https://es.wikipedia.org)\n",
    "\n",
    "---\n"
   ]
  },
  {
   "cell_type": "markdown",
   "id": "4f14b409",
   "metadata": {},
   "source": [
    "### ➗ Ecuaciones (Con LaTex)\n",
    "$y=x^2$\n",
    "\n",
    "$e^{i\\pi} + 1 = 0$\n",
    "\n",
    "$e^x=\\sum_{i=0}^\\infty \\frac{1}{i!}x^i$\n",
    "\n",
    "$\\frac{n!}{k!(n-k)!} = {n \\choose k}$\n",
    "\n",
    "$A_{m,n} =\n",
    " \\begin{pmatrix}\n",
    "  a_{1,1} & a_{1,2} & \\cdots & a_{1,n} \\\\\n",
    "  a_{2,1} & a_{2,2} & \\cdots & a_{2,n} \\\\\n",
    "  \\vdots  & \\vdots  & \\ddots & \\vdots  \\\\\n",
    "  a_{m,1} & a_{m,2} & \\cdots & a_{m,n}\n",
    " \\end{pmatrix}$\n",
    "\n",
    "${}^{i}  {T}_{j}$\n",
    "\n",
    "---\n"
   ]
  },
  {
   "cell_type": "markdown",
   "id": "0f1a6a5c",
   "metadata": {},
   "source": [
    "### 💻 Bloques de código\n",
    "\n",
    "~~~python\n",
    "# Código Python\n",
    "def saludo(nombre):\n",
    "    return f\"Hola, {nombre}!\"\n",
    "\n",
    "print(saludo(\"Aurora\"))\n",
    "~~~\n",
    "\n",
    "```bash\n",
    "# Script Bash\n",
    "for i in {1..5}; do\n",
    "  echo \"Número $i\"\n",
    "done\n",
    "```\n",
    "\n",
    "---"
   ]
  },
  {
   "cell_type": "markdown",
   "id": "6df4b34d",
   "metadata": {},
   "source": [
    "# Sympy\n",
    "\n",
    "Dentro de python, se puede implementar el uso de variables simbólicas con la librería sympy. Usar variables implícitas permite manejar ecuaciones, sustituir valores, y aplicar operaciones como derivadas."
   ]
  },
  {
   "cell_type": "markdown",
   "id": "c1d3ec83-ebfd-46f6-869e-47ab9b988956",
   "metadata": {},
   "source": [
    "### Manejo de variables\n",
    "Se pueden definir variables del alfabeto griego ó latín\n",
    "Se definen con la función Symbol, colcando entre comillas simples el síbolo que se utilizará al desplegar la variable\n",
    "~~~python\n",
    "a = Symbol('a')\n",
    "~~~\n",
    "\n",
    "Para definir múltiples variables, se utiliza la función symbols, que recibe una cadena con símbolos separados por comas, y regresa una tupla\n",
    "~~~python\n",
    "a, b, c = symbols('a, b, c')\n",
    "~~~\n",
    "Se pueden agregar subíndices\n",
    "~~~python\n",
    "d = Symbol('d_1')\n",
    "~~~\n",
    "Para una derivada, se usa la función diff\n",
    "~~~python\n",
    "derivada = diff(función, variable respecto a la que se deriva)\n",
    "~~~\n",
    "Si las variables se suman o restan, se puede construir una ecuación"
   ]
  },
  {
   "cell_type": "code",
   "execution_count": 1,
   "id": "1c71529e",
   "metadata": {},
   "outputs": [
    {
     "data": {
      "text/latex": [
       "$\\displaystyle a$"
      ],
      "text/plain": [
       "a"
      ]
     },
     "metadata": {},
     "output_type": "display_data"
    },
    {
     "data": {
      "text/latex": [
       "$\\displaystyle d_{1}$"
      ],
      "text/plain": [
       "d_1"
      ]
     },
     "metadata": {},
     "output_type": "display_data"
    }
   ],
   "source": [
    "#Encabezado para el uso de matrices y complificación de ecuaciones\n",
    "from sympy import *\n",
    "import math\n",
    "#Definicion de la variable a\n",
    "a = Symbol('a')\n",
    "display(a)\n",
    "d = Symbol('d_1')\n",
    "display(d)"
   ]
  },
  {
   "cell_type": "code",
   "execution_count": 2,
   "id": "9fa9491d-35f1-4060-9fe8-c72d741d8a58",
   "metadata": {},
   "outputs": [
    {
     "data": {
      "text/latex": [
       "$\\displaystyle \\alpha$"
      ],
      "text/plain": [
       "alpha"
      ]
     },
     "metadata": {},
     "output_type": "display_data"
    },
    {
     "data": {
      "text/latex": [
       "$\\displaystyle \\beta$"
      ],
      "text/plain": [
       "beta"
      ]
     },
     "metadata": {},
     "output_type": "display_data"
    },
    {
     "data": {
      "text/latex": [
       "$\\displaystyle \\gamma$"
      ],
      "text/plain": [
       "gamma"
      ]
     },
     "metadata": {},
     "output_type": "display_data"
    },
    {
     "data": {
      "text/latex": [
       "$\\displaystyle \\cos{\\left(\\alpha \\right)}$"
      ],
      "text/plain": [
       "cos(alpha)"
      ]
     },
     "metadata": {},
     "output_type": "display_data"
    },
    {
     "data": {
      "text/latex": [
       "$\\displaystyle - \\sin{\\left(\\alpha \\right)}$"
      ],
      "text/plain": [
       "-sin(alpha)"
      ]
     },
     "metadata": {},
     "output_type": "display_data"
    },
    {
     "data": {
      "text/latex": [
       "$\\displaystyle 3 \\gamma + \\sin{\\left(\\beta \\right)} + \\cos{\\left(\\alpha \\right)}$"
      ],
      "text/plain": [
       "3*gamma + sin(beta) + cos(alpha)"
      ]
     },
     "metadata": {},
     "output_type": "display_data"
    }
   ],
   "source": [
    "#Definicion de múltiples variables a la vez, a través de tuplas\n",
    "alpha, beta, gamma = symbols('alpha, beta, gamma')\n",
    "display(alpha)\n",
    "display(beta)\n",
    "display(gamma)\n",
    "#Aplicando una función trigonométrica\n",
    "c = cos(alpha)\n",
    "display(cos(alpha))\n",
    "#Aplicando una derivada\n",
    "d = diff(c, alpha)\n",
    "display (d)\n",
    "#Construyendo una ecuación\n",
    "eq = cos(alpha) + sin(beta) + 3*gamma\n",
    "display(eq)"
   ]
  },
  {
   "cell_type": "markdown",
   "id": "8996dd4e-440e-48ea-bad4-6bea20918c76",
   "metadata": {},
   "source": [
    "### Matrices\n",
    "Se pueden inicializar con:\n",
    "~~~python\n",
    "varMatrix = Matrix([ [fila1], [fila2], [fila3], [fila4] ])\n",
    "~~~\n",
    "Pueden contener valores numéricos ó variables simbólicas"
   ]
  },
  {
   "cell_type": "code",
   "execution_count": 3,
   "id": "00326e59",
   "metadata": {},
   "outputs": [
    {
     "data": {
      "text/latex": [
       "$\\displaystyle \\left[\\begin{matrix}1 & 2\\\\3 & 4\\end{matrix}\\right]$"
      ],
      "text/plain": [
       "Matrix([\n",
       "[1, 2],\n",
       "[3, 4]])"
      ]
     },
     "metadata": {},
     "output_type": "display_data"
    }
   ],
   "source": [
    "#Definicion de una matriz\n",
    "R = Matrix([ [1, 2], [3, 4]])\n",
    "display(R)"
   ]
  },
  {
   "cell_type": "markdown",
   "id": "0c7b0415-98d8-4e5a-821d-bc8425a05570",
   "metadata": {},
   "source": [
    "#### Operaciones con matrices\n",
    "Los operadores de suma, resta y multiplicación tienen sobrecargas para funcionar con matrices. Además, se pueden utilizar funciones implementadas en las matrices"
   ]
  },
  {
   "cell_type": "code",
   "execution_count": 4,
   "id": "57b762ae",
   "metadata": {},
   "outputs": [
    {
     "data": {
      "text/latex": [
       "$\\displaystyle \\left[\\begin{matrix}4 & 8\\\\12 & 16\\end{matrix}\\right]$"
      ],
      "text/plain": [
       "Matrix([\n",
       "[ 4,  8],\n",
       "[12, 16]])"
      ]
     },
     "metadata": {},
     "output_type": "display_data"
    },
    {
     "data": {
      "text/latex": [
       "$\\displaystyle \\left[\\begin{matrix}7 & 10\\\\15 & 22\\end{matrix}\\right]$"
      ],
      "text/plain": [
       "Matrix([\n",
       "[ 7, 10],\n",
       "[15, 22]])"
      ]
     },
     "metadata": {},
     "output_type": "display_data"
    },
    {
     "data": {
      "text/latex": [
       "$\\displaystyle -2$"
      ],
      "text/plain": [
       "-2"
      ]
     },
     "metadata": {},
     "output_type": "display_data"
    }
   ],
   "source": [
    "#Suma y multiplicación por escalar\n",
    "display(R + (3*R))\n",
    "#Multiplicación de matrices\n",
    "display(R*R)\n",
    "#Determinante\n",
    "display(R.det())"
   ]
  },
  {
   "cell_type": "markdown",
   "id": "2a81f764",
   "metadata": {},
   "source": [
    "#### Simplificación\n",
    "El método .simplify() toma una exŕesión simbólica y realiza operaciones e identidades para simplificar la expresión"
   ]
  },
  {
   "cell_type": "code",
   "execution_count": 11,
   "id": "8bba0a50",
   "metadata": {},
   "outputs": [
    {
     "data": {
      "text/latex": [
       "$\\displaystyle 1$"
      ],
      "text/plain": [
       "1"
      ]
     },
     "execution_count": 11,
     "metadata": {},
     "output_type": "execute_result"
    }
   ],
   "source": [
    "#Simplificacion del determinante de la matriz de rotacion\n",
    "A = Symbol('A')\n",
    "eq2 = pow(cos(A), 2) + pow(sin(A), 2)\n",
    "eq2.simplify()"
   ]
  },
  {
   "cell_type": "markdown",
   "id": "91c87925",
   "metadata": {},
   "source": [
    "#### Función\n",
    "Las ecuaciones se pueden generar a través de una función"
   ]
  },
  {
   "cell_type": "code",
   "execution_count": 13,
   "id": "74417f5c",
   "metadata": {},
   "outputs": [
    {
     "data": {
      "text/latex": [
       "$\\displaystyle \\left[\\begin{matrix}1 & 2\\\\3 & 4\\end{matrix}\\right]$"
      ],
      "text/plain": [
       "Matrix([\n",
       "[1, 2],\n",
       "[3, 4]])"
      ]
     },
     "execution_count": 13,
     "metadata": {},
     "output_type": "execute_result"
    }
   ],
   "source": [
    "#Definicion de una matriz como función\n",
    "def matrix_func(m_1, m_2, m_3, m_4):\n",
    "    R = Matrix([ [m_1, m_2], [m_3, m_4]])\n",
    "    return R\n",
    "matrix_func(1, 2, 3, 4)"
   ]
  },
  {
   "cell_type": "markdown",
   "id": "7d4e3300-b137-4f02-b9e4-40732ccc039e",
   "metadata": {},
   "source": [
    "# Matriz de transformación homogenea\n",
    "\n",
    "La matriz de tranformación homógenea es un arreglo el cual contiene las relaciones de posición y orientación, la cual se define:\n",
    "\n",
    "$$\n",
    "{}^{i}\\mathbf{T}_{j} = \n",
    "\\begin{pmatrix}\n",
    "{}^{i}\\mathbf{R}_{j} & {}^{i}\\mathbf{p}_{j}\\\\\n",
    "\\mathbf{0}^{T} & 1 \n",
    "\\end{pmatrix}\n",
    "$$\n",
    "\n",
    "- ${}^{i}\\mathbf{R}_{j}$ es la matriz de rotación que describe la orientación de un sistema {j} con respecto a un sistema anterior {i}.\n",
    "\n",
    "- ${}^{i}\\mathbf{p}_{j}$ es el vector de posición del origen del sistema {j} con respecto al origen del sistema {i}.\n",
    "\n",
    "- $\\mathbf{0}^{T}$ es el vector de perspectiva, que para este caso se determina como nulo.\n",
    "\n",
    "- 1 es el factor de escala de la matriz, que para este caso se mantiene unitario. \n",
    "\n",
    "Podemos definir una matriz de transformación general, con las matrices de rotación y traslación en todos los ejes"
   ]
  },
  {
   "cell_type": "markdown",
   "id": "e714a2b8-15f1-457b-9892-b896d6afd30b",
   "metadata": {},
   "source": [
    "# Matrices de rotación\n",
    "\n",
    "Definiendo las matrices de rotación de forma separada"
   ]
  },
  {
   "cell_type": "code",
   "execution_count": 14,
   "id": "62ddef99-412d-4668-a0cc-9504c3662f41",
   "metadata": {},
   "outputs": [
    {
     "data": {
      "text/latex": [
       "$\\displaystyle \\left[\\begin{matrix}1 & 0 & 0\\\\0 & \\cos{\\left(\\gamma \\right)} & - \\sin{\\left(\\gamma \\right)}\\\\0 & \\sin{\\left(\\gamma \\right)} & \\cos{\\left(\\gamma \\right)}\\end{matrix}\\right]$"
      ],
      "text/plain": [
       "Matrix([\n",
       "[1,          0,           0],\n",
       "[0, cos(gamma), -sin(gamma)],\n",
       "[0, sin(gamma),  cos(gamma)]])"
      ]
     },
     "execution_count": 14,
     "metadata": {},
     "output_type": "execute_result"
    }
   ],
   "source": [
    "R_x = Matrix([ [1, 0, 0], [0, cos(gamma), -sin(gamma)],[0, sin(gamma), cos(gamma)]])\n",
    "R_x"
   ]
  },
  {
   "cell_type": "code",
   "execution_count": 32,
   "id": "0b67ee9e-6c38-4b00-9e74-d5d7bd65fe96",
   "metadata": {},
   "outputs": [
    {
     "data": {
      "text/latex": [
       "$\\displaystyle \\left[\\begin{matrix}\\cos{\\left(\\beta \\right)} & 0 & \\sin{\\left(\\beta \\right)}\\\\0 & 1 & 0\\\\- \\sin{\\left(\\beta \\right)} & 0 & \\cos{\\left(\\beta \\right)}\\end{matrix}\\right]$"
      ],
      "text/plain": [
       "Matrix([\n",
       "[ cos(beta), 0, sin(beta)],\n",
       "[         0, 1,         0],\n",
       "[-sin(beta), 0, cos(beta)]])"
      ]
     },
     "execution_count": 32,
     "metadata": {},
     "output_type": "execute_result"
    }
   ],
   "source": [
    "R_y = Matrix([ [cos(beta), 0, sin(beta)], [0, 1, 0],[-sin(beta), 0, cos(beta)]])\n",
    "R_y"
   ]
  },
  {
   "cell_type": "code",
   "execution_count": 31,
   "id": "415e08d6-6d48-4ffc-91d5-89bc1c18f334",
   "metadata": {},
   "outputs": [
    {
     "data": {
      "text/latex": [
       "$\\displaystyle \\left[\\begin{matrix}\\cos{\\left(\\alpha \\right)} & - \\sin{\\left(\\alpha \\right)} & 0\\\\\\sin{\\left(\\alpha \\right)} & \\cos{\\left(\\alpha \\right)} & 0\\\\0 & 0 & 1\\end{matrix}\\right]$"
      ],
      "text/plain": [
       "Matrix([\n",
       "[cos(alpha), -sin(alpha), 0],\n",
       "[sin(alpha),  cos(alpha), 0],\n",
       "[         0,           0, 1]])"
      ]
     },
     "execution_count": 31,
     "metadata": {},
     "output_type": "execute_result"
    }
   ],
   "source": [
    "R_z = Matrix([ [cos(alpha), -sin(alpha), 0], [sin(alpha), cos(alpha), 0],[0, 0, 1]])\n",
    "R_z"
   ]
  },
  {
   "cell_type": "code",
   "execution_count": 37,
   "id": "e13a1dee-ba31-4731-a8ad-0c8d4a6da717",
   "metadata": {},
   "outputs": [
    {
     "data": {
      "text/latex": [
       "$\\displaystyle \\left[\\begin{matrix}\\cos{\\left(\\alpha \\right)} \\cos{\\left(\\beta \\right)} & - \\sin{\\left(\\alpha \\right)} \\cos{\\left(\\beta \\right)} & \\sin{\\left(\\beta \\right)}\\\\\\sin{\\left(\\alpha \\right)} \\cos{\\left(\\gamma \\right)} + \\sin{\\left(\\beta \\right)} \\sin{\\left(\\gamma \\right)} \\cos{\\left(\\alpha \\right)} & - \\sin{\\left(\\alpha \\right)} \\sin{\\left(\\beta \\right)} \\sin{\\left(\\gamma \\right)} + \\cos{\\left(\\alpha \\right)} \\cos{\\left(\\gamma \\right)} & - \\sin{\\left(\\gamma \\right)} \\cos{\\left(\\beta \\right)}\\\\\\sin{\\left(\\alpha \\right)} \\sin{\\left(\\gamma \\right)} - \\sin{\\left(\\beta \\right)} \\cos{\\left(\\alpha \\right)} \\cos{\\left(\\gamma \\right)} & \\sin{\\left(\\alpha \\right)} \\sin{\\left(\\beta \\right)} \\cos{\\left(\\gamma \\right)} + \\sin{\\left(\\gamma \\right)} \\cos{\\left(\\alpha \\right)} & \\cos{\\left(\\beta \\right)} \\cos{\\left(\\gamma \\right)}\\end{matrix}\\right]$"
      ],
      "text/plain": [
       "Matrix([\n",
       "[                                   cos(alpha)*cos(beta),                                    -sin(alpha)*cos(beta),             sin(beta)],\n",
       "[sin(alpha)*cos(gamma) + sin(beta)*sin(gamma)*cos(alpha), -sin(alpha)*sin(beta)*sin(gamma) + cos(alpha)*cos(gamma), -sin(gamma)*cos(beta)],\n",
       "[sin(alpha)*sin(gamma) - sin(beta)*cos(alpha)*cos(gamma),  sin(alpha)*sin(beta)*cos(gamma) + sin(gamma)*cos(alpha),  cos(beta)*cos(gamma)]])"
      ]
     },
     "execution_count": 37,
     "metadata": {},
     "output_type": "execute_result"
    }
   ],
   "source": [
    "R_total = R_x * R_y * R_z\n",
    "R_total"
   ]
  },
  {
   "cell_type": "markdown",
   "id": "367eb8a4-7e5f-4817-bc98-1ba671507bd8",
   "metadata": {},
   "source": [
    "### Transformación como función\n",
    "Se puede generar una función que tome como parámetros las rotaciones y traslaciones, y regrese la matriz de transformación general"
   ]
  },
  {
   "cell_type": "code",
   "execution_count": 15,
   "id": "220e0541-b9c0-46e9-96c1-7d4f28885252",
   "metadata": {},
   "outputs": [],
   "source": [
    "def trans_homo(x, y, z, gamma, beta, alpha):\n",
    "    R_z = Matrix([ [cos(alpha), -sin(alpha), 0], [sin(alpha), cos(alpha), 0],[0, 0, 1]])\n",
    "    R_y = Matrix([ [cos(beta), 0, sin(beta)], [0, 1, 0],[-sin(beta), 0, cos(beta)]])\n",
    "    R_x = Matrix([ [1, 0, 0], [0, cos(gamma), -sin(gamma)],[0, sin(gamma), cos(gamma)]])\n",
    "\n",
    "    R = R_x * R_y * R_z\n",
    "    p = Matrix([[x],[y],[z]])\n",
    "    T = Matrix.vstack(Matrix.hstack(R, p), Matrix([[0,0,0,1]]))\n",
    "    return T   "
   ]
  },
  {
   "cell_type": "markdown",
   "id": "1f67b853-c5e9-4300-82c0-622d443b618f",
   "metadata": {},
   "source": [
    "Al usar Denavit-Hartemberg, reducimos las transformaciones a los ejes x & z, por lo que podemos construir la matriz de transformación sólo en esos dos ejes:"
   ]
  },
  {
   "cell_type": "code",
   "execution_count": 17,
   "id": "0b14334c-7dba-47bb-af60-f0a61b61c4dd",
   "metadata": {},
   "outputs": [],
   "source": [
    "def trans_homo_xz(x=0, z=0, gamma=0, alpha=0)->Matrix:\n",
    "    R_z = Matrix([ [cos(alpha), -sin(alpha), 0], [sin(alpha), cos(alpha), 0],[0, 0, 1]])\n",
    "    R_x = Matrix([ [1, 0, 0], [0, cos(gamma), -sin(gamma)],[0, sin(gamma), cos(gamma)]])\n",
    "\n",
    "    p_x = Matrix([[x],[0],[0]])\n",
    "    p_z = Matrix([[0],[0],[z]])\n",
    "\n",
    "    T_x = Matrix.vstack(Matrix.hstack(R_x, p_x), Matrix([[0,0,0,1]]))\n",
    "    T_z = Matrix.vstack(Matrix.hstack(R_z, p_z), Matrix([[0,0,0,1]]))\n",
    "    return T_x * T_z"
   ]
  },
  {
   "cell_type": "code",
   "execution_count": 23,
   "id": "e38e8ed8-fcdf-4500-8924-7122b31a57f0",
   "metadata": {},
   "outputs": [
    {
     "data": {
      "text/latex": [
       "$\\displaystyle \\left[\\begin{matrix}6.12323399573677 \\cdot 10^{-17} & -1.0 & 0 & 6.12323399573677 \\cdot 10^{-16}\\\\1.0 & 6.12323399573677 \\cdot 10^{-17} & 0 & 10.0\\\\0 & 0 & 1 & 0\\\\0 & 0 & 0 & 1\\end{matrix}\\right]$"
      ],
      "text/plain": [
       "Matrix([\n",
       "[6.12323399573677e-17,                 -1.0, 0, 6.12323399573677e-16],\n",
       "[                 1.0, 6.12323399573677e-17, 0,                 10.0],\n",
       "[                   0,                    0, 1,                    0],\n",
       "[                   0,                    0, 0,                    1]])"
      ]
     },
     "metadata": {},
     "output_type": "display_data"
    }
   ],
   "source": [
    "T1 = trans_homo(0, 0, 0, 0, 0, math.radians(90))\n",
    "T2 = trans_homo(10, 0, 0, 0, 0, 0)\n",
    "display(T1*T2)"
   ]
  },
  {
   "cell_type": "markdown",
   "id": "96c76783",
   "metadata": {},
   "source": [
    "# Ejemplo de aplicación\n",
    "\n",
    "Se propone cálcular el modelo cinemático directo de un robot tipo RRR sobre el plano xy, como se presenta en la siguiente figura:\n",
    "\n",
    "\n",
    "![RRR](imagenes/RRR_Robot.png)\n",
    "\n",
    "\n",
    "El modelo cinemático consiste en describir la pose, posición y orientación, del sistema de referencia {P} asociado al efector final del robot con respecto al sistema referencia inercial {O}. La pose del robot se describe mediante el vector de pose en función de las variables de postura del robot ${}^{O}\\mathbf{\\xi}_{P}(q)$\n",
    "\n",
    "\n",
    "$$\n",
    "{}^{O}\\mathbf{\\xi}_{P}(q) = \\begin{equation} \\begin{pmatrix}\n",
    "{}^{O}\\mathbf{p}_{P}(q) \\\\\n",
    "{}^{O}\\mathbf{\\theta}_{P}(q)\n",
    "\\end{pmatrix} \\end{equation} =\n",
    "$$\n",
    "\n",
    "\n",
    "$$\n",
    "= \\begin{equation} \\begin{pmatrix}\n",
    "{}^{O}x_{P}(q) \\\\ {}^{O}y_{P}(q) \\\\ {}^{O}z_{P}(q) \\\\ {}^{O}\\gamma_{P}(q) \\\\ {}^{O}\\beta_{P}(q) \\\\ {}^{O}\\alpha_{P}(q)\n",
    "\\end{pmatrix} \\end{equation}\n",
    "$$\n",
    "\n",
    "Para el cálculo del vector ${}^{O}\\mathbf{\\xi}_{P}$ es necesario cálcular la transformación homógenea ${}^{O}\\mathbf{T}_{P}$ siguendo el siguiente planteamiento:\n",
    "\n",
    "\n",
    "$$\n",
    "{}^{O}\\mathbf{T}_{P} = {}^{O}\\mathbf{T}_{1} \\, {}^{1}\\mathbf{T}_{2} \\, {}^{2}\\mathbf{T}_{3} \\, {}^{3}\\mathbf{T}_{p}\n",
    "$$\n",
    "\n",
    "A continuación, se presenta el cálculo de la transformación homogénea ${}^{O}\\mathbf{T}_{P}$ y del vector de postura del robot ${}^{O}\\mathbf{\\xi}_{P}(q)$:"
   ]
  },
  {
   "cell_type": "code",
   "execution_count": 28,
   "id": "b6bd4704",
   "metadata": {},
   "outputs": [
    {
     "data": {
      "text/latex": [
       "$\\displaystyle \\left[\\begin{matrix}\\cos{\\left(\\theta_{1} \\right)} & - \\sin{\\left(\\theta_{1} \\right)} & 0 & x_{1}\\\\\\sin{\\left(\\theta_{1} \\right)} & \\cos{\\left(\\theta_{1} \\right)} & 0 & y_{1}\\\\0 & 0 & 1 & 0\\\\0 & 0 & 0 & 1\\end{matrix}\\right]$"
      ],
      "text/plain": [
       "Matrix([\n",
       "[cos(theta_1), -sin(theta_1), 0, x_1],\n",
       "[sin(theta_1),  cos(theta_1), 0, y_1],\n",
       "[           0,             0, 1,   0],\n",
       "[           0,             0, 0,   1]])"
      ]
     },
     "execution_count": 28,
     "metadata": {},
     "output_type": "execute_result"
    }
   ],
   "source": [
    "# Definicion de las variables para la primera transformacion\n",
    "theta_1, x_1, y_1 = symbols('theta_1, x_1, y_1')\n",
    "\n",
    "T_0_1 = trans_homo(x_1, y_1, 0, 0, 0, theta_1)\n",
    "T_0_1"
   ]
  },
  {
   "cell_type": "code",
   "execution_count": 29,
   "id": "47822b3e",
   "metadata": {},
   "outputs": [
    {
     "data": {
      "text/latex": [
       "$\\displaystyle \\left[\\begin{matrix}\\cos{\\left(\\theta_{2} \\right)} & - \\sin{\\left(\\theta_{2} \\right)} & 0 & L_{1}\\\\\\sin{\\left(\\theta_{2} \\right)} & \\cos{\\left(\\theta_{2} \\right)} & 0 & 0\\\\0 & 0 & 1 & 0\\\\0 & 0 & 0 & 1\\end{matrix}\\right]$"
      ],
      "text/plain": [
       "Matrix([\n",
       "[cos(theta_2), -sin(theta_2), 0, L_1],\n",
       "[sin(theta_2),  cos(theta_2), 0,   0],\n",
       "[           0,             0, 1,   0],\n",
       "[           0,             0, 0,   1]])"
      ]
     },
     "execution_count": 29,
     "metadata": {},
     "output_type": "execute_result"
    }
   ],
   "source": [
    "# Definicion de las variables para la segunda transformacion\n",
    "L_1, theta_2 = symbols('L_1, theta_2')\n",
    "\n",
    "T_1_2 = trans_homo_xz(L_1, 0, 0, theta_2)\n",
    "T_1_2"
   ]
  },
  {
   "cell_type": "code",
   "execution_count": 30,
   "id": "7e5ab77b",
   "metadata": {},
   "outputs": [
    {
     "data": {
      "text/latex": [
       "$\\displaystyle \\left[\\begin{matrix}\\cos{\\left(\\theta_{3} \\right)} & - \\sin{\\left(\\theta_{3} \\right)} & 0 & L_{2}\\\\\\sin{\\left(\\theta_{3} \\right)} & \\cos{\\left(\\theta_{3} \\right)} & 0 & 0\\\\0 & 0 & 1 & 0\\\\0 & 0 & 0 & 1\\end{matrix}\\right]$"
      ],
      "text/plain": [
       "Matrix([\n",
       "[cos(theta_3), -sin(theta_3), 0, L_2],\n",
       "[sin(theta_3),  cos(theta_3), 0,   0],\n",
       "[           0,             0, 1,   0],\n",
       "[           0,             0, 0,   1]])"
      ]
     },
     "execution_count": 30,
     "metadata": {},
     "output_type": "execute_result"
    }
   ],
   "source": [
    "# Definicion de las variables para la tercera transformacion\n",
    "L_2, theta_3 = symbols('L_2, theta_3')\n",
    "\n",
    "T_2_3 = trans_homo_xz(L_2, 0, 0, theta_3)\n",
    "T_2_3"
   ]
  },
  {
   "cell_type": "code",
   "execution_count": 31,
   "id": "2da739bf",
   "metadata": {},
   "outputs": [
    {
     "data": {
      "text/latex": [
       "$\\displaystyle \\left[\\begin{matrix}1 & 0 & 0 & L_{3}\\\\0 & 1 & 0 & 0\\\\0 & 0 & 1 & 0\\\\0 & 0 & 0 & 1\\end{matrix}\\right]$"
      ],
      "text/plain": [
       "Matrix([\n",
       "[1, 0, 0, L_3],\n",
       "[0, 1, 0,   0],\n",
       "[0, 0, 1,   0],\n",
       "[0, 0, 0,   1]])"
      ]
     },
     "execution_count": 31,
     "metadata": {},
     "output_type": "execute_result"
    }
   ],
   "source": [
    "# Definicion de las variables para la cuarta transformacion\n",
    "L_3 = symbols('L_3')\n",
    "\n",
    "T_3_P = trans_homo_xz(L_3, 0, 0, 0)\n",
    "T_3_P"
   ]
  },
  {
   "cell_type": "markdown",
   "id": "679415de",
   "metadata": {},
   "source": [
    "Cálculando la matriz de transformación ${}^{O}\\mathbf{T}_{P}$"
   ]
  },
  {
   "cell_type": "code",
   "execution_count": 32,
   "id": "153da328",
   "metadata": {},
   "outputs": [
    {
     "data": {
      "text/latex": [
       "$\\displaystyle \\left[\\begin{matrix}\\cos{\\left(\\theta_{1} + \\theta_{2} + \\theta_{3} \\right)} & - \\sin{\\left(\\theta_{1} + \\theta_{2} + \\theta_{3} \\right)} & 0 & L_{1} \\cos{\\left(\\theta_{1} \\right)} + L_{2} \\cos{\\left(\\theta_{1} + \\theta_{2} \\right)} + L_{3} \\cos{\\left(\\theta_{1} + \\theta_{2} + \\theta_{3} \\right)} + x_{1}\\\\\\sin{\\left(\\theta_{1} + \\theta_{2} + \\theta_{3} \\right)} & \\cos{\\left(\\theta_{1} + \\theta_{2} + \\theta_{3} \\right)} & 0 & L_{1} \\sin{\\left(\\theta_{1} \\right)} + L_{2} \\sin{\\left(\\theta_{1} + \\theta_{2} \\right)} + L_{3} \\sin{\\left(\\theta_{1} + \\theta_{2} + \\theta_{3} \\right)} + y_{1}\\\\0 & 0 & 1 & 0\\\\0 & 0 & 0 & 1\\end{matrix}\\right]$"
      ],
      "text/plain": [
       "Matrix([\n",
       "[cos(theta_1 + theta_2 + theta_3), -sin(theta_1 + theta_2 + theta_3), 0, L_1*cos(theta_1) + L_2*cos(theta_1 + theta_2) + L_3*cos(theta_1 + theta_2 + theta_3) + x_1],\n",
       "[sin(theta_1 + theta_2 + theta_3),  cos(theta_1 + theta_2 + theta_3), 0, L_1*sin(theta_1) + L_2*sin(theta_1 + theta_2) + L_3*sin(theta_1 + theta_2 + theta_3) + y_1],\n",
       "[                               0,                                 0, 1,                                                                                          0],\n",
       "[                               0,                                 0, 0,                                                                                          1]])"
      ]
     },
     "execution_count": 32,
     "metadata": {},
     "output_type": "execute_result"
    }
   ],
   "source": [
    "T_0_P = simplify(T_0_1*T_1_2*T_2_3*T_3_P) \n",
    "T_0_P"
   ]
  },
  {
   "cell_type": "code",
   "execution_count": 51,
   "id": "e8506275-2ec7-4300-a29f-2df37a33028f",
   "metadata": {},
   "outputs": [],
   "source": [
    "T_0_3 = simplify(T_0_1*T_1_2*T_2_3) \n",
    "T_0_2 = simplify(T_0_1*T_1_2)"
   ]
  },
  {
   "cell_type": "markdown",
   "id": "8201bd1b-62b4-44af-9020-769bcc133ee8",
   "metadata": {},
   "source": [
    "## Vector de postura del robot\n",
    "\n",
    "El vector de postura del robot "
   ]
  },
  {
   "cell_type": "code",
   "execution_count": 33,
   "id": "d447907b",
   "metadata": {},
   "outputs": [
    {
     "data": {
      "text/latex": [
       "$\\displaystyle \\left[\\begin{matrix}L_{1} \\cos{\\left(\\theta_{1} \\right)} + L_{2} \\cos{\\left(\\theta_{1} + \\theta_{2} \\right)} + L_{3} \\cos{\\left(\\theta_{1} + \\theta_{2} + \\theta_{3} \\right)} + x_{1}\\\\L_{1} \\sin{\\left(\\theta_{1} \\right)} + L_{2} \\sin{\\left(\\theta_{1} + \\theta_{2} \\right)} + L_{3} \\sin{\\left(\\theta_{1} + \\theta_{2} + \\theta_{3} \\right)} + y_{1}\\\\\\theta_{1} + \\theta_{2} + \\theta_{3}\\end{matrix}\\right]$"
      ],
      "text/plain": [
       "Matrix([\n",
       "[L_1*cos(theta_1) + L_2*cos(theta_1 + theta_2) + L_3*cos(theta_1 + theta_2 + theta_3) + x_1],\n",
       "[L_1*sin(theta_1) + L_2*sin(theta_1 + theta_2) + L_3*sin(theta_1 + theta_2 + theta_3) + y_1],\n",
       "[                                                               theta_1 + theta_2 + theta_3]])"
      ]
     },
     "execution_count": 33,
     "metadata": {},
     "output_type": "execute_result"
    }
   ],
   "source": [
    "xi_0_P = Matrix([T_0_P[0,3], T_0_P[1,3], theta_1 + theta_2 + theta_3])\n",
    "xi_0_P"
   ]
  },
  {
   "cell_type": "markdown",
   "id": "f7adb514",
   "metadata": {},
   "source": [
    "### Posición del robot\n",
    "\n",
    "Calculando la posición del robot a partir de los datos de las juntas "
   ]
  },
  {
   "cell_type": "markdown",
   "id": "a8ea9666-0836-4f89-bd25-e11a33f726c2",
   "metadata": {},
   "source": [
    "Sustituyendo un valor a la vez:"
   ]
  },
  {
   "cell_type": "code",
   "execution_count": 34,
   "id": "459429e6-ecfd-42fe-8d02-9a1f02e6aaad",
   "metadata": {},
   "outputs": [
    {
     "data": {
      "text/latex": [
       "$\\displaystyle \\left[\\begin{matrix}6.12323399573677 \\cdot 10^{-17} L_{1} + L_{2} \\cos{\\left(\\theta_{2} + 1.5707963267949 \\right)} + L_{3} \\cos{\\left(\\theta_{2} + \\theta_{3} + 1.5707963267949 \\right)} + x_{1}\\\\1.0 L_{1} + L_{2} \\sin{\\left(\\theta_{2} + 1.5707963267949 \\right)} + L_{3} \\sin{\\left(\\theta_{2} + \\theta_{3} + 1.5707963267949 \\right)} + y_{1}\\\\\\theta_{2} + \\theta_{3} + 1.5707963267949\\end{matrix}\\right]$"
      ],
      "text/plain": [
       "Matrix([\n",
       "[6.12323399573677e-17*L_1 + L_2*cos(theta_2 + 1.5707963267949) + L_3*cos(theta_2 + theta_3 + 1.5707963267949) + x_1],\n",
       "[                 1.0*L_1 + L_2*sin(theta_2 + 1.5707963267949) + L_3*sin(theta_2 + theta_3 + 1.5707963267949) + y_1],\n",
       "[                                                                               theta_2 + theta_3 + 1.5707963267949]])"
      ]
     },
     "execution_count": 34,
     "metadata": {},
     "output_type": "execute_result"
    }
   ],
   "source": [
    "xi_0_P.subs(theta_1, math.radians(90))"
   ]
  },
  {
   "cell_type": "markdown",
   "id": "f1948768-8290-424b-948c-d4b353fdd51d",
   "metadata": {},
   "source": [
    "Sustituyendo varios valores"
   ]
  },
  {
   "cell_type": "code",
   "execution_count": 43,
   "id": "f5f3d0ca-363d-4b90-b48e-3cde70d5d511",
   "metadata": {},
   "outputs": [
    {
     "data": {
      "text/latex": [
       "$\\displaystyle \\left[\\begin{matrix}3 \\cos{\\left(\\theta_{3} \\right)} + 3\\\\3 \\sin{\\left(\\theta_{3} \\right)}\\\\\\theta_{3}\\end{matrix}\\right]$"
      ],
      "text/plain": [
       "Matrix([\n",
       "[3*cos(theta_3) + 3],\n",
       "[    3*sin(theta_3)],\n",
       "[           theta_3]])"
      ]
     },
     "execution_count": 43,
     "metadata": {},
     "output_type": "execute_result"
    }
   ],
   "source": [
    "import math\n",
    "xi_0_P.subs([(L_1, 1), (L_2, 2), (L_3, 3), \n",
    "             (x_1, 0), (y_1, 0), \n",
    "             (theta_1, 0), \n",
    "             (theta_2, 0)])"
   ]
  },
  {
   "cell_type": "markdown",
   "id": "fb6c4788-a8b1-4469-80a8-61811588d338",
   "metadata": {},
   "source": [
    "Para obtener el ángulo en grados"
   ]
  },
  {
   "cell_type": "code",
   "execution_count": 44,
   "id": "53ba444e-7b6b-46e1-80a9-d0efa93d67e3",
   "metadata": {},
   "outputs": [
    {
     "data": {
      "text/plain": [
       "-45.0"
      ]
     },
     "execution_count": 44,
     "metadata": {},
     "output_type": "execute_result"
    }
   ],
   "source": [
    "math.degrees(xi_0_P.subs([(x_1, 0), (y_1, 0), \n",
    "                          (L_1, 1), (L_2, 0), (L_3, 1), \n",
    "                          (theta_1, math.radians(45)), \n",
    "                          (theta_2, math.radians(-45)), \n",
    "                          (theta_3, math.radians(-45))])[2])"
   ]
  },
  {
   "cell_type": "markdown",
   "id": "2efbb75b-66a0-45bb-b7a5-f6938fb8177a",
   "metadata": {},
   "source": [
    "## Gráfica\n",
    "\n",
    "Ahora, importaremos librerías para poder graficar una posición del robot"
   ]
  },
  {
   "cell_type": "code",
   "execution_count": 49,
   "id": "044a87ae-95fa-4018-807a-3b29b8e3fa43",
   "metadata": {},
   "outputs": [],
   "source": [
    "import matplotlib\n",
    "import matplotlib.pyplot as plt\n",
    "import numpy as np"
   ]
  },
  {
   "cell_type": "markdown",
   "id": "346bc142-a886-4d8e-b23f-70ab4c1e4ee5",
   "metadata": {},
   "source": [
    "Tomaremos las matrices homogéneas para obtener las posiciones de cada sistema de referencia del robot, y en ellas sustituiremos un valor para las articulaciones"
   ]
  },
  {
   "cell_type": "code",
   "execution_count": 52,
   "id": "a1b09281-2330-41d7-844a-71cd40ee9af0",
   "metadata": {},
   "outputs": [],
   "source": [
    "#Posición del sistema 1\n",
    "px_1 = 1\n",
    "py_1 = 1\n",
    "#Valores del espacio de trabajo\n",
    "th_1 = math.radians(90)\n",
    "th_2 = math.radians(-45)\n",
    "th_3 = math.radians(0)\n",
    "t_0_P = T_0_P.subs([(x_1, px_1), (y_1, py_1), (L_1, 1), (L_2, 1), (L_3, 1), (theta_1, th_1), (theta_2, th_2), (theta_3, th_3)]) \n",
    "t_0_3 = T_0_3.subs([(x_1, px_1), (y_1, py_1), (L_1, 1), (L_2, 1), (L_3, 1), (theta_1, th_1), (theta_2, th_2), (theta_3, th_3)]) \n",
    "t_0_2 = T_0_2.subs([(x_1, px_1), (y_1, py_1), (L_1, 1), (L_2, 1), (L_3, 1), (theta_1, th_1), (theta_2, th_2), (theta_3, th_3)])\n",
    "t_0_1 = T_0_1.subs([(x_1, px_1), (y_1, py_1), (L_1, 1), (L_2, 1), (L_3, 1), (theta_1, th_1), (theta_2, th_2), (theta_3, th_3)])\n"
   ]
  },
  {
   "cell_type": "markdown",
   "id": "0df46555-8644-4a65-b6c6-6ff3a64c8041",
   "metadata": {},
   "source": [
    "Para finalmente generar la gráfica con la librería matplotlib"
   ]
  },
  {
   "cell_type": "code",
   "execution_count": 59,
   "id": "cc080144-14c2-4712-8718-a8ce94548924",
   "metadata": {},
   "outputs": [
    {
     "data": {
      "image/png": "[encoded data removed]",
      "text/plain": [
       "<Figure size 640x480 with 1 Axes>"
      ]
     },
     "metadata": {},
     "output_type": "display_data"
    }
   ],
   "source": [
    "x1 = [t_0_1[0,3], t_0_2[0,3]] \n",
    "y1 = [t_0_1[1,3], t_0_2[1,3]] \n",
    "x2 = [t_0_2[0,3], t_0_3[0,3]] \n",
    "y2 = [t_0_2[1,3], t_0_3[1,3]] \n",
    "x3 = [t_0_3[0,3], t_0_P[0,3]] \n",
    "y3 = [t_0_3[1,3], t_0_P[1,3]] \n",
    "plt.plot(x1, y1, linewidth = 20.0, color = \"RED\")\n",
    "plt.plot(x2, y2, linewidth = 20.0, color = \"green\")\n",
    "plt.plot(x3, y3, linewidth = 20.0, color = (0, 0, 1.0))\n",
    "plt.axis((0,4,0,4))\n",
    "plt.show()"
   ]
  },
  {
   "cell_type": "markdown",
   "id": "e34c70bb-eccd-4184-bdf1-deaa17a7ba5b",
   "metadata": {},
   "source": [
    "## Animación\n",
    "Utilizando matplotlib.animation, se puede crear una función que cree frames para cada posición y éstos se animen"
   ]
  },
  {
   "cell_type": "code",
   "execution_count": 62,
   "id": "c0f8c803-c4fb-472d-8b84-7ef5010c98ec",
   "metadata": {
    "scrolled": true
   },
   "outputs": [
    {
     "data": {
      "text/plain": [
       "<Figure size 640x480 with 0 Axes>"
      ]
     },
     "metadata": {},
     "output_type": "display_data"
    },
    {
     "data": {
      "image/png": "[encoded data removed]",
      "text/plain": [
       "<Figure size 640x480 with 1 Axes>"
      ]
     },
     "metadata": {},
     "output_type": "display_data"
    }
   ],
   "source": [
    "import matplotlib.animation as animation\n",
    "plt.clf()\n",
    "fig, ax = plt.subplots()\n",
    "b1 = ax.plot(0, 0, linewidth = 20.0, color = \"RED\")[0]\n",
    "b2 = ax.plot(0, 0, linewidth = 20.0, color = \"GREEN\")[0]\n",
    "b3 = ax.plot(0, 0, linewidth = 20.0, color = \"BLUE\")[0]\n",
    "ax.set(xlim = [0, 4], ylim = [0, 4])\n",
    "def animar(frame):\n",
    "  th_1 = math.radians(45)\n",
    "  th_2 = math.radians(frame)\n",
    "  th_3 = math.radians(45)\n",
    "  t_0_P = T_0_P.subs([(x_1, px_1), (y_1, py_1), (L_1, 1), (L_2, 1), (L_3, 1), (theta_1, th_1), (theta_2, th_2), (theta_3, th_3)]) \n",
    "  t_0_3 = T_0_3.subs([(x_1, px_1), (y_1, py_1), (L_1, 1), (L_2, 1), (L_3, 1), (theta_1, th_1), (theta_2, th_2), (theta_3, th_3)]) \n",
    "  t_0_2 = T_0_2.subs([(x_1, px_1), (y_1, py_1), (L_1, 1), (L_2, 1), (L_3, 1), (theta_1, th_1), (theta_2, th_2), (theta_3, th_3)])\n",
    "  t_0_1 = T_0_1.subs([(x_1, px_1), (y_1, py_1), (L_1, 1), (L_2, 1), (L_3, 1), (theta_1, th_1), (theta_2, th_2), (theta_3, th_3)])\n",
    "  x1 = [t_0_1[0,3], t_0_2[0,3]] \n",
    "  y1 = [t_0_1[1,3], t_0_2[1,3]] \n",
    "  x2 = [t_0_2[0,3], t_0_3[0,3]] \n",
    "  y2 = [t_0_2[1,3], t_0_3[1,3]] \n",
    "  x3 = [t_0_3[0,3], t_0_P[0,3]] \n",
    "  y3 = [t_0_3[1,3], t_0_P[1,3]]\n",
    "  b1.set_xdata([t_0_1[0,3], t_0_2[0,3]])\n",
    "  b1.set_ydata([t_0_1[1,3], t_0_2[1,3]])\n",
    "  b2.set_xdata([t_0_2[0,3], t_0_3[0,3]])\n",
    "  b2.set_ydata([t_0_2[1,3], t_0_3[1,3]])\n",
    "  b3.set_xdata([t_0_3[0,3], t_0_P[0,3]])\n",
    "  b3.set_ydata([t_0_3[1,3], t_0_P[1,3]])\n",
    "  return\n",
    "anim = animation.FuncAnimation(fig=fig, func=animar, frames=180, interval=50)\n"
   ]
  },
  {
   "cell_type": "markdown",
   "id": "82faad0b-791d-405c-8fd3-d26fee171968",
   "metadata": {},
   "source": [
    "Finalmente, podemos crear una animación con estos frames: \n",
    "\n",
    "Es necesario instalar una extensión con\n",
    "~~~bash\n",
    "$ sudo apt-get install ffmpeg\n",
    "~~~"
   ]
  },
  {
   "cell_type": "code",
   "execution_count": 63,
   "id": "840a36f5-9303-4a78-b233-0bdd8b7cf7fe",
   "metadata": {},
   "outputs": [
    {
     "data": {
      "text/html": [
       "<video width=\"640\" height=\"480\" controls autoplay loop>\n",
       "  <source type=\"video/mp4\" src=\"data:video/mp4;base64,AAAAIGZ0eXBNNFYgAAACAE00ViBpc29taXNvMmF2YzEAAAAIZnJlZQABHAVtZGF0AAACrwYF//+r\n",
       "3EXpvebZSLeWLNgg2SPu73gyNjQgLSBjb3JlIDE2MyByMzA2MCA1ZGI2YWE2IC0gSC4yNjQvTVBF\n",
       "Ry00IEFWQyBjb2RlYyAtIENvcHlsZWZ0IDIwMDMtMjAyMSAtIGh0dHA6Ly93d3cudmlkZW9sYW4u\n",
       "b3JnL3gyNjQuaHRtbCAtIG9wdGlvbnM6IGNhYmFjPTEgcmVmPTMgZGVibG9jaz0xOjA6MCBhbmFs\n",
       "eXNlPTB4MzoweDExMyBtZT1oZXggc3VibWU9NyBwc3k9MSBwc3lfcmQ9MS4wMDowLjAwIG1peGVk\n",
       "X3JlZj0xIG1lX3JhbmdlPTE2IGNocm9tYV9tZT0xIHRyZWxsaXM9MSA4eDhkY3Q9MSBjcW09MCBk\n",
       "ZWFkem9uZT0yMSwxMSBmYXN0X3Bza2lwPTEgY2hyb21hX3FwX29mZnNldD0tMiB0aHJlYWRzPTE1\n",
       "IGxvb2thaGVhZF90aHJlYWRzPTIgc2xpY2VkX3RocmVhZHM9MCBucj0wIGRlY2ltYXRlPTEgaW50\n",
       "ZXJsYWNlZD0wIGJsdXJheV9jb21wYXQ9MCBjb25zdHJhaW5lZF9pbnRyYT0wIGJmcmFtZXM9MyBi\n",
       "X3B5cmFtaWQ9MiBiX2FkYXB0PTEgYl9iaWFzPTAgZGlyZWN0PTEgd2VpZ2h0Yj0xIG9wZW5fZ29w\n",
       "PTAgd2VpZ2h0cD0yIGtleWludD0yNTAga2V5aW50X21pbj0yMCBzY2VuZWN1dD00MCBpbnRyYV9y\n",
       "ZWZyZXNoPTAgcmNfbG9va2FoZWFkPTQwIHJjPWNyZiBtYnRyZWU9MSBjcmY9MjMuMCBxY29tcD0w\n",
       "LjYwIHFwbWluPTAgcXBtYXg9NjkgcXBzdGVwPTQgaXBfcmF0aW89MS40MCBhcT0xOjEuMDAAgAAA\n",
       "F/9liIQAP//+92ifAptaQ3qA5JXFJdtPgf+rZ3B8j+kDAAADAAADAAAEMCOP9CT+H5qTAAADAEQA\n",
       "C+HzaJidJHicABF2cBZ8iQAH6BqVTOpbyxNo6SffNylzH2uThhK8/BZgFdWgUxaIH6mDFjS8vdBk\n",
       "dHkjqN/fonmu1VwQgWcIYWxo7MkyeAEyOIdyMXvPYuENfgjQWHdpY2HV/p4Nwnr/LREKl6E2/RTH\n",
       "CY4BblosQbLy/Ehzy5Ovf/ouwO+8B5pqAvX8pHksDVQ9cs0w6rT0JeuYpT7H2Rob5d5P0aPMo1bo\n",
       "f93XcXFs2y8hQ5WzTzKDc7u2z0r50TLcICyZBilAjhNC8TNkv6AGoMMyx9gPp9o+BkK9rUbodHG0\n",
       "Szz1MnmXR8lTsJYeWOAKNtGGrT2tARIpyFcuAaI3nNqzgxuSXI9L3lNEZPiIT0MDYICTzyoDkWp7\n",
       "zoMxhzYWqO6mLPd4kpwvioVZEeSBH1aeOgoJ1FKkvFOCwEfbcmAk8So7B+o7JvCZGZkgu1+YeM6m\n",
       "lUsrCUZN8oc63Dz+j0djNrw2OjDgApJCL9hF5RQg2aWJ8kzJCH3SI35YQD0kCJECHuSeEpkzzQhK\n",
       "YBgxb9ZGu7bIdmp1uTIutq264V+uuP27D7wZqUftToa0i7RlAws3789cKZqMZIA0yuHnEckWSNJL\n",
       "U+mDWNFQRVpNt4wU/WbH31R2Gbs4GD5V8NSWwyXHm/aZwRmFqEtSXyItaKAB0eRkP9kTEAYTnsxG\n",
       "/4P//C8dO58rLVPeEz4D5bK7t3stJvLrwGcMHPaf33z3nqjMT4IQW7042jma90dG2w0eiq+2iH/E\n",
       "GNRG7TKhMBkuOac2FrjWiBQZSyNc38TSq1UXjrlJv3j30aEAmvm40e7Gr6oQwJXMJvm8rmR83ulo\n",
       "rEuFCRZhtbWu9puzNSAYHYb2CrKiMLrued2KArLt2ZXN11k+TGw7Fgp6IFinZ/N9jf56W7nlg5E9\n",
       "ZadVdOXmlVgxud+ihzvSizEfJQQOnYnuNNrQ9cJIf2ZLVYT+Cqye3YUTjtnJEIi6r2DfwKv9CAHV\n",
       "FUREMoUwhcjNIoPETDkxVvZnCcp01JS2v3uIojK5h4EZq1FKtd2VkCxcelm6bBr2A9TPnbrpIEqQ\n",
       "TGM0OfCENgMYaouPqKjBdLbd9nbHTlXoUehrq97gOFgNzTcOtDpn13wQaK5Fa5jUj0EJKqSePRO/\n",
       "P1jl0xQuv2gDN37naBjMtpDABN2zS0M6GJk3B82Peypk4O+L1ycHAnSiqq5xc/8J9B0v12YGQKKa\n",
       "lYKRuZy1UWxJw9KJRU2KSNrz/2AuQgQqMp60lazSk6uaE1GQ8Q8x7f7we1CpmO+pamVx4SJ/pEIW\n",
       "sNHTQvMYANBGpw3DT5X2WKN+xmvLfdDkPEg80mQKYgZkWoQaa5GjpyzF4YVXsu2q6DtdqQhUxp3O\n",
       "SugpMOt7zJs9Q/urQRr6c8HU8vSXLl7zMW+LubFmHJaotChgjMhKuRAkth/e88ohiHEPeFL9+qzf\n",
       "s/ONwsQtdHTzMUwlFCJTgwYjkVOgUxb1eCTQii5Aufo3wpYoAX3jegzhWvREpfGDON516sAAfF8t\n",
       "1ovIP/6N+IEynmq0oy/qGHLbeb1/Vs3Muye7oWvaaAPeRmap7ZhYKvbz0nf4se2To6wVN+i6qzI4\n",
       "/XOUcLFylMyazr/4AYGaxAbpZhwczDwn88uwZxJteSqfjD0qIjGUmoflVBvEyPT2znhzusqRAp07\n",
       "Q6vxQFIqqzYO7ISnjxsUo3IWfzxnSLkOxgvM7Bs17AwYd7AS4yecjs1KTnh58qFt3mjUcEMMjfwJ\n",
       "y0pKzarvx6FG5sDYHbUTQp7ebOPrBzg8I1Ff4yFBYRHXG8IMb+Ez6Kq1ZzmCM/9fREzI7ghssdEJ\n",
       "D6SDZfNn+W5SgJBpfDmdw0fO9qV95rDI2DjE+pTO2jg9a157hXNodsU74FsMSQvq0kDV3xKDSRWm\n",
       "dS1iS0+5OkGNkvT065Pw+eGgCiHNkKgyFWtvbLRWvriaJciLqlniJIcR93sYniK9ZriV5gK5J6L5\n",
       "ULCXD3NE6VSauWx9Bz9q8Oa85GFVqdzjZ8ASrvIzSr6KseFzs8O7kqWLxQ2K0Q+EizDV+bUuJHke\n",
       "zPqcVcwKTYzBgilfGnhAlhkpueieb6d4SZlQtsrd4idfmqLAWwVhSc9osRTwfSheb0ZahWrELDQ2\n",
       "TZIfpPXvb1GBEu70yuRbTT1UIXCGbsgvio0YI50fiseRRc04ubkDzY6BBEqB1DoY/D9YZPmvxrCm\n",
       "jTlXe6yS2llYxlXYBeHYwrHsuTUAKNORelVrX+iB3ohdxr+ojEJTrEubg/NL4Y+ADX/MB5Oem5Qw\n",
       "cjGUiM9N4VaJmDrPAkqzo8O+7pKrptBmRpK13ILp9Ml25apzg5IdU8hYb3s232MGcJ5FvLUj2jEN\n",
       "DSUJ605eMeV1hjodiVt4ZrE09XDMDUoXSXFq40+v5/8KeTcSdRsiLquhwr1FUYPNkjLzGXONuqGu\n",
       "9UR2b/3HLDUoM6Xv1y0ciPjpiSjFeMOA66rdMj+T3pDg/h5wCKDmQxmpBJRYG+E6h2B7aiHhalj8\n",
       "bEivHgAqi606QODXlMqUZQ66LP/WAAsHS8hgnhRfeW1WBIu6dcENE2+zCpD3DLBq08dJbEs18rVf\n",
       "A6wSUi1nJsbGMTOqIOWo8vzcVIEc5/4pVMLFQ/7fjBoHGTmYDx8+2qff0GcV8TyVGPPyYRlcJLnu\n",
       "PljxiB4q8AkgrH16aAISUKrWVNQljKH/KMa+5S6ItIc/t2QGoQJ4J30gd8tmz00OXeAxFu3pyTsC\n",
       "+QIeGSeBAiF28MP0itlGv7v1I7hEC0l/i9MfpBwndAqXP8WZYDmG9WInwFROwMPc+YMNgNw3wfDg\n",
       "iH9RqY2Gs67Qd2dk7iNZEqz7Ri5Ben69VNcG/bKvHu1L5DhdvywLoDbKj7NtYt5SoeIcZKauCsxE\n",
       "xlshZo7V6q4wPvm+Hf+Fo/WrV3WBSEizsYJPUUap+CWHdw6kic8ANXe8nqhjViz6cHgTvhb12c+3\n",
       "MOcM5bCw+9xFaR93uNENcGkeHgIjBdvTfZMEG323x1H93vdvKyFdWHS54Lbt9AJJT3RAXd5d6Mng\n",
       "fUW5gLLTDh4vljqW3lQ9aLbXwRgtEKc0gkP/YolbqzHbfAeCWrdfCL1qWPS2Oemn6Sx+yuK2gjtC\n",
       "0bNhUZYEcWsj9nVoV13YOC4mXfgG46MELV0exgIlRi4sAkVKigQwRjhIHjWJ10bOfxYAwx+1RWdV\n",
       "0cdWhriZarcvOLD38SF9nY1UpAcIYP+9N/2EDX0yAqUyfCKNZhJs01Cr5Otezz9P63BMoAbGoUOI\n",
       "OIOmBHuyIbPMrBv+Y5AHJjTaW6YgZH+6pzpWlU3MsCid4YxNf0NV1XuCl8zGqIDKNnzAVQWxG2Gb\n",
       "9ELuqilGb1qEbhEEUVupQiWHIt9PGHPSaeW6E9PLsWlGkv04hG6Tmg+pdYtFYH0kHQ6ON6YxAhEI\n",
       "O73hcCoG7/xRQuoqawd2IoQC4lMB2AQKtXJHkm5/eyxxpxFgw2DkhACKJZDnuPAYBr+Yo8I9FhIO\n",
       "gj+1dfmkf6lKItVub1tOrlq3bBiZ2mktzvHsHesZID4+Dz2KcEEpzLefWv3cC4bF2ANZGz6im44u\n",
       "0ulr3R7J80Cfz+g2n0Hv8wa0oM++S7aS74nsh4dRes7sHjlVNXgB2vbv0rTrRe/IH6FGQYkEJwQC\n",
       "oOONFswnWFS0LAqNCiKp95X2HJ4ORYk+Ddiu9O8/JYZgtTR4V+p4BKYiJmn1N1DjYBrAG/jmgRAw\n",
       "QZpnPLSoI1tlSfRVvI9igg8nNBtBGatb5arrbi8LD/AtSxDaZ2hpKhnh82UO2OyvZyoD/wugF5Zq\n",
       "7neIIXLmpanFKrFRbnFiCcJH7CdP2TCLMVuBeJcj097votiJU+ksQFKvfmfe1RdwcYpoGzgLLQ1J\n",
       "dSytmy5FbsOR3QVYnL3F3+8vsUboNxYAGq6ijeogQOfaqbvZ4y2yYW9LIuK1Tjpob1ANrxetQlWE\n",
       "xcLvlGJ+GJtgSvrgew3qGJVc5/Nta+7UPGCJ5F9Lmq47wEZNkIMeI7KDOlLqGUKdf0Xp2mgFDwXG\n",
       "GCFmblhbCdKeOUcL299rmqUjxkbni333xL8D3H3VYNwTOuBGyviTn1u+anRMk+frhpW62EZxTPUA\n",
       "k6Bx3dn8+swxOWyw8uCgAqeff9Cc9pCkaqZGj9CC4es47yqqGYE7JkqpmJR4E5PrgHFDG9GaPPcq\n",
       "E5NiTmJwMaonBRxeAxUrp9LA4gVC39m2F8XOOT+fK0O6hu8vUVqOErsdXdtUBMamIl+cguggVWBV\n",
       "hO0x04bsOqp0HXrZswNrpWvODGz+Hjr+F3Seb3E7/rkxj+F9gzG8BYEIw/kNkJZMAw/nzkQy+aea\n",
       "SUM9Du5dHwAaRChTbrdP+U5QMXypO13yIpbm0KvlXBo+4GDCBf7yT+9rUW27eRHFYYz6JTdSd0P1\n",
       "az4usKgPLeDjERAILpj2sjczaTGm3GZtWm7o6bCqRuS/Xo5JgStaGwSJthcKOWzkZrIACIe9Pnvn\n",
       "5feUPJUrkNuCuHlEdMhP/Gj5yv6lanQjZtWY9WBEulHZy6Se6Sg7xcwTWZrZvbW538hvq6zMXsHz\n",
       "ZRNCABntSC9y8rD1JclsJ/AhMnRjTTJCtIhqRQ83GT3ehAoA/R4uC2/mpwXs4HRl0NglNHkA+Avk\n",
       "xpzdRXVh42lyqb89017KImSJB5wYKV8zJUOqTDJAVkS2u7h76n7EiJ8WnPecNFjXGgxOxyX35eH9\n",
       "r5NxdxlIFLQXSMmDA+B76gVvbaRsti0GmE7nJ8IEw9Qaw8L0n46V9TtkA/XDcPm1wRCvWsPoOyOD\n",
       "3SRc7pNrCBA2QTwIlrWmEKV94ttC43+LUrezBQbIdppPSBnSW85loGxO7MsNliaCm3mlFfkfbzCP\n",
       "P3MJMbvmsrkAe+Drpe/m5G4Y8gmm0VfJ0fMiqeR3Vm3BchZvFMHIHVwLLSRKqDDlN0NUDzN6SSM3\n",
       "lUkAJZnL9IAA9crNYnbpQf32eGz5IeiNlYMW/K2cLExrJLdKviNmoxzcVfSQeRxBIYXZ1aWm1M6d\n",
       "fpN4eLzGkUjedf7jLFV9Agd4wGG+RPvZSlx85Cr0JRjKhwNQFqgxXOO5TcptlKuRg4pr9/DmfJf3\n",
       "+V9HUOFwhphGQhF6rluC52kJsVJdHbGsY4nj1BVMV5eDxdlj8Ph7D9ZvbbBzEty86rj81ePQGalP\n",
       "e6kFgihpLTjmJNZ4MLKFOn3lwKLlIUrwdRfmAQN8UoZp9XWwmwpKGrj12lDv9nAYxgBRxAS8gAT/\n",
       "tZQtpUBqxFaidFg6BnmkV3Ttcc66ze8Nrc43rwXRSb5N/JvTM52qPh93ddrWe3phdcy6oEdkfNSc\n",
       "uvWF+oHmZqCdsl5vwAdxdwgn77oOEhcPihUXB+yol5roeJW/G0FSnzLGH6egcshnslkW+ULG+zDO\n",
       "YAmcfcXK+h/gbHkDbRTPiFFr+7AdUzgkn6Rfm7dUK6S6zQ1w33x+4+gZ+EccSeHnRhJB/usT4FDq\n",
       "VvKizYwmoOovbzAgt2HiouwB6oCKb2anYNXR1Iwk/7dO3KQSBh6OF1+u8V79swRnEFteuWkz9Tmo\n",
       "nVbOVwQEmM++SDFJAAS0ofd0kmMgRZoVZlEfAMbopH+eB4W7oWlScBKM+H9xDwwPgyEKNTJznZIt\n",
       "ffpTkxg+izyv0wdOW1AHLbC38zjRADQsppq9cWpwAd7CPAe7Z1PJmhAxFraCXfGvW3p0utPEEkui\n",
       "+NuMiXnLRxSMAcxvf+edrLjIdiKBjuorQntx38sEqBPg/eT4EN8iYB1CwJQ6ULjq3iz4GzWDfmUQ\n",
       "xmyPikGRvpFW6FS489Jab5D0xttfAqeObqlEkxCNs1kV9YZIJHP56P5jIBI2wEmE+6lruQdTgpfg\n",
       "VwvvAKLU2g9FcD7Ja44cpwFXD2hRXe4pu5g5x/V4/Zwd9gdcHqQLAKEyZ3CqQAyOq7yNNzCM3FJI\n",
       "nuBov7/ewVm0kVozju+6O6us2PloyRshEBR7Qestpa+/yg6LtGqHes4hn3L+j3xVo5k/dF7Aa0Xx\n",
       "CQR7s7/GheKV4nRI2pO0+wD6au/3CyOO+8pIuX/cxzC506MzVL4jjED3ANWW1lnqE2ofu54pfTau\n",
       "RinNekbLsG0XfGf9lcXwtV9RrLwOVuNjc7SFxaMKu1mZ4LzLi1C1GuCzTPhIwiDbSb7lMmEMEF62\n",
       "p/c3cgqFINXNZbWvRu0HR0iz464NAtW33Mm8eyZFc36p9A3hz+yyXr+aGbLu7WXVNdW29qW32ClH\n",
       "7kNGc6xPsmIjRmCIqVwYYpK5HIEgcvM9BEINftepUQRT5c5fJBN0xVV8N6sb5kCZSno7c0h3X8OR\n",
       "RhhIEYyyFWr5AUlxonsaqzIW1CyhTpLVKF/NkKVkbLW7lar9/EmEs8thmWmfXQydBZgWCRJvlZYl\n",
       "0pxUD8cIn4NHFq/Pz97QSw/NWeQKV6PnEdtcJSLC+OKiie57S4+OotyXnMuYJZ5MARrreDkTtZIG\n",
       "yZGYi6Fi5PXLZpnFc/EPQxp8SfRr0Z0AB8T5tol6Pfd0u4vSjD0pclIrLSdUkTnEaADp4lfqCRnD\n",
       "GpjTXy0fK8AYDC5+cB8TUL0GcRp+2aSsIQRAf8tvR3TG7LK2S2ZNEDdwuMw5sFuCfxjy+VAlkQtd\n",
       "8J1G7F9sBM64C1DyvR2tJVZt5bmFd6+k980RbqANJL5RgyzmEIuDCPvQC2rllsUSy1YNpdafMCWv\n",
       "tDLkF49MEbp2YpZeYKSkWgEKXSSgwJc0+XB7qkQ64Qipjn9rb70wsEnn1RRoChbHypQp+T2F4T+M\n",
       "gIOewpnywrCNV5Ze1BWZ5g6CDmL6MeYQt2DxN2r0XoeomQ724xxSBf0fEDHryhkn5hkxV5Ptatjb\n",
       "zfiOp+O4DEjPZaahpdPXyv324SQFdbxfkvlAHP/pr/fn6myh501Ez6qQ35xiZgY+7vQelCN8fz0s\n",
       "68KssxdsZCTADedZSAUhLf4g3O2fvXF01b5vqSfiGF5Qg4nq4kyHfepqPgTQtgVBIPTrEDOzLmsV\n",
       "aqhsoklz5I2H2C3wL3iivv7fm1b7MxkvbliXnCHXrIO3hQ4QoFw13GiOOo6Z+y1PqGra+iCqa/2J\n",
       "TXCpjKaVib7dhW/UOnhU/+v/YJJswaQGVIYwBC/k8fEWslGIZPHZsALHrNVHrVqWrmDYa9Gxxpsf\n",
       "E+tUg9D6HWOtk8tKZQpWTPb0aJVcpMDWElLqp/+wmEE95X4Z/JT8DchOB/DnoyxK1iNXAFuKTVIH\n",
       "zOyLFzn/J7Y2QwzFRle6TuM+sOAiJ+PByES8p0SjHdTDDMShMz3w09yVRsiF8a3s9AEurMeqE/6a\n",
       "I5sbQLkePQ6qhydQQj6zR3hzcxuJInpRMGKcMYclfzF1SJjWeAyHJwn7bpMvXFsWkhZCm8NRcJ+W\n",
       "PqZ2H+U78uRu5x2guKlI2FAjOK1mnxfTdHSuBy4FUnDHZ6KbOB3qPhdJyHb70nPdWDc7iTIl3Mnj\n",
       "ZBwX5bRH4a01l89SxokdpfjZO+IH+ByFYi38n5U5tYk9NFljjg9GeiT9aOAyqa/Cm5TLKWnMCe7H\n",
       "yx/9fySm+t/RvgZBHXYvXIsimhODcg0qRmgLUl8ug+yzSWLJzyCoJi7ZuO9QEtkXLXsZyTjbRsqP\n",
       "7KzbTEb6KLjR0qboWW+E2oQsLyMX5C+tQsO9KolwsA3sBojbSUjCFSiO+BmJQwco6FcmQMmGj3KQ\n",
       "mL/CeLDuEg244ZhaDtusG3FH+pfGrBjaLtWdJsuE4YzjgYol7A30KTcpp0UELkO6A/IBdvgZyJeh\n",
       "+fuXeyq2WyzetzcSkzfyBpHLX1PJYymRScfRiVUx32P9YiAbJr8DrvBRYRSYtWhgdFWlz1Jjz5e/\n",
       "oVrrdYBXw1qOZ0ocHncvvzLjuthXbZaFf9i/fqS0xBhY7rk1+DuS0MEG/ugxd63uWoFd/Z+31hk0\n",
       "gVdkf2VQb8zNL/iFxNexbomiDUbT6wEi0kzlN2DKJt9dm+L8Bv4/43UkNmw3FW3Iqkw35HCup684\n",
       "SrrX5Zy9oqVjNGV+kuerq6PARjQe7u5GOxCR2ptsxhq8jaHvM7nboerdNnjxuFotFXvtGrNzqACK\n",
       "GjHiZ1oG99px2hiYL16frh/bl0YG3ADevpToZufpCBMgCEy7KbDvRGsgOAABLQAAA2RBmiRsQ7/+\n",
       "qZYAA1Wz/gZz4Acy6AX3FziKfS9LARAAcvVax4Lr30yR9qaC9KHoQFZx+HOOSsFik8C2ycwN+pcJ\n",
       "S2M4Kdew7Cro3fDperPuvpZXfOQwR4dDk0tCE5AbtVk4hYLelhKIkvd6OdZ3jqUKvD8G8Qo5atdN\n",
       "26urEw5pNZdODZ2YEn931AkhJF/Ky6m+hx5/hWA3cPg309m2xs5Dmk28qAkBfzVTBsb0B4MKgmU4\n",
       "zGkxAbynoAxItd36DRkAbA1SpLG4YBrj2ED6ylJyNpEKrYARtIzM1HA2VojN8Jrt4ugVZYOkZMDx\n",
       "Subco29FfcvtSL8hpHusqB+7d/nCk7xvINYCFujcXjHr/bvONbn+8+ZgfWqDkvZCD+pk2J5eFvio\n",
       "9hy+qcxpbJXwJlWCSgnwr78au9qOTUAdlOhx7gT3Zokg3avK7aoNghE73WVY5FRQMl9FNH5rtho2\n",
       "UynNhs+tIXFVi8Ti90kik2/ecM7pD9dxrNRsvyzd2kZzi7cbz5rImHvHfg76HZOUf9cXCNg385Ax\n",
       "dCbao16rvEmvkrFgs/SFiDfxUfEnhPRM065W0AJnB3dIY9yYhKAETvsbeeLAL0DRkKYZP9fxL4mX\n",
       "nYR3AqxaLQzA8BmZj/33NkAnSOoIf2Z5mczBScVO6RIOIhHy+w9ay/b0XRGAg1dnTtqMVV5YP8E2\n",
       "PGmdvnVQtRD0GIc0h6XM9L5A+6DY5U5wXFVFIuz2UF87zaXw1aM9s7neNXVdKxvn7h2otFSF+y4s\n",
       "sj/87PuB7co/HeouY7aVqqdgWwQDiBxAbv9bhZgonZVrueo4rE0+kSjOa0OeE49Ta3xnlIM+2yhJ\n",
       "kcEui9A/SL3SsRK/wXnRqXLllVIEiBIE+yj03O2ONGmuqhmDfMRSWxdOjnzl+sf1q4KnENBxDnym\n",
       "AqpyPtQuZ7/pB4IldyMp8d4oaTwvT5/E5L9oAulZj2eJ7NW3/uWXTd1vEi0hNf8SPv5VoelJNBeA\n",
       "g2Vbq38s6f8OClEWnQ6TBTAR8zpWqD8qG5JHfA6WeKcWtaFWwzo7IwKbO5KC9q/JQqHd78ua/g/A\n",
       "rToyHbCH3IMBiV4U5mba/D5+/Vg/S2wreEZEAWvm6iWKk84N8O/GiPelFpbQ/dkW3iZuVD5WqchU\n",
       "t8OcLIGAAAABLEGeQniGfwAC6STWIOooBBAT5rrJaCAFqoJJn4rzPqA46qTOC0YqqhtEVoNwbQN0\n",
       "Xy7zoUyks0WCwf35tr+2RYo593OgO78b4/UfM9f6MoJoS/9u+FnJqGnDHPdXNjt5lvGJD7cBgjYB\n",
       "88ig9TwnUnJklLr/HoZQIvGm60oB4B7/XYgwB9HPw2NPQ6B+kkRZU6cBX541c6znIguHU8A9yRur\n",
       "9jKPgu5mcj5IK+q0zsY6P4nwGGc8A3GJnmDxb1BWfys2ZKLdzjMtDO8O04/1ML9exoA1Wpu9dNmg\n",
       "+ITKZjBogUkvkcF4MCFigM3OGQ/OcMKv5i4+9D8JUk59uGBGLP39D246s7tA1BsCMkkeHPW2/DLL\n",
       "JymMSdf9qgWrk9Vk58RB4DhrZ41BGLAP8QAAAKwBnmF0Qr8ACG+LBjxH1MFhb5XnwemWd4nVN7Ip\n",
       "ZUmrtydXnbRYALborNAId6X5/qSHz4+2QEjlk5Y/EOXCxGlHgDaYj+BxkJ0XKWPZOJiEBka5QPg5\n",
       "2TexoJtKXdGpsNbwtPRflJi3psv1PlKUeQMGpYBkZ3Zw41u7CztuMr+maTEeo2/Du+Ceip9Ev7OT\n",
       "G8wq86lLurxAlLHyizpuAP2cQhwA1c++A/BwVPboAAAAtAGeY2pCvwAIbJIyfEtInN11nAl3jACS\n",
       "bDaZDC/ruLkC48jA7eoyBf1OqzvjBTuGktUtlZYlXLdn29z11BbUM3ReExCxXWATa9p8WMvKA6AB\n",
       "74iWal8ZspPiwOIWNpGhjjkq3pHDCeFfdbZFTbvFupDQW0QpSQ1qWJvMj7TrS4Lg5JaqVYOkeQxo\n",
       "+7Nye/mtpBu6mEKdiWuHtZtbNsP6O6ukSqayl6YA5npl5/FdYOKQ6sZfgQAAA09BmmhJqEFomUwI\n",
       "d//+qZYAA2grhU0nFQAcb06+DYnSYIXV46ToSOJuMg4UaXP6BjNjS8kECZ13pDoAjbD8DR+r/I9/\n",
       "4BxLFkUY8esARISrWX75QhpSOfZ8zo+t66t0nefqAsxv8ZHfIElVHwgbzV72RGshSogBT+67NevB\n",
       "qpcdfNLMXMIRdgSjrtLdf4UkLJ5txsGelkRSxHqt0XGrWTjhmZU1bohXzIk23OkJYlhOjuSRWtLR\n",
       "yqSytECt5MULIzWepWNKUX/9RMjxSjsijCjCTYPJq5G60tWPodJ5G8aq4dPOzSjbhYyNggyrAoFC\n",
       "UwBynutqmBsyjSexwMi+oymyNWPBy85WmLDy7OzEX9I5gwLoAIzy8zLHWohW9BXfnyKN3VviLYqA\n",
       "JUGRhzgyn5X/eXVEfsgijOhvNKRSYeZmmZAYmg848Whmbh7lp49NZmYeQWh53YX0xqmxr+LgYipX\n",
       "auZEE/fKl7NS7e3CXdZ79sk+01kIirG1eBPow3r32I/GinR4x0jddr3z53c6U0W2G+nelr7jSSnj\n",
       "H4jZkb0rN6NqAQd9eHEziQn3ZTW6YXmyJbzGu812iH3LQFOlrrISvp8JGbl9BMavVKgK5tnmMi9v\n",
       "ckr4OAh/MMN+1xlRWHIX4qrJiwqvLA7Nfxf8ighKReHcHU6JErt9OjNBT7jJI70boGybYOq8Fjxs\n",
       "ix/yTt/mkkPL710y8upff2jOHe7qa8BSSVMF7Fs7aqFekPpyagvm/ee1Syglxf22+iY5ystjHbHj\n",
       "4rjoCFiuJ+5VH6+pRBxnarC4qwSe5X24siyTlzYAQ86bgfp7c7PP2bMMVcboCE1sB34s41yRjtrK\n",
       "Su2xFbI327HWD+9TIZlob/50QPXmIQqTAA+g4OhSzYN3McVFDiz3AGfI3WFJG9vvrNqRW6aqKbki\n",
       "X2CzPT3pMV/89ijbscYgMATiwO1gPzUD0dW5n9PAzKE/AKUK52Jnn7C/u/c+JuJAeMXUxqQbVXkN\n",
       "nW/ThbssP+2IqD/D/SlueFcY/Ft3/YFl9TIofUTpL6FfoRc5mDy154v/22U3WiMX9zenxTjbfq7r\n",
       "yqEdISjTNgdvrdralwFOAvL2cJXCWDREEHHpW7zpO6qzgE+k+juhAAABHEGehkURLDP/AAL8aisq\n",
       "wzU1K8/dF0ezRFhM0Eu6M3chffyaG39vGV8QDpav/462NSTM6yoB/xJ2t/fLKWPW/g6/TsFGW1ry\n",
       "YJ2A5ztUyJwc4/PkfknxEbKirEUf6lBDgekgOj2nDrfyaj9u5JfLvJVvx8GQk1hX/pmht1sWktRz\n",
       "r//AtvhxG3DdBSPcDl8tlqLBX6tocIJ1eDN/48QUc2W6w/gZC8nBYkNfWrgnTKNdwPpvZtcg/7cG\n",
       "2GzUyvenzfW1OKRRJrCRFCeWblhJ2/KYB/YIr1m6e9OHKn+AzuTHYDcc9XFBzD5yj13ML9VO7NE4\n",
       "2NuaRNEGB6rP6HGWYjqtcLHbPDI6u0cQ++VTet9VL5WFv+RzYUgSInH5AAAAqwGepXRCvwAFZshp\n",
       "AWAC6OFkRrNbOPfjOAXUKpGifSyeuGfG915orOspnA9k/C6whXukIkGWlSXjlPNaIPwv8jXBdwGo\n",
       "u9/KTzlhLeIPpO9kKugsbqdomoBOq0Nc98AmX1zCT7ke4ZqblaJ4T6TKPA/h1IZ2qtEmTJLixuyx\n",
       "6TXJ5NWpheDcd8Zr5DuEgZmB5O4W/eh7b2KpmQ1Yd6MZq/w4fS+bwCWxEeAekQAAAK0BnqdqQr8A\n",
       "BYq11Jjb1TmrlsABs0z2MjOAXDswEM3k/ibXuTRK4ibXtxvp7886xR8TESW7Bj3O3yDeH38Roea4\n",
       "j7mJE0p+l68Dvz2RbdTAHFVRYAadQVZDx6ZtqEahUFlJOLaI40ab93YLoWF+aGwqX0+xKcpa5Nxf\n",
       "5kMo9oFXEShIhiVMlFRq8iS6uz6F6xLMqdDZ9lCxZE+6BsIzjDy2XrlI83nrbde2jrkDLgAAAn1B\n",
       "mqpJqEFsmUwUTDv//qmWAANmEOpblua44AQp0Fd9aM61vFLPsk+SIAlvFBce9yFpPsTIEbTaNc23\n",
       "4Dpr5dNMicgzCvZCERu8PLNricyRbkDDZ5+qthRWu0ip0mv+IiHX5FraZbgFYLveh0vanzhi/tpo\n",
       "gmT1MYyRN1r2Out8ZspTKVnQdvgk3PTNBKoww7yXdsfR8baAv7jTRZeaKnS/NZTvNk3RokTVWhjU\n",
       "eFqNKVCYBGBVktOjTyh35jbzFcY9qAbf+XiuVr/Y2tsrR/vdiOMR7BkmwniBY4AIaX/SUhEi0M9A\n",
       "H+8JYwgnAjtDYzLbfAVoG2O17FksyaefKtxG1E3905dC9eWRs2w8h5/EoVM/usxqY7JxE8T5H7Ie\n",
       "bnTm26rWbZfMtcEdAx0nLmH18q5O7yEbn8ivSaVxtn5pzDtlhI1wg0VXrvUYNRhGJjud0/nrCnKS\n",
       "oU5dRE5bMbITOGpdXApC3mt2ZGPGIW/XdnhgzNcO7mSI0aeKtrFCl1fB+yp1gwEsYwFJKN2eqoA0\n",
       "KdyKrnxmvrta2NKTzwnbFzoVqFbpE6XRrhpyyClkcXcQ/7z/rQy0r2em3xWfHVqxTQunlfCGDh0F\n",
       "rDBslf5/XpuO8dQvMidojM2pq9kqvepcRqr7kCeVxKK/cqrfe2p8iqYh67KSR0AhdGNoAhVbWIJZ\n",
       "Jphn5mPhiFwhsYO4zjpzETDDJ82rtiUDUbklUY2vi5S44g25MoXrZNZfst/j/4ERuTf5YsI17Whu\n",
       "Vtu6emLV5d9Peu3lfb+B9oTW1U15kQJ/iRYqA1JXu0gzZzuToB40vn+62H9k3tBF04JGVf6+M14W\n",
       "UyYbSqGkubPgAAAAnwGeyWpCvwAFio+2fMV6LmCOfdCq5vKpSRuaW/1VLX5Q1DtW8M0wuD4s6DVz\n",
       "fKl/kWhielvb6xj6bKHEiw151S2RlhYEpqHVYvfV6knYoHYa0Uw02wjPrbq9ACEk6WlvHfbMoabL\n",
       "JSToABOsR/FMDfrkCn3f1deWRi9wgff5C0V/RmSWHs0zfxXk/8TIYJU1RiNA5A1kvvhFH5GAQOeN\n",
       "+QAAAjZBmsxJ4QpSZTBSw7/+qZYAA3kEpchJgBJ94a+iR7yNalMaz9DhD1iiPkyTQ+hrIkshdrLY\n",
       "xkaacn/7EdqIL7P4lzqFePlY2CF2lHTgP/iS5dPyoegH82U9Qvs1E8l3h5S91XofUm2598yHeUXN\n",
       "PiEv0CZLEDv0Vvmtl5yvdqhu4yUAIOhvEChVvAzLFCDVBMCO/LgjIUuPXIvwT3zNkQ6jkQXYStKx\n",
       "WIlpEXVg+Tmxuhx6UulpaD2gBUowVJXX1Ar8N5ZHDDbPCROYcUZ2BVti40PH3FLv//JE61lAdugX\n",
       "mp5BpEfAq4FKh0e07d7dyeDe68Fd1uo6lB8Htwe54owAL3tXWRxhef6PrqCKLKPDcxCVgttDpWWq\n",
       "mHTZR3XDt95Al1DMWZ/g3I49kH12Zx6bqyqUqwy9/SRfLYyCjRyV8RAu2OIUdOv4er2j8iWVqB+V\n",
       "Y+NfGgmFW9T3U+Wbfg/3RnAQ312zRkUfjDHCLrFll0zYcE+Rguu4vyEURZ2qmokTkZm+80c2IP67\n",
       "hmkzMblFFXQ3mVDMSzee9lLKNB5RYl0m1ESzFGv8M3g8ez8wkFTDDT/nbBHA7kIh4rbWHpgc+cxN\n",
       "uPCyr/y8x2wMYLgbqPR8DMbEoV54anK3JfOoCNT9jLPAtFTRKsBscDVc6A7N6Jp07YS7jXox9iSt\n",
       "EJCt8WB8K/RDA1fJ5yqLRMG5nKFxo2Q93UOWIb+ljMRYD1tz3FCe2//r/Xz8WWOOQj92bobs4RYk\n",
       "4AAAAJYBnutqQr8ABa63rWQmVuELDbYRnC+LS8WFkp/pPrnITg4yQkBlYSKikHvrUCyb+vQdVAB+\n",
       "AQ9gsPyChbjGBPahefWgAhYlh6EzNFATDtjbyMnmk7oizB6G5DFghSnkmNSV4XC3NFq3QHCJzmRE\n",
       "Al2TXP4S8yzV1FGXMm6diYWoheX3HTy05Uvjc09YwEdL0IJUCSe/99AAAAJ2QZruSeEOiZTBRMO/\n",
       "/qmWAAN6EP7BqEOMACnp2q30uIjC/pdlZg4NRERMlEOkxqKj8gNMTiBHvEa9G6qF4BuEbLrvlRG9\n",
       "xwFsbsv+VHtxIGKFgBcQpO/3DF2d/szcuyx7GIRcEBnGoJQsqN4uPOvM60afFW6+73d93Jp1IKDz\n",
       "iBkI5JLGarqkbF2N9AKANQ8gGpgh7rdEBC1+Y2VkA82KPhwYN7+wiuig9d9bZMrcWXZzcMT6d+NT\n",
       "VzKrAdtdADDB528GhoL45XXM+cwOfH6VTbhciATNtp2al0aNXTkzEBhhHKw5ECSd7MAwLE/9HErx\n",
       "rg7FmLtA0HFkQIXmAu7agmi04fzJCJ7ebmb/2Iu7ketvwRjWAFXn2BAZECQICn/dNdGFeRKl0TAX\n",
       "paiKe2AgSIucnkwH9sO+65VTPbTrdcSLBznLH6aaHb+IqlUxN2WV7vgYdy6phsASPuSxGZ+y2rPR\n",
       "AKvVGOLUjQjuXBeoEi4o+3YK2zcFCgLjBXd3TQdh2J8usWeFqCa+kxmkGe3cI5ZfBFl95fl5uoYd\n",
       "8sTdZqClwPrJTEqx8Z/U49yUmwHTuzEV7lh6ML4dhkDt6Y8GjMQUgr2JGKVDpkiamh42EajTKolj\n",
       "1w/pTSx5BNbqkLIbByV/pcVWKfBr6mZQr6a7FuZyXLJiU1FsvUHaiBl7Ov+iwc7PYwrm+eg1L/zo\n",
       "3kEopTnte2ZQzmdS267trYDu5YK2Ld/dQNsHDvt4fKKvRly295oNQ9dt5ioKe1nLODFWR/j9aHO7\n",
       "i64jEApfCs72XCHgiZdOpn/G/k3kD9nwo9TXZ3wLCy0wK1hMByQiw7bTF3sknpb1AAAAmwGfDWpC\n",
       "vwAF0rxBJT+MSgpDpnTiDXrFlb7aeogLs6u68WbKcAOsY+QWO8AfE+QJnprozvPJIPadI6aGcFYn\n",
       "CuqW3B75UM7oMVIkqFOKwHt8aY6iSZdT6ZzBhi8hC+WYSZvJc6sOiTk1ndIEf+VW1hhKP3iBGVFT\n",
       "10c4E4/G2GdJ4TseOZTlQcDTsmaSE+Gk56DQZH4ZzIJbLgeBAAACVkGbEEnhDyZTBTw7//6plgAD\n",
       "jjl+ofUAFSg7ZULKUhQBZ7IhSWYdNakpdcF5kb1awHW4/sHl/LDp1m8lMHOTikAH/LS9wBtFfHOB\n",
       "H8b675j9OyT11jD88/j8oWfQOfgTiz1ddCTzMSfBKXu0tcnrE249acwtAk/i7Po3sjtRNTZSZX9K\n",
       "98sC7Go7ZwsAaKDJtGdD7bwPIV4EqYFPAnPLVSYI245ji5eGyKGnhFW756FifFemF5z+HQ9Z5+kd\n",
       "2MNJaGJg0YzwHRi89KyLZlNaVcGGvDf6x/bnyok6a9eu64PWv1RxJyqZ+j7H+UaQS1ZxZlr3vwuJ\n",
       "lWPYi3voKC7NOvSO/XiEzriLkPjiaZ1SG0/0asJDccWtCjXt1YeKFZcBIdsCHnQBLP2SAGwqSDKn\n",
       "5+YlV6vaLmmh6IC4szc5Kwxcp43+6rpy/G4LF/buul3UO4VRONQSwsySS+Kb0nMlGuuMUdJvNy36\n",
       "TBm5W6Kx8S33ki32RPfOSWGcXazlRTagp7TeKrxTqibP+iYKRPG7SGOWeKiJJ4RLUqLoj5UOs6Yi\n",
       "M/JCL8yfDiNQyBdEiamoNiQFFJOLT9iQw7Rq2D4z+LwgQMrIP/MOnBDlUD4kAlLFLFuQIJB0BzdA\n",
       "QINqftLUWxuWinYh+oZLTBxUa4njBAhvseB5/4Tm8ZDEP/Bz510Os9rQYvbbVx51xYBOooOoFb0m\n",
       "gnbmJ9emgxjff/SndfmtQRKQQS7+X0pBhkEbLsj4U/9vSzA7yWu2FFXtJ+Rp/AiPRFjfpAWajnxC\n",
       "iQO25ptpxsfgMVEAAACOAZ8vakK/AA81elDO2WCGjrwZgAOJGkHTsWwVABlyou3wqtL7tlkbySi7\n",
       "GqeDkUkyNmZ9d9YUD9D427sB4O51OL+XEFWEvWWCfrYoAIWm4oqHmqsqm4grxJXvyi15uqbHSi92\n",
       "DX6Zj3m72XKNDkrrokMhdFRJvu9R7krt8rSYWxPyHMqoWKY6o7LOadz2gAAAA0FBmzRJ4Q8mUwId\n",
       "//6plgADpLDzXOzAC0vxn/OFotxAxuyU7G3VgHCcNvnxiP2ab72SDxuYNd2F/YGcKAPlhZzFY/Js\n",
       "sM+TFcbBdEtQ/Pyd7e7N4tLVqtZIWy86dmY9ynZ2qbceMPMrsOs5p1+dFgnJr4ZZmCf/t+bRAntA\n",
       "YSCvuFQli0YDjmztlhXLipWUUyk/GoExTO4IgaXulJM4tmgGh7E+/CrTnBOY4+zr2tvSp3gN1+lM\n",
       "aLvazILTh59P7QBJGyomi6hqM6HwICbL83/8J/KoFBfoHWOg6svTkbP4bFMKsLLYTPQ90fCxi16O\n",
       "wDJMA4iTZQzZ+FmNgeAqUQViLW+zD14IyQza5+zzNx50TosTnfHBzJwy8Mjf4SPeunKDh0qDddWn\n",
       "DraZrLwLh8PCoXgiXLiSjo7OynxQQ8omDSdcoguh3sz4Z1AZrog8XS1IoIXgwQSoeR8alTkcJu8C\n",
       "oC3Y8SBMBiCSU6xMbK6/dEAtRqb8yswmz9EJPiQ8t/ip9BK07pw/6fQtH3LMyKNaOq/89/+UVgYZ\n",
       "BI4vM/K3Xy1OMApLxPn7l/nyQ+G4ISqAKWqiUosn4KxcPQhucKiuXWBItVTUnKhxp9wlKsAmDfAt\n",
       "hIsygql02olV8VW+9Jrc5wJugHS60cpo3aDoPYj1cgmNoFjdjTYWdIn4Mcgu0ITFTYwPCniS2Dbb\n",
       "JrXOg1L6lqQ2Cv0k3GnFLRdxByvY+vApUjruIBq9Ny7nJTsbQb1FlB/nLI1cXPYbPW4CKbOa8a4j\n",
       "vCIMTVREW7KqlfX1xR96pEPkCyx2JCRqdV8p3aW3nsmG8GlZkP0N38GK5N25OuKC0uQFromUlW2U\n",
       "7F5ugbs75XDsbfoGXV4jqEYf0EUs+SrLBWuYCfRM5BYDCAjmglDAIMZfA2HQZqbOqalsbmY/kOhn\n",
       "+GXQouArmgpqgYNasMQzWiY1FB+aSptAMBB1mLzbdsTmWw+wVdjCAFNWOc0EbWHmZefgZzK4oPbr\n",
       "NyeFgwKgFGvSdvnh0bMSvTIIuVpHDw+BH3Gv7M5u695813vypMPBVtEq/gPwNIMM+28O5JDE3TBH\n",
       "/hhCyjLfxiuLD2hGTpxssvFUcz8SUXkpzAAAARxBn1JFETwz/wAIrcQDZ5CmnLwt5DTOg4J8kD52\n",
       "aDDTVxwAQlpApiZVV9cAa9o0vTA4Gs+JBOwcfRxtRx6OGACmuuEcnoMMphIlnbYv96f1F/U1pKnL\n",
       "peuxql44KHxZ8Xfd1iH2gSx4Cba7YqrUpb7y03/5ikps3yOaSmkVWlBGCSl/wE79VOVK/w9Ev5UV\n",
       "E5XDtaDVmXcP5NlEC5gRbOhrw2ljFQf4q8F718GJrnNf+E+2v2HkDR6n2nTtRPnBx1ISxPka3ig9\n",
       "UBl4Ao+UC5mg1WSnCyZdVjebJxqd+8C48jxzjZibKtVoWTzOCRai/F2T+V+5eur/McKe71hbpnxZ\n",
       "ST15vgt+10IWBRDy5D/4+FOOqAGtEU6BfW1ceQAAAK8Bn3F0Qr8AD4wakyHZZpiwsKZU3FDMMAEG\n",
       "qPtFOvZwMCOc4ui1AJh8XBNKIW91WOxDpF5TFn29dmMQUVVhNhzXPafO6x8sO0prbXCfaTen92Ku\n",
       "0xyX9lfgAta88n7EJVAF0CfpOAkzwTxvGct/0A/OkXGZVwKRV0q8pQDGAJu6ijB/3M802yN+bJv1\n",
       "BvaFuYCFe+os8I1tsPUT5O3ZcuacUjeBUHzzZyDkWVxk2TXwAAAAogGfc2pCvwAP4yXf7kAqXQdO\n",
       "AIQGxj6t4FGRaP7nr6p7elY3lFyMVGv8j+arM53Eb/g7zz1/5pUPaugel8FoNRDJMNrhKa8bceKZ\n",
       "3xfP2aor1JzEYNqYFpQQa+KVlWX1q+QKxgj8xpBaCsTkfBKyvvTqGvN/AgDTY2Q/GTgHrkQEt+wo\n",
       "fpbFIeKEkzPLj6EQBBSQ4hbVi5ks1MJl25noHoBHoAAAAo9Bm3ZJqEFomUwU8O/+qZYACghD274d\n",
       "Ukto4J2+eG+NinQAm8Sb4eUE4Llqof2sakeewqHq4/Q+crfiV5xkidOa4nD0d+v9fA2WZGVl5EFE\n",
       "xQa7r1m3B7z0KOIfM3qUcgX0j4iA1x4Dv+O59ugD65YoZumzfNTfGmWow52EDU3BMPW0Fmi8OjAE\n",
       "yc9x0OWGrokB+BaxhNIwjBatUzJFNxDQK7p47Vr0j0T2tC8vl0FTMS29IspcoVyxDDSZRrEC0vVD\n",
       "GsKXSCY1d4Nh2WdVlj6G6PvmdadsIhAo/YzpCrCQRxgfem/xQGu3JNtw6+x/W8vhEDd1979Sk7sm\n",
       "2qN8M+R2ucNUx+aBwFI8XiIKmCx78cdFPA4rEvY8WDbU7ADJLd8nHliTYVOfI/E4rGN0+k4lFJQq\n",
       "6s0hiL83O9dQn09/3ta29GIzi0hDbv+4t444HcbbF0Uk2Rl5hSl5TMNTnrL4LZB6ydotcSmOC48l\n",
       "hHoLdBsi+DrnB7j/W+z6ZnKnLSq7DJ9u7Ha0HqD6fpJ8315xtt+i/k+NDvb0gFdt4DI21yYjxD6G\n",
       "TOhmPz2Ik4hPO9I1k1a15ZCKowMWifYzoDWESPw2MCBggWyfgjzBdnFokzU35jn+ZYL3cfXC7lFm\n",
       "sd+mnHIDIpCjXCAC4GQiLOV+lcBlCH4M05xR92HeNssQqEd1yemI5MDYRsL+eXHrFwePi9NlrvKB\n",
       "jqIVy9ZB2ICzIoEaYyZ9ZH2itBHUBH/0F4JL+CG1pO3Vt/HFoIDR9mQOxMIH5jjTWJdco7OuGGGg\n",
       "CxyDLEKwZy9EqkhyPkMNGw71IM3maL+ZsMnX0nxswsfv5ms1JDyx2E5h4VjKZzOc/aoI+IwvpsMD\n",
       "f6wt9UKnAAAAnQGflWpCvwAP3/UT8rxCK5nyVmGb2yHoiB31LijvsrbMxkM9IFYJZPVe8zadsOHk\n",
       "d8l9ogAl0Os5JKW7sH59ARxg+LFwRkH5YgXQCTUhO1QNK+JxN8q7GU7wydv/tlR7caDoJ6ntPjsd\n",
       "5C/lCQya5yjueIOHmhPcpNmq4ICf2t6tNJa4PQaH2Ibluqw8bAIMtlZNvegROrawBLUAvOAAAAKV\n",
       "QZuYSeEKUmUwUsP//qmWAApQR8h0tQrMxsjTraIld2uuyV+lfB+UJ6JbuohSDpdujJL7IuaTmFLz\n",
       "dqptpSLCowEtlOGvTUdPWwHSmGCdAUENpBaz1RIuKjQqjP+nmafGL4FZ9Glk4Mrlgl4y/t6lWym2\n",
       "suYzb7q1jneIGyPYY4kxRHJEN94EzjJY6lCxIP+amoWuIYDstDrc/wYDIXz352CLwdIlESTNaJ6T\n",
       "1C3GFAPzKWJ4X+ExBpK1Dxj7xSZbW8k2ULulUkTrrTu9kKl0zPSTBJDPnogaus3v3UmkgmtMVZQ0\n",
       "JE8oLquqz4TLv3q0QhoxNXdokScfoQ03z1RRlJy1yyXTIArLFZ/te/3eAhSSWroyOR351X13n9yT\n",
       "zOn7RD93BT01pxeSu1m3Yi0B3UxCv8ua7lBIZiAv7+ZffPptOfMRmj68VvRKN/4OrM+dsQHLBxyc\n",
       "IU0p1lv67wV9vZ+KC3YDdKk7wIsG2CWm4l8u4hrT8vf+RRGi67cygo8F1Bn79cOp9HHuMgIRAdbf\n",
       "Of+23RSRwXpYl4bIdmJfS1t/WQ4c9W+SrfjZ1ZGfKV8tJcBGX61F49OTA69mWZUD5ddWupXYrrhV\n",
       "v4w/KUtNTPoVuX6L/Wdt1wJ+PkeXV8eJl9WBJn5Dnm6oW9ULQv0qT3MG1c5YzlCDLZHx3/wQZh2K\n",
       "uNEmuaoAep9lik9bwHKYl8Z8cJNBkPYgIDkaM47ynIglONFTH5NorALAtJQVh/+MpkQFyeEUXSMx\n",
       "GnGbOdn604JlucQI5cG8ieKWXICxSkidzLxS6ia3NHRsfwfACfm9ZwW4MGEN22vVprr6U55oiCCi\n",
       "ZY6YGEJo1GbSPcTmu+I5Pc6b6JQlzoVmGxDptd0enyAFJQAAAKoBn7dqQr8AD9gZZMK1eTp5kq4Z\n",
       "6hDl5pGbA3IlSkpwdJAG7INdVtgxQuH9A/UWSwFb2UrRPRtrioAhcBh8sSiiWdkAHHA3kW2Qq/Et\n",
       "OxSfv4D7ALpVkZqUt8HTNlJKIA+wsMdmrGiNoeod00+QoqWbFTk2/ZhQkr6F4I9QFLDMB2dEFSeA\n",
       "7AGpnH+UDKcenhL+ba+MJFYRiaH88VSjiLo1J4ZFpV/r0p3dUQAAA4xBm7xJ4Q6JlMCH//6plgAK\n",
       "ULieYmnmITXMIjcAOMgXQrFKrLi5T3IZ7IOl9nZQrqe/v3mIVsiaqPsGVwkTYJC6Iy8Wk5GuWGsx\n",
       "QZinQrimtnFiBpTlEcoG9c28SmZkyjFyjwY0GxOER3sXIREpPccB9tWknEZcfGRCQdHrkeGcYjaT\n",
       "FwEORWMHhweiHGymHNop487ArS54JNso6BFZmYGoHd1qCNIFL3QFF6pNa7Op7QtPTFRzxttz+nn6\n",
       "ug7d3KulesP2BfvPI9B5waYlYj+WfcHoVYCAJxnOhEcPZxstkrUwD+5AWXJg1KqgAZm7hTpF4lIA\n",
       "6yyhFqBZ+LQocE7D3rV1f8rSgx/totolU4Z6fX5s3A9gHe7k6gZq37w781gwYhyzgIZL4E4EEDsA\n",
       "T6p3lcvFiu8uXiqCrESBmTH43g8zAZz9+Z3BdU9Kx7JEqkKEXTNcA/Nbexx6FMV+DVpnXtGLcp3N\n",
       "7cXaFnvTybs7rLwDhQH9iSFeZ85z+p0abMgItXPglwuVI8s3xbbIIjTrmGiwyNa6IroHcFW9w+78\n",
       "v9ae/1ZcsazuAvJfOPkvsNGg9MnAhEgw+h6nKpXzp5UkL+5qZB0MjKCCNxQWRwl6czpEG9B+u51k\n",
       "ni56dACXb0hgfvNYU8yzZsqWOpp0mYN+H46rTIChYPlcFWUTX+vtY8qk4s71Pk526PCyFtcuBZAf\n",
       "V3WKuKcLViEWzJLyvQ5nv36EDKK5FF4Im2nM0q19nPz3MiaDYUk7oHs9/AbFr+cFtqzgj3K7TJEk\n",
       "ekV2V825mUTXduXcbu8jpTsXdS6jsFriI0U33/fdwZNSYTSOJaB5yRAoadSp1rJMUHSpT5DMVohn\n",
       "7FzByJ+ToXW8RlyAONPIQpp+aapcVVS+X0jpgbe2GaxGknA4P7M/KAqSB1oTAE79IkniMWBNOhXK\n",
       "p+8VTiCpAucixmKHbimwEBd7NvZoY7kCZFXPo8EYXv6zw8VIFJbRjezusR3UraBnL2bhgPFpqZjj\n",
       "mhqiYOtA14hvKHQA77aZBzOoS+3iLjjRXQL770ihp7u9+GqcQk+XZUaJk+lXiHwHajl2HfvL74Wp\n",
       "EUHxU16zpEhgoveuUaxFjR7+wu63j32AOw/ct2TKyA7X4rAOk2/tkCuWOUkzAOuG+ZgwbK4tskdJ\n",
       "0nw3S/xfiYGs1d1JMxxXMtXUOK7sFgbTW97a+vwIEv82Y5qjQAAAAQ9Bn9pFFTwz/wAIrFmIN5KM\n",
       "Ypxhnsqmph6c9iAEKAAAAwADv3kB7gy/nAT8R0B0MegtRMYjPyj96ER6Z9LRLxVT5HSsz06nc7d6\n",
       "oRscK0TiEBonDTtCbhGx7a/bGzLtdQ7qA4Hph6MI1HSnVyDXrlUdazhrNj8KS9tnpZdmPBZOVIEu\n",
       "8TktcbNdSp/B04PXjtcQJhr3WxIDccPaVzwAN5MqlTbvly82cYBSFIKWNgSLPdbrYB5zkWfiKfTa\n",
       "srrXV9nkcl3qaxlRlnboHXFWyJ/+KUIVkJl9DjN2qRZj3qLccNOY43+ibqpegLxwNWZji4QpcUUQ\n",
       "4jh3ma1dOIej5isZMwCeULBF9xCsrMftuHXBAAAAjAGf+XRCvwAP3wGV44KOna+8EPngo4bE5G7G\n",
       "TnS8+USYLQ0ftYvKAifvMzDeknN+5kWIKSomuTEAjnAoWyiuuRGVnGCL0ZTU33X4D3sjtNRUue4W\n",
       "98Kns1Zb7/Dk16Cd1n2yakY970rc+6G24bYcqam59z3IriA2EuEv3wt0AUpwx8atKFc6qC6XHTV4\n",
       "AAAAmwGf+2pCvwAGSAoiS62m2Hkr3J0PP4KjfId56IlnOcWtGEJvfHt8q8mB9Oh9jzB/aNKM/5dU\n",
       "dY61Vg7FoVQudlWuXvSyyum+08j9zOMPkiFUhgb8SieQt2VlDY9fulKCvsAC4tWLFy5YV7fTu626\n",
       "rwC4lIc7P64szB0Ib1i/kR6nbLnYfeEu1mC3DXo8s0Ef14/y6lClcJwdZpjhAAADaEGb4EmoQWiZ\n",
       "TAh///6plgAD5k0oERAUkP3r/4BW+XeVb7xcSB265mGm6hBZ1dJX0HA4/hSuTR5ceyqwV5MSw6T0\n",
       "GbheP51RVLrvhXjVs+OpaR3eW3s4dJ0sIsB7EIDRHT+GZv3VX2+uELg3sk4sqfVcy9dxOED7ICE2\n",
       "g2m7CshOq2/fanmBnBCUbW4bVuhzS87u8PFjgjINd8tNuVtCMv541rXvkIz94NOOutv+DS+hWQyX\n",
       "HXW2EHhZMmBzlsjtMrzyYk3BTurSg3YVS/qvBooSISforYbBWs5wmpVd41fhtpakg8NyZX48uwXE\n",
       "54dQcYLsMLRjhVnQKdgXPN8soSKIlDCEm6+uQRCBkhk/2xp9+PQ7JxZY1za43II0AX2iw2cNTutx\n",
       "rM66i6YsXfNZxorm5aFYaeKekK0DkNn61C8eoPNd0TCE3GHuqn+hpVTaOeMZ8RfFOzEVy7Rz2v8o\n",
       "CwSxOuUKOd/fgd/S4HmVQaGysZ1ut0xF7N4hw3Wk0jcooKAj7Vgxzdi9If4jV5DC110sH3KU3ZNd\n",
       "2oHympNN43QMDo+l/w6YOeFcWBNhMpoZN3HHfa26h+qQI/d6Ob37SvnfUskanAkfLmAfPlUkiFeg\n",
       "L3+GPkc9l62awZ/mx4r9hq7JnCNozTXBsm/+h1/4hFfEfD27nAwCxFWTMWMvmkrvkKRR0eS6QZYh\n",
       "FpF7cQjbA3ZLkeWKKrSDHDnp61hbvIS07wqwyLh2GjlgDissTOtMSlztrUqgYbsZyUm7iAzvGaq1\n",
       "M/JXeH4qZ4e+kh57HG6iH+A3Xy0TabzZONXH33PV/UHdmlxvPv+MgO1VVHyyzfqRmeGer3AX9MLI\n",
       "CxOl6pOEwdbPjw+5DHaGmo7SPsL9YpTwj68xKDgVMD0F/wgTQLAIJhh1e6u/mjTtD5561SpLRv5M\n",
       "7iJMw0T4Clwrfljk4PT3+9gw559DBI7IatE8oC7iKAUECxl9f58OrG7+9z9GrRqVXWqTd7iIuaO0\n",
       "A8UR0+5s5AMTkRe091Rmo8t3Yca5su3F2SnJU8xUb7j3HR8f5xkgNupCTCB228jAhklwBGoZES26\n",
       "dnAXRjoqk0tOVsase9WpnPMmDn6notkbA34AQ2SsUVjNm83hA1WusrR6xEOAsOjnd23aKlcBBQbW\n",
       "e6WEQv4wJwq5AAABG0GeHkURLDP/AAltxXTchklmd+VPTNQga8AiYwKrcwshuKAeImNxHKYzv/BG\n",
       "mKtgF3fzOvZfggNYl3vMZF0JE2OBFUEPQxyaHj11WpBMRY64k32FiNoiKQTpTIZWJDAXkkDJiDyN\n",
       "C8Ud55nwVeZgG/OmV8RxTntSxgIEqBhZkwHAfAxawtTKr1WJYdV85Xsf1A7UzhbbdJ98m8zOWVMT\n",
       "tiQ1vV3wasD9TLIiAzIA1I9q5bT6/ZKvbCiZGrIeOMVE9UajLp5SGoB3SpXXNNe7dQrGXUjtN/Xx\n",
       "Q3oTsrfydk86PuFnYDXFOatKHI7CHZkrcTfAYamohKEq6ReOgaquB7wZWe9F/awhcOlvbO7dtX8G\n",
       "IsgHqQaxTIjhgZIAAACJAZ49dEK/AAZFXhkizS1HauIg05Eg5ul0nnU811K545/6k9y1T/6iRihs\n",
       "f3Aqmms9M9KALsUHXkHXgXRoRpEw5+n9KTWy1jtyy0TlQQAt8RZwgoLrRDG+w/9T7731HaA4m87E\n",
       "zq02PHYvIvayC5HSGp3y8RPrxpmxKXClodjkXlCN3/Tgab3qJTAAAACqAZ4/akK/ABFdf3DcMVZA\n",
       "KVFNfOr9wrTFvZc248fcibnwbaJpCvJmhQpUzHRvh7wKTQ09xP0w9C24QITncJ8AHkqvTqoqyWHn\n",
       "xFXy/of7ty5v5cKEbRAoGdQWvJ1AmvmMjmu9skrHzHCFRVL7BYd/mx5qNsqD1dRB3YfSP8Nui04e\n",
       "icu4L8hpWsG5prPBUmn2J3oJc3tlW1Paw9mzGxyRwmbbYbsA2Kkn+aEAAALxQZojSahBbJlMCH//\n",
       "/qmWAAPnWacE8iuAD+jsGm5ffLN0hKvuiu/YoJcEhC1pyEx/IxVEwoe9HUvPSsmBDD0iOgFAQWme\n",
       "JVSV2Nrs6wdimWBbrNfxH+OXqLEwnOVSNcUXPqJ2MTGHcjlBCdWDbqmnIcFYzVY3NMeY4Z3QR0xW\n",
       "tEpeVX3K0xhVGt/Q7pdf1uLnndw3idhypBKcYHQw/VMFPO2rYtPUwqCJjcLq8QO291fVpZJg1w7b\n",
       "OKtfoa4iMvBK/2K9Kqh5vgx9kXE8O1NEgE+oZjdwMAdeeeuEebZhfOF0k0hcB971PgKOi7Y6pIEq\n",
       "ja7K7Rb6YDT0s0cV3K73ujMIIbXzK3NDqWq+fqSKxRrtOcmTfFRttURdYlf6to3b7Ru3ogN1ekiN\n",
       "6SlxDjSeU5StVDc8h/0t5RVPcHM2ZMQjCwY3GB/u2avK4KG84FXMhi5GsUMjFVT9g1bNgjq/iaG0\n",
       "VoR+fuhVWDGYoH2A+3nTFIvJ1k8vzhOgQNJE1CIpGH29E+6uD/33RiPkXiTxZwSUl1PcwQO0eiih\n",
       "r4QtshjVTv653SuNgv9jkxQNyJxrcUBNZsMtXWrqAWu4v0q+33ef8qcXNyaqgRdbZOooyyxCwinR\n",
       "McxCQXpGr4unxpSgJUKJ/doHzBxtCbfnh/9XbyS76dGk91h9pzwuvwWhcIn2kmKGGDeOXao6mBYO\n",
       "aN8COk8D3be9v2gbn21VPJaN3QN1JhWaGnmSH3+orsPuH9lQ2W+xekmba1u5nz5yJR0ORBEbpYtr\n",
       "74RUAvYtKRorcYuJBdKay0SmaYXWvMU6gCffc9y5YtGL9USTFpib9NXThGzvhTKIOqkttPd+Or9B\n",
       "Mba6tt3j85OdvsLJjUS9nH6tzyuX3shFihtvTS5At+LbXEAvlU4S1TVY62nIBW+AJUlIvHK2hW98\n",
       "WYtPhWxTefzRYjT5FEZBZeQ+/QnKCI9eV6qhT3WZ/PGSndbox0K+MFKpxi4EgzDPCnLbKuJ3ABKw\n",
       "AAAAvkGeQUUVLC//AAzkRflOoxzynzVRTEkIE7tewS+/zXmtTbN3JMAr+4KqCtD/L6T5xk+I6Y+g\n",
       "vX3ateOBGdpXxQF07y4SGUsP0m75zQD0uHhvO3HSaPQs0tm+4quZ6mc7QQwF/d2MyeTohMsTC2iw\n",
       "9I5mSM4R5uNK5hSNBPFTmKiJ0hLHmMzClULxxY7kGBvmqIBmI0qyzIbY/LWgsUdEdBgJGXpoqWtX\n",
       "WnTDlEgSJLbDLcH/Uebf4RJzA/XT2kEAAACcAZ5iakK/ABFdf2+bKTpp3jioz9g/zdWbFv15ZAIA\n",
       "p9Gj00dRuRGvHoe20KmBJolzc6F4kuq6bYfElY/wBQDIcmweDA1Lkrl3AAcVD1Fi/Fa24pi/aPOZ\n",
       "8uHPoDzIoo4T8VkXY4X/HlwCkLSGsfIS+5/69kaR3L4F1JI/EDgTdfw6HYoXBATZaApqUBKBNyjx\n",
       "5cFMhkrxAbeLo8DAAAADqUGaZ0moQWyZTAh///6plgAEAn7vpZMIAXKPu6NG77UYIVl6QUxtKOHm\n",
       "e/O8OSczNNzOhrZkQIfmios+AeCeo+15pVwVKHA/WbmnAg7eULDr0uWg4WUm0/iBvJJK3r99fXA1\n",
       "BbA2a5FZemo5wOzo0S+UUvBHlPzf3jimKwaOoeiGSxcDb6Hhmm2Iupxj16jxTf/bemo2DdUKPis0\n",
       "QtuibvShVqaWTUDqe+3ZeXV5sZD5T/KE4bzfZIBfLHk0VGsNg2g3I5UrRUcpVfeDPCp0gLjCZcps\n",
       "6Ii1KI8dXesNawUfuLZ/c4zMVdgf3dn+tXjqjK4QlyGfQTrNo6Z69YYNeagBxZBOMUJZ8kzMM7fq\n",
       "jbcK0Rny7vS9ApBPkT4ABm7/tLuc5tClYTTT3K6j3JjTqQgf5Hx9rawIJiS+Z2L/HMt8k+YBo4te\n",
       "H39JgTUFpbRkaa1mAPPePJGM02KqsD2P23IsFoeeZ7UkkgnPLthnytWFQ3uqZU0l5sLeAz+zWr+z\n",
       "oqzZsl7+y8orSNetQsP6qASGEBYuYrl2pjnGq0LWTj8B3GU74bO1IyUc04qZlhxVnGdkwW8VrXDW\n",
       "KjNIvJ0NRcz954ugIRkssxAvPy9glUkmFW8zhAPR/y9K17EMB3uTmh1XqrHvfJkM886tg5Ju/1HQ\n",
       "nQNzyO6ghyss1R9L1fJh9OFosYQ71gN32PniAsk1j2VrrQJ7nBnUm/Asrq70c8TevQL7MQVmvU3j\n",
       "Msxrbimoype7fxlpjJi1HD2wc0hUcGmdprMHf6yf+FWS5n/PySEhzI9xLywHJesm3FR4ivczOP4i\n",
       "fYRXtxIUhXlP9W1uqdpQsgWNBuqIdGPgsw+nEbNMm4NwVVU/w0WHgTFYd2k+Xm1h4UINSslNiH3z\n",
       "I21dCKTK3mWgvJIhf64qIZjY7SeUw4oJdOwVQyvnuApcGk09j8vobTcn/nhxfjb8se+7kgCSyuOq\n",
       "Uk1PFd+RBBPgcpYovIcROcykJkGRBNPoiDLjY+uhA26pIyhHUSyd6AV29HjWHN5TMK2DgdHVpR6/\n",
       "6XKY/PTP4Pv5KyQrG5cH23ajU3wpCtxzmcHFW5pdszJ2ruZbX4+buKCgKFswaPrQHGeBjK/OPToi\n",
       "U3CIoJmjAGOo9x7Vixyr3r+6Xwcd90ANhvh+rm40QT6Rc3hHtRPgI1wHmcQpPZidr8najMB/kHwp\n",
       "Q7i4PzJVXdta3RuWaDienbfIJq8Cu6QBMxD7Nk12fbJIG+Fdq5eAAVsAAAEwQZ6FRRUsM/8ACW67\n",
       "xdeaj558qvAc9CndrFu8aFqbNv15Lh2TeeFfttyenw+uI9GRaf/exiKnnLW/lE1iPjydbKJpZTuq\n",
       "16/IDTtyOGlYPpFFuwo9iV/waJ0QlWedw2Vg+lbOppDGvszwmHESvFkGuef6TuZoXhWssVnHULzx\n",
       "mTUULE9/A3DXSIFsmLo12h4m1U/81sUbNK3Hz3H8TRWCYHGrv0XYOCqyEMsTOq5EfAoJgFwsR034\n",
       "U85oIVSjWVwN8gei01DiZj03kfvAW53f+2sAvxBD1IfuHoy7v4X/+esaDO9TJOlS3Iarum9SwAKt\n",
       "Y7ktmmZd6F9HZZ1p4klImzbAN+vPCf/tAQgTmy7VlzYwO5WyySws6rKyA+R8TCzhv7uOJvA0j5cf\n",
       "vgwG5WOZQQAAAI8BnqR0Qr8AEVdDRxtDpyh4HqFntYzceSlvb7gINJvIVl7hQ1QgPn4dMc855n/A\n",
       "AlkmebrGEoZY2tfansoqd51zyFwjjL4loKTHqGAhigfpzB82zGjpaWGgRpphFhouxbhJhLMneKzt\n",
       "G1lUkApIivHbKd1d+PaQxXgM2zZq7zl0V/sQTgEkc0mPqogpH03k4QAAAJwBnqZqQr8AEV1/hUEk\n",
       "iXhYDYMkvTuKSmIBAEiCIc7e4Ydl4JeYClsNS5bVaCXZfqUYpjpl56DqjqgY0rAwaB02Zj8T+kCY\n",
       "6KObJqJguUAGydGiOi+QqYcFn3fIeuvxgqnLAhjbuf9O2jnv+7yUL4Zc8+cQJS+0ZVvd0i82Cgq5\n",
       "ENvY3W4gTq2Zp9hqPnmzXL/hEbaIMesBci1OWpkAAAMiQZqrSahBbJlMCHf//qmWAAQifwzvaqlA\n",
       "Cwwh81WDemCxLgt3RdCiQmo9tx4YDsNjt90HcXWbbtnDnm1djBjaigHeLFHbHPI/SkfLKW3AWLMl\n",
       "s1xqXvrfYCbk/20sm3rtwiqUJelLzRHuisetbqS+LiDTbglzux50CvinPOekGYXVlxZ6pHBfq7hu\n",
       "qOMdUOCZFngNcfPeTUZEEZRQhVWCgjRsH+cwqFSMWqdEwKAQYPkxwgy7TpIVDsQaq5lltTpTLvwc\n",
       "pU4A00SJW9BEFLMUlvzZdWQXkKnheE6qr8z38V3EF8zUZY6LCxj+uJfrB98NjFkvyFp2pkQOa27k\n",
       "R/eR9R+BqtxOG+rdm7tuMIA2AsZ0dixxv/wKPwgkiRQBInrDjpZ+CCyE8p/rqkry/Pgb31HImqC6\n",
       "XpyBmqP3TwkHZucKmgFEvu6rUSZ4Tk1alAC976JkRBYbxOFnoJKhl5TBpw+lziOzalYVfCRatBBB\n",
       "b2lu0Y6ng4BCHHzuN3vvD5TW4pfJai4i5evOE4JKpjZupramQ6kwkGV4H1FwAneKOxA4X3mIa1On\n",
       "Y8EOsX/99aysJluw8qwKXLCSfIi4jmRkLq4fTHxNusWPVO6Xxzj/RkSwhTTOYtUfBDHzwmZC2QNK\n",
       "+6iuZ380bXKHr7PzrFoiWr1OSPDTPbogyELhsYUyTiZqheQrKIiNk7LYHCr7uH0ryIYGCq5p6mkR\n",
       "u40VsiEWxewksJIMvU4E6HNSyLXHztjZPzuK9RMX7X6KRPNGXklRs25T7mXJWWs5GE98XN5v9oml\n",
       "iuozx00b2Fe+mysaP7ADAbeTy0phrbs+9/8aSBIYIg50Xv3lZMekVrXYuFZB6Dx5tilIi5bOy7uY\n",
       "+kApXYRmg+HMnHbftGC/yOOesBKRJ3ZIriA/k72Y0uD5luzTXMFkqnJwas9HBky1sbCKfohdOIgu\n",
       "7fMFJTCql/DfiquSAb2oYzV3DtQO3XHwL+o/m61c/0PNyIhrA7C30qHIZq3/PX9uZITYUv9If9HJ\n",
       "Cbixr4B/iY4DQnGAUMwMe87N7sBAaPdR0Jr4S1MF8qNYXAAdcAAAAO5BnslFFSwz/wAJbrvHJjIo\n",
       "xQhyn3Wq6hJZXiI4hET0xsQtE6dDwiYe5/oterg6BXxhYIfLQTJJm3wLqdPOP2Rijuz6MC0QPzz6\n",
       "LHamDf0GRILGAq3lxCVOhhMie9TgKWU2ia2AZ5Gvks6ltRoI2HGMpehGJmO4dROZ/wAbYjq12fir\n",
       "uyGjFEEqYAMok2zfgd8fwPRmo3v7wFnOsJlyG/m0cIWBKbqCzGXm7ehHaXNwxZJNzg6G3FtidJmZ\n",
       "aP9oycPWl18G6GMRXPmHOQqGfdeisyf9tNCCGeBVPRmHMm0Xclmgs6wDMRBzrsAT2fKSAAAAkgGe\n",
       "6HRCvwARV0NFHoxupvv/X785aapLYX7uZRozYRTwU+pZ8DevvgJw0Dl3zy00fGR8vc+J7GPMv1Xh\n",
       "ittE41vqJAm+YT81rAQTzrGpssE6A7BDVqUYANDemTxTbFc+jzyNQ2LswG86Fnhh/tDCVcT32Rtw\n",
       "dxhPUVL3IdX81VYkd5P1JnI2kWpSOjpmQHOSyfDhAAAAnQGe6mpCvwARXX+c0D4K/zfV2rxEQc7r\n",
       "Qah0OBWqZgvTDJMzdLGh2mF2o/Mb5u87wvLEQFs2yiwRz2GDQZkMI6LQXXiWls+e7JtriN3FDnZP\n",
       "jKvWgePIaaF2yH5MU//z/IiAfrt6QV2xaRimhO1ZPisPhf0mtLgc6KwTc98UGTEgoLXZYhW6oFTi\n",
       "SHfZ5ZRx0qk9sSSAis3+DVqUw3AAAALJQZruSahBbJlMCH///qmWAAQgI0UWo1gWe5+YAWxJfqzA\n",
       "aS3E8mPvjUKCpBQwqqN+sGwOTYr6BSza2rUkfrWU0xaWedqiHT3lYKGtfYctH6mrAy8axL5F7f03\n",
       "7wm89Y8n7yIYc8ZkojJ0xSz1HLJkxdueYfUcN9zgveRQQGB0sDXITE7IBWHEnjWhwQpSGVCplYH8\n",
       "TTFWWg5Jxd2zXNBTHBSL/07csWpMOrFSIpW5Mv9J5Bct7Ongk5gVA5P7aJF/pcCcVGJl/Le9n0l3\n",
       "m3pqEGpsHHo6w1ZkndteILo3qZrC84+WbQgeGwppHK+GR0gZnJbG8r355+iuL3PTAoMbvSSVGAFs\n",
       "DiK7DV9UknymFqtgYMdeCEFs5GXLjZ1XL2nPRUmlbmhoYyCTfgNGuWHZvVUc+yoieVnUyzl3lG5g\n",
       "nVus/asOrIXzF3RRtxhws3049ZwnHmYknWbpxZGonEXlfxEUdmU/6R5du5GK7zeqB0bYrn8ryAUU\n",
       "Bathqgayx9rkqcRXTt3XDvxDIZ28iriXlgZNJ59IbBZtaCMfEfck6F7uYbrTmlt0N6aylc+1KBW3\n",
       "Mp1wJ1tJrOkEEa92KhViXSWD5MwC7BITMaTjJlA5sLh4ZHHqh6km70qQjFVktGRL/ZKi3/3GJeKe\n",
       "iLOPnkEC4VirxtfSr73XCZBAXtQuXSW3cCNkquERttqN40W9kv/fJD0CnFceOhznDKvbGiB+N5mt\n",
       "oNa/nQbTUgzljuvJDpFKB14iWkzkESDfKtO0UK+uLflviGMEQLCdJ6K/NXJjPLF2uGQOjFEEPkIl\n",
       "TKEYg4LNbzfbYkO9yq3gt/1E9dhZCKEv9nQPr4At9WHEts70/GLGTlylRT1OebxAym3G/qqk10KN\n",
       "kwmbGR+aFKWurhTYIDDaNU/P1BuAlZqv6ZrhT/pAsGItpLhA14QIrZvkMrgNQHEoCiiACpgAAAC5\n",
       "QZ8MRRUsL/8ADORF/iODYY9peVh2/uerLNLzor7+i3RQwCGM0TO1AOQx72rPgPO6LByHYRlCfoM4\n",
       "oHO3QwhvEsRxnQ9ITOyt0c3sfhN+Zawcd/9kQb5FffBBOesIY0jS4LDBNo+X5hiSrx0AAIboWqV7\n",
       "jvCOABmvIGIs8d3rM8tR98yUGlkkaGkGMaV82xeAQB8uvd+Tiwxpx4wDAFngouvXrYdws5ZNLpQR\n",
       "OFMQNsbfIL6E4SVIx8EAAACqAZ8takK/ABFdf5tGH1zkrS+EwEzVTpjgqawT1VWgSc/c4nUqs0YT\n",
       "QVPTpUfKM+FRg6RMfwjeurvjQSeG9pa2iXxZEM92gTpsvjdS6hOUdSaiE1MSJzEI41+70WsM8eHJ\n",
       "gBNCYWyhut2OabGVTBnWhTm2w8x2/Njz91no6kNnTvv9j00Gk0EypZeg3iS3Eonj9/DZPoiUACHS\n",
       "OE7KlmJFdPR9w/mB2Uf6yVEAAANuQZsySahBbJlMCHf//qmWAAQnq3kYq6nQ/Wn4AZ9dMig2AT7H\n",
       "HoKu7PLq6+iDwEs2Cli/SL0qyQQagOXD19Xn5mPznMCvJR4wQaN2g4k5wf8lR3j9Pzklt3W4LeHN\n",
       "dsQv5C11XuYxMMXT7Mo3as6LiNYMb28SermEvIMhQpzn5z1nMf1oLXDLlXPjHvnGL7msvxcsy0uY\n",
       "LM9YDQ+t6Pg4n5AfDJ6PPdTF6V6S1aF5AM3f+9rmTsvTmsGCyRS2I+nEfCLsjDY6vVFoNGuMs9rC\n",
       "dsJH4LiyesTo99lhwvgdD6fZ1d7Y0NDlVJIMZralX151CW4PVeswsPgZ3RIUX+tJ5PoYxRWrAenc\n",
       "IV6j/FMy9jhdQG9e1FkmVtxiwG63BMgLX3FfhbO/FIe+QRGoedcE2TtflbfM756NPtPXk5nRQ1Rw\n",
       "G5nz+M1r+DEz7iZ6dQGkdsOhN3DoCSWiUUaZ+MTT9EA1JYAuSjP2hMLBL5RUUILYAbAIC8cg7m0K\n",
       "qQPpkYDvPsubjqejKEHNRa5/GiG2h4A/bdxMH9ywpoC8IUzLdqUaBsk6nCY4oimM9xKuSZS5cJus\n",
       "VEwsD6ozJbVcqBVYTbMtXQZP/ug8qA5L79Il44yubZRQOHMdGTccdPjKKe2bQoHQldgyXeDkRht0\n",
       "eqnVSRBcqs5zRuEazeWtj9IjSWlLtGEHmoah52ROiUhYSMIc2kW8E9Jypkbq0wlptw+HT12qdBzX\n",
       "VKt/FkafLTHd27ORZVFeOtK2xtMRQzqg3umXlg0wpf5cjN4AqfNY3IebBTrgbsOpd0ZYe+T/72fX\n",
       "T7qdPzT6NW65G2HWYTBL+tGIxm60Ay2hjEU8AHc/POK1vc+a4fDgAaKWpUkTXfWpzOf6Q614/QWK\n",
       "IdHwA3r+Lmhf2QEdtgwSeC2gR8Hr1h3l+KwUzm8yNt9IW4Qqm4fdTiF3vZl4cO+XUFAtNG29DCjN\n",
       "FAOwbaDOGDSWGYDhISsjOQW7iuRPHc0ks+TKIAYpJmU1Nomzq2d3fTwYEDz72eluPt7yhuCpgGg+\n",
       "rRQT43nVb9rJtqPuqwZq4zrUcLEM36qriYDSwtccT5CvzdAYHl/zEbFvZWa6BH1vJJkvqWYnXug1\n",
       "7luWtUWcEjdERiKEr9gEasX5VyaDs6MXsXfLvYxM3p8ICkiQ8oHZS1wABZ0AAAExQZ9QRRUsM/8A\n",
       "CW67yISStSLdreJXzS6vibL2eXhqk+CABtRdUMGtJ0V0qZ49PUNoaYSJ+hbt6hrLoQaGN5LPFX2U\n",
       "tOQfY8ORUtYXiwQ00B5sxvhSRssAqwNaqxaWkZU0LlDARI26uYUgtkID4GdsuhXpj7pvHtlSLeJh\n",
       "eKbh/4XaVWn6pHyau+yGcBNYXP/ol/A/N3qFxPkxARJkbqo3UEMcJNkOjXzZzelT1YnyCN2j8owd\n",
       "tLMpK52yhHgigvFvwL+NTq6+NyGWsITx1f8jclbB9DyhPE/jBavzc/FrNr+qwOfzIfPzAOwMLy4+\n",
       "r0e2AvAzSX/5NI9fevSnRDW9+Dmoc/cAKA1cFFk6ehrDckB7otJ22Dz7AuRG6sUquSyWuTPF6QMf\n",
       "g1o5hyd/Aoz+I+AAAACUAZ9vdEK/ABFXQ1zdimJ0AmWMBNe1uvVXC+YcFULUa92nD7y1QFcGdbLR\n",
       "+tckD3C74zXToU2TvcYLuEhbEp8hSyCP5s9JKkRn9EZXZeiaJbPLHsPSwDowON0a8nW4bD7HNf2g\n",
       "Rm/nGBiAQs3Fo86AII1HoEh3w9Q/iANhAJaCnlE06xegffXBgKQ8TDhPkeBRQdBJwAAAAI4Bn3Fq\n",
       "Qr8AEV1/m6yCRUmL7XNOZ/F4UQ0au+QvtjIL+Wf66bEH0Nig2nxO+43zq/oa9Iqy07VXUOoxmVfS\n",
       "yW+joh1pUA3/rVgz4NMYsSj1ul6IDD7vqXmwMbti9GfarXKcLQgBYHb/ngQYpwDMr39GCGMk8bho\n",
       "Tbd5q3+kEqLO1ArJbQh6TWZWcQOOkiSdAAADjEGbdkmoQWyZTAh3//6plgABlhW+PBsfQAM9rDc/\n",
       "A7aMQ+idH+t7vRWCZaizMgB86cHDjVfFyAFREPP+paCXvjwk+mgeRrgZ6yQHv0050+3RLP9+4T1b\n",
       "JvHxOBdtPt5T+YUie9bHJ4ZIevctFzUTKg8AYmWUOL22ph1znBG4VIdyWF1i/Yiw4uYyabGI4J1g\n",
       "lMf0oJRGTmC+HbNAhFJBgIVZce61hujKBBq8D4M3IeAPCRV+oqh4y95NYaOT3L1wanyR02sJjEFY\n",
       "kbBl78xVLR796hZX2AfXH9tbo0foHaj5GEvJpX+pZTLaYtNMiYfr0jEEyABjOnw2kwMG0XKk5Cfx\n",
       "aCxcjmxEsnxajIkxk4SS0MD1QCg6wHExk7njZ1iLJY0bLHX2itLgk4dcF/XcZf/U403t/KantGyG\n",
       "nAfsteNTe+VTPDj8jO482l1LxbTnMlO8gcdH5PItN/SsWPCM0AKVDmY7cgkgyYi1EJ9wLgoTi5Id\n",
       "efx6xcHW4v7UOhMrtvOQ+v2Y2i51t2blCnMfU5DhoF1GrBr3BVi9pFBGlH6XuYafW9IvKKaVCV45\n",
       "+CWWvo/grMi92NIgTPNmpHvu8fMsJL6FPLxMg4ZZAT7WNzBlH45SdtQC9WxcTS02pU1qiEfkZMmV\n",
       "IxhosDJ7kgSrGfwnSNX4/WRcTlTVzuf2uy5sBxnZ034GEtMqlZFIXqmgpaE2oEWMkjJZtUN2v5Xv\n",
       "VqoUIhPNW+XlmIeCk5gnGJB/OQ89qoQ3pLe7PPZiZWrMupCm5llDFkLCcQ5p3k9H937X9a/0x58z\n",
       "tnmwVfsdnQN2/HtfTrhNO/WBgxwEf/14Q4qZRkgB/wgD6d5Y3kwJa6wbzBulX88Ly0XGNGCp0kKV\n",
       "GYO70hY2V9YthbMlVCr5mq5GmHAlCvddFtPHBoKiPtOoaHczaDabZId+Kz4cs83i5CEFNFWn/7b7\n",
       "2mdQJxuPpKj+jA/F5kzR1wh3+1uDCTsJmK9FWcIRAjypGJjxLYTjDQ8lfqejrPe5fTB+guw/6sz3\n",
       "T2n6/la9wGKRmFFWha19vs3nOboP8imxjBT4CpfA/Mh8Eujdxj4D7toFE+2l1fCDOXl6YN2iSV9k\n",
       "ExL++xrNv6OIk6uFdix4NuP+eo1ZgdqXSBMV0CktX7OTQPYrFA/9/VZFRm+g3r1yu6AfUD76M0bJ\n",
       "tllGp6Izgp8Rml9GbUMBRnPHs9rF0AF7AAABIkGflEUVLDP/AAluu7FNd2GcEL15aSDAQAM99w5i\n",
       "SZ/UMK5GnPqZSP7uUTryrmfUvkalMZI5C/1oqavcdJcv6/fpXo+yhhnfjjXL3QxgKgv/cGiFYRnt\n",
       "3VFhbbdAGucAcGJThn5TCeEuvZrWWSeZfbpKqNu9IhOxbWc2B/L7juB0+QVu4C+Z3jCRAJilV8A1\n",
       "nF0X0odTcke5vwyJCbLHzgBH7ca5esAFstnWOqNiyYbRUzNKzsJc+quGtf1+hUO5xiSm6igkSkb4\n",
       "fXuIVRPDdijLJcgA0U1GzBY2QAkGboWTurtplxGGv17hI5whSxiVJrZV/SkqAy2SpGD0OjwKG3NJ\n",
       "VEjErjMDzX5T07p4gT/XRLFrUaJ4k8CRy3dNnwK5qlKwAAAApwGfs3RCvwARV0G+c6iw8qLP2UFg\n",
       "HI4AN3R2t/H4xRFJMrxLoibLT3GcRBf6qf21OVG6ykfVl1e23tSfRYD44Rcqry1PlGg9bD8vGGBT\n",
       "21aC+XJ3h605L0CQQggR25coQktY/uHzqhfAnWzGoazROF++KraYaU9vU80E2JPq4Lp/LB35Xp7D\n",
       "zVdE7Z/aCGamGfXxpgSC79U+YxpaZYH3qOfUBj8Ps9UhAAAAlAGftWpCvwARXX4xECmC7waMnki6\n",
       "nxVbsEkjBv3wKe7KTjvn1kXfwgrTB9DwD297ZXYfBSIiwkrDNbV5bPoChA1qlZVLV8fGg3v/lVrh\n",
       "1xhYg8dDH5g7FV/+J0vTZkgGQwH9gbxfH7phtB5M1AYhgjBysIHawmWQHWu3I1lputIpWkLEqzut\n",
       "vwvkJDKo+MeA3T+5nyAAAAMHQZu5SahBbJlMCG///qeEAAM7r34Lt/cAN0PmTkia7HOZxUwneLJ1\n",
       "5FoepWHbdcINxAee/chnv8hR9/aLUn9bdjyj3beKFxVCY2I8nl42GPKyjPm1Hrh95EQs5pImRjjs\n",
       "HHZESlT0GmnYwZwXRDZlMjOJTI6mvKP6r2vIXrwsBj9t19WPC+rPWq23NxrIOBL+1A7tM8/Pay8g\n",
       "ACPDzMzGeDAjUKnX6kMsv6fMMciMl4AUiLwwvNOC593BHCYM8Egn8K3yfEWSnqQDS4V0aLkJdXOx\n",
       "KpoKHjwIY9pae+22vnzdYRZqjRYNgGBZ+3Bk6wkoxEmFV/nkPR2mZOlrwqZA5hvAhIBzj2fPhLx6\n",
       "5lRLusc7TrxY6LYV/Msnn728q+If1tYr83vR+5oOWqe3oITg/IrWMwRZZ5xvp5ewqcjm9k/qSsML\n",
       "T3NaV1v2nu7AT7j+cYhYhForDxIhQhcxVpbwed3SSyeXNUrdSrBWV8M7MRWFqYS6j23b2MpTV+nu\n",
       "ky5EMatwveGUZ9E/ZOkRbc7OhjGFLWJO1o6z8me4Tu1EhASmdc8FdIJWq+Oeph14numuJc+uIDUV\n",
       "Er1F+HC0puRTzwUhga7DOu0t0ObEhqP7VfA0qGEwBH+aiwGKtdsqD5+RaRwzQa3lQdR1pvd4//zs\n",
       "5xatI2rvBRFSuIiMg36brWcV37xYTr1HIS8F10Fczoobe6zoVxaf775doEdXoNjYu58BTkivvRKc\n",
       "9oePQLH9z3VVEHv0uqJ/D1+U3ltRzCzrA80KUy23HIP6NaSltK0wg+RX2v/N8BvEO1xw8E1vDYlK\n",
       "bBPFnR/9ygm9LU+mkgxnYPpVIMuZ6Uo07QDsOL+swKedAjHzh8dhpIILQK78P/7I8QLCJDWfko5p\n",
       "WUGHi6ynqEQ5M5ggEUsH9rKYE7YhAb/NxjuqZ1aIclSWnlOm76T6MFm6AEi8tnPb4zyCpYpMyudV\n",
       "JyO9zVOcfj4llwLXk5dMLLlES19MOh1YcdncxWjpUKxbmbCkl91CV2HYCdTjYILzKwAQsQAAAK5B\n",
       "n9dFFSwv/wAM5EXSxaoEPTzy8PDUlGlMEEQmFe0WnePAYAi/LJcyYnUT7zoagszazqs6sC75pJc3\n",
       "4rKGVDU176aq44Wnotd+zjZqbL11xX3bVLVhTKyjzZMjLesUUeiL5W/GywnAvA5nX15dbS1bTwo0\n",
       "CY/BYMZH3BhE6sr6hDYnMQ51mFp2k7EoB+dTzNKfmCBZ0HE9kCJVPtqrbPVoFUTxvyEy8a+6wOkh\n",
       "qSEAAACGAZ/4akK/ABFdfjEP6wQF5YgBm9af/QeXzuIjJgOsfipo7izrbTLNFTIR6J4aSOBK58pi\n",
       "Qad9Ra3eskBSHZo0n0pUZbxxa9S7/1fdpLtExth+h46gSpsXz4qiFSsYL+ZU3xiacx6KNHdhMwR7\n",
       "JHyne16IwIiumM+S9wNWgU5t0A62Ks9QAm4AAAHcQZv6SahBbJlMCG///qeEAAM7/SCZywW9bZPS\n",
       "qBoL68ElDJFegAK5Dgwr4bDN7QnlpqvT2WI91hCfhy4uROa6fwzQO8nXzFOe8d/Mc6+x4+/NkFtZ\n",
       "Tj6DPt9CY6K+357WSFf/809wO9wnmeTQeFkKscU6JXOqTCDc+fr8xYzb4HmrxqLlirNhDSvvmK3S\n",
       "8axYZYtlbmgUM6VLe6VdF63PpBbYNaDQkplMIWPfAbpZO3RoTQtiHBHn++JNKQ6szGYwJv2r9flf\n",
       "Kgdn6EfOVbOXvRGGTvlClDLcwtOtMweVJwjaboUOnOYzJ6ZqUZ28WO+rjGuewCYnc5jW4VZFq1mJ\n",
       "V3HyjN0rWs7uVQ8o5CDb0eU/U6w0D220PxgTYz0I3cKcqmxqapjvOklE0kfTwN7Zz9+px0mO1sZE\n",
       "/fCyTJf7bPCFy6WoSE05pWTVxRH0WluNHtySpW3E4B08Oga5MhBx57AU5UzvxKOP0iY2gYP7DCJU\n",
       "w9FVUgM+u7amyJn6FBHD5dIjiKb9+9MZ0dKCGtwyAlh2gZL/TP685dvNH8iX3epfIFfRMv/g5dH4\n",
       "i0sYYAURXnmryi7EGYqd8NKRzGs2eHpun86cfr7Bgmrc4yg/ZWWCg80UiWlSCxiyAakAAAGhQZob\n",
       "SeEKUmUwId/+qZYAAaDi/Rtp2goDIg2OiOW7MBFoP0NAApnsoJDpsCE98kePo2i7ghZFcdH3QR4M\n",
       "Ee5yTDZqA3laOboa27sUgV1nYcE5CxjVWxS4mtol7fhfjTIdKtctQiNXcGsabmZkoAjPwNfg1N2B\n",
       "Q7DEJPjL7peuQV1yYWIPlruPRMZieDTQDntHfqCEPfnlLGkNl5MW2JIVeduUEbWEqjHnd1YXA0El\n",
       "HrfkuR1NscBqlk1Ryau6RmngsNw8WoPlybaGMc6HUbFhrG2wKX5OEnWCGgvOa2qhfqooip+BLLvY\n",
       "UDQyG0VtkNR6f6AejHx85b0igBFWOfiwQy64IyOHFwYQuRD7kdtrnO1j7aTO/IsQWIerZ6znWsO1\n",
       "cQLXqUJQrZuNsgiB5I5f6d3R89p0u7+Jav7tOxMnG6TUPCvzAEMvrVhCizjPLhbh+W6lZOMjYZ9i\n",
       "lYxIwCI0PQ0NRf8W7v5VNvgxzZbra94lh9Zw/2r4bp/mJLXYz6/rHKXLbXKKFofn/m+83gZJvtWT\n",
       "iu2cYBSKyAw/Lmf/1uEfAAACh0GaPknhDomUwIb//qeEAAEtHtRvUC8QAfWx0o8K7nLyfNJj3s6t\n",
       "dz5OT8jvu/t1w1GqfTxKBT8vd0WkeE7p6+gHKduBCoWJrFNcODVPaKDjCvf+e7opGgjdowjvxGjs\n",
       "J9tcBy8vej1IJIH5t7P+3HvVZx9xPeOXxEqurMsO+bzgi+CMxPf/1SOrTvRPnY0rBAMnKIlIRvSG\n",
       "y90lPOSsHHYOnNi+EPU7Znx0YkZRJbxq9wiiqG613b866gXOrrVWx0TuSCei+Xfht8zJGAUyvP7V\n",
       "L4eOPCB/T7ok6mbgYtPd4VkV+P7dUlgDqW84JQ0tw8ypxnMXt5U6uaRgHZsSI6rl+oXEhVqR2/pz\n",
       "zHIlglBnnOBiF9ERfc5iRDzQOX5qL79ngD4zsd7oebMUnx5H21P9wZVxi9pe/9OnQ+UIq51K4rur\n",
       "Adoe0RiIIDCJ5nidnuT+SN/UZxNQnceHthmvTGQE/4DRcp5bbypiK7e8JQ9CqHlPUOjnEMfMFaAD\n",
       "cV7hbz1Kk8jvCZO3Abs3ZiaWgKRWNE0kiH7gXZRN0+AmurnK5rLnHv183bPj2THWGk+CC7b04feK\n",
       "7npWg868MYT5X9zgzgOZNNoe9577c6CnH2JKy/9so2umFNI+Zt1XJ7z2M0DJb0hBy1HDhVg6pKhf\n",
       "421AZIuZDCZ6IrWdS3cpsAehmzVA1rhIDhKJQHEb2R7kB55TdjXhDcXKd1GiTgFGERaJycmDgcf+\n",
       "fJxzWYlMqS83kRUEY2nWPEQ/G7fVZRpz22DsOJEghiuL2KN6nkU0nJKAKrL0dVZ9ppkXRo6q2l//\n",
       "3AHmesLxmHhdyB7ntDbls4C86zuGz2wvW8InLvUiGz2iN/GsgAQtAAAAwkGeXEURPC//AAzji8IW\n",
       "BimsMrXovQKIgKGsaHgsH+1DKGRzFSI2PmvqKh3XEwioGLOFS1TIm0z/5qLv2NLolhA6RB5CH8qk\n",
       "1iMqK2nUKKxC6nC+TGnhA2fyCohnRsI7fJuk/F4AQ+yCE57Xu+9sj+Mn/CmvL90thRGPKdTVTIoQ\n",
       "fs5p/GiKjgsRlWr8sg9LhBmtpf0uZGAMYFhyB2/KYpdTe+ny7V8ic9e6ppYZe9gk+Y78HPPGn76j\n",
       "J16nwGiT3J6pAAAAkwGefWpCvwARXX4w/MVKqGJORu+1xVJo4IKSi3/I1CJnmBmbhdP/R5sHD30w\n",
       "ayCxHIpGJYpKhpZMtgzwyqDUOOauOQCXadMNWPtXMl7uDp76epUYutOdgQpDL0re/RGI8wbtJVSY\n",
       "juTznCKAiAkcTLN502cLdXtyaVvwZ+AFna19/I4iMsRcHmb8NwjuPQfiF/AJwAAAAXlBmn9JqEFo\n",
       "mUwIb//+p4QAATbpvX6Nmr2AAtlqfC1PTGdQQ+jg0b7nd/2HBIyUn8eDnJZKmmfW4sBIf6e53CwG\n",
       "Oeu43DaF3W8TuHNR39DH25Uma1iosglVys94IoPpd8qcFNeKzRSCVh78e/+IzmaTv9ksBgV9JYy4\n",
       "HTX81wa0TzCAV4SfsswwRQfWn2FH5fkhm5PE3b8QEboHy735H/6Ggaf/VKutozhl+pQXO6sHjPIg\n",
       "msi2AqkZKix44y/UnbucECDTh5HiXyzZUXfqQQfING5ktTq0Hzeak0YoQEDeyMKJaG0V+T/JSB/g\n",
       "oPKqAXBgZ5PiqObyb+VafkUDQpZo1g4NKmV+PzlwpV1h/FuwsTBneUCQJBKYEHX3IxB3pQ1YC79y\n",
       "hHFCM1++9y344/RKGIH+P5RzcBM0m3Ct98Nw2RtRDoA2k9Gl+k7jrR7f3GkZ1fA/rOQapGes+TC9\n",
       "vMGylUQk9VKTT50nJhltCvolXmEMBQn3Klj8gAAAAWRBmoBJ4QpSZTAhv/6nhAABLRzZrvLgA5sx\n",
       "zf3IcQwRrYaMjD+cObqDKDSYUZkqy1rtPEq1uvkD/N0ZUWoSwn2g8KeAamEQDj5GN/q4nhkQjEgR\n",
       "SBlI6QeQMQSfdIiLrAGUbl4krWb8kwYa/l3XPIjdwkN7xv7VpspGde5SGNHt+6lz71lJkwXuksEP\n",
       "H6Enekg8oXQ08SRVsPl0HJtMzjcYDCyRp4lATp+8ew2DvZ3KxjId4hFl7F20pHNGjRizMYXB0xp2\n",
       "4vlLWt7XaXzZZwF4OLoEX/wkWfo/FEG7VOcfKGrdaWeYLzpoPXXa3xagjFn8hwLsvJY4FYjHOW6Q\n",
       "iWnN/+tM/408Y921OPm6Nt4d1AV8oOeSvRnEMlMJnNcuzHqr0aymJyrfE6G5GDLd5+hWSBYt/j+b\n",
       "OmQiRHaoDfG1XjRTwxFJSbNKS3Y5dx5MqvKLetia3LxHBnpbQzGXIwjvrKA8YQAAAbRBmqFJ4Q6J\n",
       "lMCHf/6plgAAnBcPtAZvwlXZUfIHJhcNdsrbLpr3kzW80iS5PaXsM/J9QgO2znlyM6VSBVLh7cxt\n",
       "7hJhRhSL3wRYWbxhdgOMkZepUXQ6HKW3JuD6BXT37V+8Nvoojsp83oNhQ4JhHBX7/bvKQlmC23IS\n",
       "fmk2pxE+ni1958nTt/lcENuSjFjD1n7mu15pMiX6u+uC5RzfR3XIXCOyOJ7mjIFqzdRb+ElZviA5\n",
       "CkQ0IZ96H2vvjxzxdKlAFcWi8ohvmgbuQQN4Pl7DhoJclL1vN1kZQccvTJ56yP2eSBicpHrFHcaF\n",
       "9rWY58v4qzhKHqcjVp1fMqQ9CfZkBECgE6uD+VBW2UKcyUvc+zfcKbAt/MqbZJ+f/EujihW6YY2F\n",
       "Jx2JE8VQbW56qYg/PyoMRaO4UM/LxrsfqpwEnydNz3iIJfVSnmnEsvrNq/dsDqOWWks7MbP4djYS\n",
       "nqIHFZj+XdKqxOAlyD+6qg3H/6KXNFFLKBHKaw7u6fFQ82XdasYn5VMS6c/KlxZm/1QVUbbavOPQ\n",
       "gH7cze07LPPtAv8BF/Rb1qYtVprU7uip8mCWISDgAAABpUGawknhDyZTAh3//qmWAACcL95Ll+hp\n",
       "EPSyuOXBuR4hrnAAs8JYcplSFu5ITIsrLl/oEagMdxYKis9mxmLTOh8db5DIHtTiki7Ewyp9x7Pi\n",
       "Cpo3BRXI+K14r7WtE0Ri0sYCJ1ereV4sM12RzdlwOj4jzwnvx6YTLPazmPD7yKloxRnUXtWriiYS\n",
       "OmwrU0dmEINXcn/2RaA0UKqIG1ULeDMwWO+HFT6KpQ4luYgRyMSzatz1wseaanVSPAQSwKLrDXTO\n",
       "yO4nSPkM8A8OcZavFAo8zz0isCs36MxdX6ykbr/lHwNfKlccJvishnfGIuRpqr6khRJGQGPoOLQ7\n",
       "pA5/8k7RyGH+Uiyx3/BWYHTf5s0eUtRzc+sHB+9Vc+R2L1OTyLaYJB0G5pZcfetk9xcn4qp7ed1C\n",
       "1n/8Enzoqq/7KccsFAFv9OpFrzU8oDmP6WmcET9j20I2F6PBh2yQhBGMN2Z3cSrnWxo1Ct2HSwDk\n",
       "x5OULKdtY94s5adfHmv3FViveQbuhL/kxXhFWHfOv3PreAXSqWdgvhBRVQcs6Yr3uBmOf8TQqg0A\n",
       "AAMfQZrmSeEPJlMCHf/+qZYAAJj8js0ZGCQBHx4H3ndJ/FTDX7dlFjrUtA97T8W2HkrGtVuklz9f\n",
       "9jYi/yAMbaEVl/Rbj5FgAj3USMx3e63tn/XCjeu93qeCraEKbzs3uyErBzvf0WvgYeKcFRdR40To\n",
       "W5u+YhsCTGpHrh9m8F+gFaGzQu6JOxNgWbIHXcJI9OYQ+4TfCMZ3Z5JNChdond+DgE1Wl2/QCItA\n",
       "Jr+gwofvEXB6KNREHpyKNvci3FNn4VS5O6JukiamETc6WRQ7M7oHvyrRX5Viar19wfRSdMlESnYq\n",
       "gMTfyRV5yJgpZC9XVBggFnnve8KraTecXATTtoFo3XUFX7YDzZzjb9qqOxdAwGCnVKhve2QFUe3/\n",
       "GOY/iTLTz7TRk+LNB1/DtNNkWOfxXmE37V2mVZ//VRe2c4t0rsLomaA5sFUuB23XQCmcDVcxTR2A\n",
       "Z6+Y5SRE9qG0vjv7CVX7BlEGqNK7I0BGQrTJ5Q4a9rxyXb2J5xc42GPd3ikYWm6CbHlCTziExSuC\n",
       "jbTh9h5jAjgku+T0SMp+BsDCFce16xLzB4dTCkmMvVT+UCUnev1fr5JdrS2pPktc8DyiqpaQQTgy\n",
       "pH4/B+kebBuoZzaMZIls/Xi+tq801dR4eRaSTYljQq3w8ELUGH1tgoNmog28H4Zja9ZMfio8/PT9\n",
       "nU+7pmxDVWIl0pkYoUC/i/D+yGpEtCB5/7wO3fopCmutpQI2ljvWUDluLgPZy1loxNFPPpIYafuc\n",
       "UaA7Ryjyi0Q1QbzarX2pnSFn16cgiMvWY1Ef6yvGmFPpNcPEhSVj+0BltnkVIEbZGtiBtbikTShF\n",
       "UIMi1YOQ3YI+0N4Lw6EgcXw2UXBHVLDYqGriIKDu/PU0P1I0HLIjwVIgp3hDx+aw5ehYh2agDC0R\n",
       "1XRpCXr8KwvlCFMn1XVTakjlLZ/H8W5Wuyg1LSG7RscHXPDckrmcVtN+dJrGlgYx8mWXElfYxCsh\n",
       "iSbnbXB2G0zzMamlVP5B7i3UCRJkl/urDyyY0S+alEd2NT8MfHF4qUMcPqrB67NYWucXmyTMG9Fx\n",
       "NFwDfgAAASBBnwRFETwz/wAAgsWZgcfHCAW8uvc/dBvTp7bid//0QVL6hea14ARHQ90C7zy26F/V\n",
       "gJtKOpUATS5LuAvQ0kLqHzkUJiT3Plq1vg0tuDy53n/E4d7OSeRdIh4/vkxx9dlnX/fWmZh03exs\n",
       "VuoAhPDclZ3x8j88n8XF4lu23IQ5Kus9MrS58PNl8GLJyYFwnEK9Iiej53PNKqjEFg70KotzCaQJ\n",
       "X0UDmPDP2fRUOyXJTyC2M2s07LTqHROCq2Mt1EAUn8A7ZQf4BO6H6ft6b0oj/x4/uUfgAOcj83Cs\n",
       "jQ825j+zQmpk7ACNCIwHnsDpPHhI7W2B3rhby09unhKpporxIFLGc9a/iH/la1iJ7xdes4uiLzx5\n",
       "HfwTdSa/whpaLtkAAACTAZ8jdEK/AADy8BhPMoMZrokGJsfwP4Zdyhn3EUSD5KdIuaZPOwmDpB95\n",
       "teKMFsKYiW6QAHYxfbisoA57JDwEAdz2t5R6nJWzjkIKkIPwALjryroGShJSeagLSlpeHOlmsS/o\n",
       "E6tSRCCFebxjeQ8D2BrxivOIuTfqiaIcGLofwVtfTnnjpIeWe+r84eVyNHRUAAJfAAAAjQGfJWpC\n",
       "vwAAXSvD0JaKgiEZIkFUmOm5FIFqdogo5siQB08PHrj5EpAuvYAiCozkX5UVCuAdZwYzQLrgGXKx\n",
       "vjagBGxEX8N+4o0sVzCE5127LL/R5sYaoAQ4pm520AGU4A3Du9Hla8zmEGtYdkDnDXiUt5pFY49r\n",
       "0URtmR1FkkWfbrHXQjUne9+Y3IAS8QAAAklBmyhJqEFomUwU8O/+qZYAADjjg+MP9oANl4HpfU+/\n",
       "xiPOt9cgBTLzWt5l+9w12/1ynUpDarPkwtd2tUi+hErREsMxaV5gWvMhGOeowddvBOGxYSwSv2k3\n",
       "bJqMiyRoHYW0PDD9HFyBOcU8UVP3oOXN/HTC2LCj9P2yaxTducgmZNYR/vm2uNWJFwUYPbpg/c1o\n",
       "PUAfI0/Sppzo8DC/xfxlHIby7dWRVfFUFPVHviAfivxxdTPYJmKayfyxD31wzfv6HbMqIMNd1207\n",
       "o0Ae+HwTGemqGB/fNfMg0Vk94Adtxl36krN9dJhVLG1MGv1+uW7XfNxLdpjX2u0xskJbqqIMCUE6\n",
       "v/7GxhwfBHhtdN7eQ/HCrADkC+S26lsTR5vLFBGnmz3e8MQ1HXY59+YCmuinCCYe2KYdi7N53Fvq\n",
       "CoouB2fGmXkCmm9UJA4XnGnWyj53ODWXvKEfsT3Tbyr8SSjHcbxeFjst/iAwr66w50CS2Jr5QhNf\n",
       "1WUCcT99DXpOB65rqRJjacutMbK4nyYYmILbIrCuA3LpzGDQYWcLlKKqXXoaD+5cObIQghKUTx45\n",
       "aZYGrX8PcaC1IcVy3Fgl5zyxFcn6HKAU4PhycXY4BaBx0Rnu/CTJ9nZbQY7ShLlrUuQxtymxQBK9\n",
       "Re+b7BG10V0L2GEZOzQ/YIOHnpRNGUg+u49oAI8w8gGdwiE16Fcf7azpSvg/aOVWMF0bJC/Zxswo\n",
       "0jfqLSUoLsUBiq0DCldaZxAqN8pcmZdEALdJzKTnqnnNV0ppDcMF8IEAAACrAZ9HakK/AABkrD+F\n",
       "7A/Oay36HevQLSlBaCka4VmGc9m2cOqJ89IvK+GY0Ma9YDPYCIyZSf1+oANFBPw39J0FWGhS1Tjj\n",
       "7LFj8Z3B3JEO/TSlEuulYCUw0CmFcH48JUSaITfex85JuZ8ZSPq8Tq0/DDs1fut2A7XRLRRfe8aa\n",
       "7JxK4U6L/Qn8Xet13kqePX8VtVGvpIKXv8QVbBOem6FTdogu+6BV4NwVN4GJAAAB00GbSUnhClJl\n",
       "MCHf/qmWAAA47UG+g4eC6mch2Z466u+cPdjWDECVY91FP8HwCxQj01TM8UgHUMUaaPr6AxFGMbGJ\n",
       "ZlMRIJkAxlQAl56utPp94hXCtLg+Apzh60zy2qrjgZUvGhzm4YGoVDqGnLWNOW6zfScL++6bavHi\n",
       "W9ShN+mSYSLC4bdemCU5UMDIXMpFqLdN40mnHjfpav75xt7VI/O/Br03EheirWuMJezapEjx3nZt\n",
       "TQbY4Bc0TDTolNSQHIUkDBlp7HnzmTBSpGxxvOnw+26RQmfWM0tuVYdj3pY0E1sHnX2hkLqSGp96\n",
       "X6gDx+HqQBfllAuCd7VdKzPcU/FwF8V3KYG/FJlwZjqNIAaf803dJ5Yy8DwRM7ty1Xg0L+p1RGpe\n",
       "QTKBk+amFQ0oR2X6Eti/eAOTu7oTeSPkBiuMFUGODZnTLs7sS9izovpW8ZEMxZImdW9M1YcG9Zl+\n",
       "nvnHA7l0b3Z/S9u5qD8ivh8wLbb7PhN8tUgY/bGfT4hS6GCOtmfhXlNbdVcuxyvA2tBaxdkWVcdY\n",
       "mGW7FmwetZuMMhnEoM4oAHGLNZzWwQTNCgSrJAC4+DvuUru4LMB4Cp/7lXIdlxMp6aBBNvjuSpWb\n",
       "TBbQAAADdUGbbUnhDomUwId//qmWAAA5PtoPPgm/weO8AF05inyFevFa35SsncfCK/zTl+Z5d/7d\n",
       "/vjVFX/6Hp8t6d2tgubkFR0n7bL/R/frWjGCwfHt6TYl7PFhvfJstuDitFfsWyRozo8oZlndr+1p\n",
       "5XnW3s0k5uspULSk3tex+eZ0Hqczv/2HsQ4PE21no6Db+Bn0AGwnA4eLP9rt4pRkZOfqkr8nYP4m\n",
       "g+fv6XidCXQBzca9uDv/uKm9RsPnrtXMXFwamrAIWGCUoDRBWlAczEDWRTpzp+6FWNzzx+lLgwPZ\n",
       "DYV+2tLPg4+XjwAUSkoQFtCGS338Ltzgd8mE24OuHDHgadTcw0jOECflXzDRxzYapl0dgzigivZu\n",
       "RA1anTQvKhruQIUWj7/enpVeCWSn1+YW4YkEITVP0gQfm4TF0IunliyOBhC5M+kLNLwIjj9gB8y+\n",
       "LQMraUgudOODoQAC6Ki9fAIMLQMvTdnME4+IFmJcbarNnA3lEEyPD5mNZU5gMqnpzpabgXJvl87V\n",
       "iwKqQXDaItC1ssLQQms5c3oF4fuoCx7Smi8Wiuc0j7H/ZYPnfTrpppd1YgfCVNiaq1bp4jOKYqFm\n",
       "tqeGPi1TKgN7eABEq/ejFgtCGSi5DW4lrnM2oHO3dHMXfilj7O8Cn5I8asi9Oy2DTxyhA7+ZvfHN\n",
       "YAD/TAmxyqYTO/vmvlP3fGolYozUr7cWr8b1PTMZJ6knCa5qmvFpmi9qiWvjt5ZsHUP8goaul4VC\n",
       "6QWWjSxJJtWZ0ah16I9NVc3dyfqUZMaizU5QTbvXRKUNnthNEG6DfFVLky0G/+C7xJGGupYPH2z6\n",
       "Ec+8bFnyTik8uQ0ZReTiOwUoAzoNhf8fQITXOHQmwLUxHPdxJaYHShvghj6q/O9IweZopCJTNj1e\n",
       "UXett+EtTTeFfBRX7kbhkX2P73x6N8JfY4BRF4DibKHz/MPXeCdJU9FqM7l4f+4z+o3ZtCT36ce/\n",
       "wDm5YTdq3d09FXAyedXcZkbjHIKkWJiuX6CG70jmKF4ccMriLwHSoG2YD7QRMMi54FnxBCImgafG\n",
       "SMv1QblYQsOU4i+VZccNm4kGL4iLOlvZCddqW1sHrDFIIplX4vrgqE69Py7/ZxJoHGVBKtP+aYwd\n",
       "F6yQQVoCkV8VGjvvsSJCPyq7klHwIjkYOu+bh7DleZUwnCO/gQAAARBBn4tFETwz/wAANgnAk7Fq\n",
       "q5Q3iggTmj40wAOt+hyrAZqL5yBMVIhbKcQWOGGEH/I70jk973KxOLWetrYZvvLZxpl+H3kgNzOt\n",
       "A2SeqRT648/ApSw2CBXes4EMjBjQzV6uC9siTlzPZ+ugvrG7AKp8zg9HM+RbVYKeIC0/U0EqROAg\n",
       "Y8lRqlk4OnJVm/2wo/SUTk18H7GhGEnuQYlIfoGJDNTX02Gy63hM7rQGdZKPGKfewXOpVE7Yj+yT\n",
       "ZY2uhn/h9UIeUHjEgazvON6pD1IJw1eYMln2wqiCWEAQRWjkrB10nuWKr8tqErb2awdESSFVB6Ft\n",
       "1czc/M5AZH8+bfWI81LPUEySXOqXeOp4CaHirgAAAKYBn6p0Qr8AAEddEAkn/p85Xdg17tEzhyQU\n",
       "fE2ncW547dImXS75gTjE/ckk/xIAAeLh9FZn64jK+pawtQgHyjpHTQPusyqPEkyLFwJiOAuCpjFk\n",
       "MHwN94wzsMCwEGX+CXnFg8czdtGTo50JBSqwJ73HBeTlBSsVA08dFxVKJW59kC61WlXf6ieyn8wQ\n",
       "m6F5+2DjENWf68bJFKSqAORU8MMK1CPHF8bBAAAAngGfrGpCvwAAR3YBvG8zfEMldhhMEOEXWaDb\n",
       "yddgF2E8ZXn1oGyH3twqxxE0Y0zgFD9ECaliBdsx/AB9triN5P90fJ26Ap0NOgqChEoEQmYXIc3G\n",
       "n8b3yuuV51y7LvpWSt+qSNcqFIw36Q6iqz/6DKozYHAyZ0GuT7VO4lJ5+lNMO+wW01eV3lDoO0VR\n",
       "qh6PLPL6o3kLJEUpoEnMGwtxAAACZkGbr0moQWiZTBTw7/6plgAAFU9N4gB8bE0QnddHBB9Cz4ku\n",
       "3vnZpTsSedGs4gRMzStH9kliYUEZ6yW8bVU8d7ak6obOTG8q5JQ1oZJIrnR5QmXxRL+epEghmeH7\n",
       "JXPhhpGdvghF/+Pb/SJJDRJpNo/o5h2XIf9lAltLuTnBcbU+be7EwqPfd1fXa86om2XZJbDwG4dn\n",
       "+wUN0ooIL7hugQSOgDgc5glCp73rFA4ReyiUpdkngt8/vIV+zxQrFzEz/pPESHTxz8/hnbHtp/CO\n",
       "tvVoMgWF7XoylMhqJrYvNsce8LdAaNc4nx0DzsPbzj5IdpO+ieA8aH6BITxJLz0qXLCsrCdH/Arn\n",
       "yfZ647wkEz8FF8J0l8uRcnqOM0e3HzJArnTiq15nFPUJjBod5JDryBnVwHGppUaqmz+fx1aHIu4b\n",
       "3jOPH8gWb61aMe6meFgrhm3zuFidh+VrhmH0mibl3lm+QM9b9gE818m9CDKMUqV2/jrvpVFv1A1U\n",
       "iLFLxcKAcHD3363Y2ZnCabFLv7nAcPgOIVW9WEHlBvsdhbLm6sTkOxzAHPZq0fYRv7okyDdmMu4B\n",
       "GapTuzK76L7RPNL3t3R79IRQdzapsgmvkClGGQb2+oskxJtJzxgO7bykwjS/EMshLEzmXy6IFsZW\n",
       "jGH2ti2I8C41zj1lP1vR6Sczems3TIkVZG2ify+ojkat2+PAGAA9sqqgtie+GFyXUfMf78pKq5mX\n",
       "l0iKIrWL74h6iHYO55f8sZyFtETCcJ4cNLCtmgKxVi6zudNP0jBLl3kXYfcmZ6Ln2v7eqIec+XVG\n",
       "NIguCVT96TuBAAAAtQGfzmpCvwAAZKw4I3A1Gj3lbFoAQk0IJ/5/jQ5N1LWmoDIwGXR1f+GbZLr5\n",
       "ymiV7epAbYKzJGDAgYmjHBp4lg+Xeh6+x7CoL9OvO6u5Uc5AL2qz9PoRMpjFkHOrEcSFWT8L2i4p\n",
       "Dl1uv54vwXHMX0ATp0dO0FUP6Ydh0H2avJcHakrIsuQ1EU+wQeXolHTljLL+Vq7EY7FqNa+kAa6t\n",
       "Tfx9BNGkjU9vK5p5R+8t9hHW9By02hsAAAKmQZvRSeEKUmUwUsP//qmWAAAVT4VteKONTRZus7QL\n",
       "+gMAFDrj3GOQiLke3vMO9VqXeJtBHlyAL75ftA2TB+H54vES28ztwhOsrWgzNOf1poqspE8WMdfJ\n",
       "DZKeoJ/FyyE5EAVm5gkULqVrJQtfcqjCVKxB6430Rf3l1QHrot0ZkmsrZ0JWWWgQUKl9cach0por\n",
       "gTD3fmLrlhJ2BeHcr5HHgc2Mnh2bO87TqIX5ieTNm26SBbyNN4OqaP1GFuvhRmuvD9xBcb1ZHhRL\n",
       "odSGT9HqCDd1rj6TJVFaettLidz4ddDKoYYP+WuDCj9YFExH87kkB4g4v5SK9Lrs2piUQhS0IxxO\n",
       "O0MeD83x4R+2b9xctNmUBLh9WWI9qdlgCJia/VrAdvZJKaLJRwNngZ8djQlB7b4hDVBMtVJuVnTX\n",
       "BayCKtVF2oARGat3XxkKGKV1nA1cGT2tokY/j9jfT/Ogsidf2plOhRMNpagxcJR1DXzO3KQh2i4Z\n",
       "Bk87r4iHcYa/7h0PBf5ic8HsD28pEbRQUQd6LT1D6aFWH6BMt0yNhcXqMpgWObDhpa3M2yMD6VP4\n",
       "i8hy4NkZDNMdSxlM/P7HBEtIVg2mZH/CAcdKNoc43y7AysRfheQp5AS9Bkm/xW0ozjPd6Op9EC3u\n",
       "fyEoxujkur8YckFNASKg/RTxOidudbYaqSKKbNuvCBVMNaC1s2MvJTiz9rpR+RSZTO8xuBca5DjP\n",
       "qi4FIFd3swtA+nOg9gEqpR7AoiYp1pT1MMX1A4rt1pcJYzNpSiheDO7MwC7fiuFMpjeGveSMhD5z\n",
       "hLivPMrOJJLfx7oOcOrmBXiTMua/yfR7gsO4FJSPnVwhBlk3OriZiZA2Q/sieaTXr/n+akYNGPLi\n",
       "8zIc1mqP0fV3myV9g0gW6owG+FbAAAAA1AGf8GpCvwAAY3PAi1r696PZfQHeIGwEADrMeSD5cHQz\n",
       "4LG57ivJ2RQQHQLOxRJQdmy5LvUrimIZrXz2tZX3hexZNXxlhp+Vzq8HKC0rfojIZgMO9rhBThmh\n",
       "zc5YgBjVjglyYJld7mHl0B1a7v3kp1sCt+fcu/hr9Fu7v/Y+Z70iNH/bLZgsN8t8qv72rNcr9bvf\n",
       "PAZnr4X+xJL5syCWeed8BE8/W+YHH4tPaRnX+DrUGMNacH4luto9THHySNu1Lh3BG6LHIYmtlVyD\n",
       "phnVNCuHWgUHAAADEkGb9UnhDomUwIf//qmWAAAHf90XPBnWLnCi4gYpx2nSWNSVo7Y2hrc58hwC\n",
       "DAyE7oE6u1ld5JjgGw8ooQxvZ9EXN7cBQToHGqnsorUpBNJGzOrYu7KUM5F13p3nJFXC+mM2gBME\n",
       "om8n9nRSkqmE0KU2o5P8G7tYI2qRZlrKT4+/pOVaoDKfNn6p8f+JgWh8sN06fkpTGeXgDDL6oZLC\n",
       "LxUl/2e8dkNTST/+MavYp6fNxsCUTO7ra/kmyGnQjK4wKNKiZAj7J9kZv2fmtGdEca+sIzn4KGBA\n",
       "EYOpD6aqpFsKmPAyPVde0PH7RS8Ay0lXN48EwrLpAJR5Wl7LpoU9PaDCSmSuOok+zudsjgN8O5HX\n",
       "kxmbtU8z95FXTdIRDvYPac32O9F4GWRuxgToIATcULabwJBNveUdpMDKEPGYxHM0oigWV82tX3gh\n",
       "k/AV9YSpvTl/8XoMgh4KnbDMLaqJoazo6oiMkKLXilUPw/rhyYFgwbMDkTCrM3n+lHdmDSCBbdci\n",
       "JWtpy7eqJvcxc8LVbd/FwJzZ9ayXk4XS9KLHcDAV+z5Y3/HhAPwvm2NjuDR+i8djELmJVKWgxdWG\n",
       "jg+e1R+HJLS4cu+V/ymnIE3SfTCY5uy3qcWWii3IlGkraEnznVsOTJ387575LOTCAkIPvpeuSzNd\n",
       "jTr4DU1afBd/kzOeR9su3k5tpHrkkXqrTplwKBnN9ZgthXWGvznxFmvUKQW0Ya90j4oFFOf0AwGT\n",
       "MkQWVGLHukdieW6sJWOOQWln+9xI6EiGMtuam/ERlCiC/K+j2RdqtmVZDUkONcVDvfB6UrtzIfnk\n",
       "9cUnQCK6fqOY56ofWaeQlihqNAICj27oMulT1e59GVFy3vXGDcvA2AIV6MV2BCCZHFlS3XJ+EGFa\n",
       "9Ss6SP6ym8Zak4kxR5P9LmdVdeeEfAFZ6xUbsQgZz0V016pePMr552V/Uwo14NUB3b7ywWVVSpiJ\n",
       "0UY3XaLzaArb7dcJshA8NSjjOikRvpT3mx/z/d+bknpAnS5Wrs93jx/9ZNesKk7x5k/L3ntl8lhq\n",
       "QQAAAVVBnhNFFTwz/wAANXuoLY0GCVLfoc6KwNcAF3J9W0oqapQ2n3k6MoCCURhkVQARZoy4hhVJ\n",
       "jMbsfi0+Ay6nA/JlZnpMc7SKV/wVKClsZCppArV0+eyTNjCYqSR+w6oELYxVFVPAeW+odS2v7GA2\n",
       "Kqh0E/TKhMnfuBNrPIxV7IkM/faDi7zbgvZQ47VdCUvjwXACGaHqZQdMPygD5rt0P9a1KV4ciqeU\n",
       "1c4oFWLfbzG1feNckiyW1vp6y4qYSCsWSdhttrlhz3jlEavz0mZYlsUmy8TNGHIjWhOhYeUKItzP\n",
       "yUYQGYW6hWYofoTj+uhsP76M/cOpJVpfHLG7w4jKlgxKju3qOBTBOs9n/hhHSfyO+TSIf21MQDI8\n",
       "9cjAD50svX+Eo7ENc5ndghFGp6lYTpfjHtN2gT/j+LqIxtFcuBHto6k0TjUda3SYJSieCuEkOU90\n",
       "bxA6bgAAAJwBnjJ0Qr8AAEddCpv0LWQzPJiABzkY/dI7b/x4RVlrY/dvJhXhb0Ql8Tm/hXwogWvG\n",
       "pPJobomiB4tmF9ggKMGXmCUyrbEFdl1X4UH8ReA8HmpdxAL9Fnaxvh5WVTN8eGKmWmw07vuCZS7j\n",
       "+tviu18MVSuh1hrtatVKWZA/7Eo+qJFemlAhx4U2XBFFAB5YfJBkTRX7k6lOHFlCKXAAAACsAZ40\n",
       "akK/AABHdfuac+Q/lHgFWtAAh++U2fi/GYK0coRgD9Q93KXTxCWNa7M/vWQEAaeniEhIZtFEX1xk\n",
       "w63XAGU+JXl9uhJZ2oOIVq33cqlK3ycHxeZcJAgae3Q878gRvO1O4UfRJA38CLSJmhDoBSqmmQZE\n",
       "+6o8BDsyfPScaodN4WaFCaCYqDQQHFwmp52juMLwgKQPPatXtKP4z+50O34HTHhHx7LGOTRGBQAA\n",
       "AuNBmjlJqEFomUwId//+qZYAAAcn20Hq/jLHtjfvwALHWB9v42JusCc7Xrx+vPnNwQvdCuccrHEK\n",
       "xh5HyLmz22pNCCkv9rYcO8iogy9rWIhzL16DXLDDeoosWAMIqiHo9AK8P6D8jKNqZaokHJb3I2DG\n",
       "t8boz5AR0FJgwhIOBEq97/G+CEc5Bo3fDXlY4chjCuD5pxHc6RbsNYGsE+wN96WiK2Ow6XpBPyFX\n",
       "I36jXyb0xNJtr98wwp2zzpgpR90Pe681HzcQR/+Vyn+Z+4JZCf2AM9kLt8cMsm4//mLtfRn7qlxJ\n",
       "oKjo8WNtta5ky55uy4St9e+DpOUvF2t0X6OfvJ/NvFcAJfYwmhuU6mNhGSXHrBcq2AYx9WVeUOmh\n",
       "Ry35u/seL5o3f7LbXiuzvrR8ofwDCrHmpPT9YytahAcIpJ1D+B3s5NPoTJrP4lb5E8TCbqzqnBoa\n",
       "uUI//oprFOvOAHQv3hy2muGBSljc8fBmqQntytaWwyokjUQQuP69CijlXWP8zj6+PN6d/v3mcKvy\n",
       "6nmOtkxdIkA3tAS4oFORLLfcNxdq5RyG3jRrupVYykV2piDebxGHMtKeUzN+SkdU9YBTWpv8qw5L\n",
       "U4CUF0risaIq6e0NNyMl/vIqeLJGOPDLIrlvJ3+FfNssoENCkh01p5xP5jVBAkpfYVMjJPXn8Xrr\n",
       "nQ70z1EoYqg//ORGbeq0/gmwUoCIGv01Cn/rEJx0wWwz6SJIt3DjnQefgi///lKcsDNLMrQ0V73E\n",
       "FRkZqN1l0uPYi0R4fY+WYCZ/33duWETzgxYg4d5OAhuezA4Z21dqQfH8DoMM6s7BNaxovi+xrVpo\n",
       "9mXic77XZtoN4MqpoUa0Sk/9Ml7NBGjYV23Su3ST/IkFUj5PEFjvmZC9U8nG8y5G+KJizWlYJ127\n",
       "nxMRhEXTcGFiS8t9ZUzXdZpWPUqHsme5QIYD0QzfU3YU1l0RvTY1QkctQhZecvhIHsh5sQm3qM8g\n",
       "AAABFEGeV0URLDP/AAA2DDqC4xS0JFIChRZOiD5/agZwABDyvbTDNt7Shkuxakq9xYcUr1L2o+h/\n",
       "MlKbMXPcXZh/4dqygC1+hcD6dATpi8PTFNz6om6TFR/fmdNBxV5pQLkBzeK/P1nSdeD4mD3z62q5\n",
       "481Ccdm9AXTaZAED0+kifZC81x2VN+vi/+kDXCBJyusR0kzT9TODU0XFJvm+vVMQwcre0AGxLVVn\n",
       "xzbrhKN3iXJ4WYe4KTXq1D3+nMyfGbRoMhI9YCBVzy5ZXroOFNN6hjhGNKXoolBfXPQ+f56daVld\n",
       "ROW/4vUhQOXY2Fqw+nplVQ55/l5g2c7WpAwNNc/+g7CZLhWz3XumLJdFnJPnwH7GJqqtgQAAAL0B\n",
       "nnZ0Qr8AAEddCpHRQ54jFsr+qRRDAB++icbw3XYVE68DUSKSvYBBGyiLQAOtBW64M8n/QNAbyUAx\n",
       "hYw/qrM7NsTHjoV/6D6zdmQc3Ix2KnzTIARxem1T+e8hh77H/LqdUZb1M6EUs1hdFIFrDdF/CqXR\n",
       "7vA7T2ubioAl1Fw2YT650gQIGe5OdJje3uCN7QNaM8TKeyEERjAYVu9UGHNnFikqYkAfThWCgjQa\n",
       "0SNHgw+1r/VeJbC4s4+XQsEAAACJAZ54akK/AABHdfp7Lua6kAALUhCafedhq7m4pVzGyW1ehotG\n",
       "7WRjJshYxaYqIWS/4ab9QL3G4UEKLHgIwKpA1574XQazc9Cl3eimh4fXjAJhHkxq3HZ80cMTmB6P\n",
       "DjZY+C/I6FB4YFJdNlgz6xkrE+bnTB+yaKgFEdU1TvqsaJwGIYaKV/Jxq8AAAANEQZp9SahBbJlM\n",
       "CHf//qmWAAADAruWt/CV4Iy2Lb4WN1sjeK0EZ1baKJf0/yigwN63m/QSb0IixyFfkSISsUpReIPz\n",
       "UaVgvyM8o9vd1Ti5dI+Wpd0eXiIL99ZJoQ1yJSr4ElyjUK+EbestL9ValPEcfQFF5hoURk+hmlWJ\n",
       "HpUCnX+WbSyZn6WC4SuXld6WcHGxzWTeiYg82o+COl4zhVTINgbH27+BaaWx+Ju1Dzsm2Qp33grZ\n",
       "IRJLmrpmi7kMiEAzM02BgHkz2iUBdriFWPI230vVeEWnP2ANMAofxiN53SBsC4MNKYChwHj4zpbs\n",
       "INXXgwKq88zRzZ7elLIPY2+YoESoGr+8L0aBG5ohX3ZaxWvYW57iYovEP03mCQexVL82ztJ1WyXi\n",
       "kRxSXL/kkWPLaUg16n60ceoh4JadGrsWu2Qubso490AOh/G2spWPhP3FS+5m5ZheBh3zyjWdSMxr\n",
       "kLuhoALyEfZe0S9iX/ABbt5WppLdvVoGbTRuOUveQB9ZkJdOwuTs8ezs2EUAzeN8OyOFItMgRocp\n",
       "txFAevskuzTylwd3Aw3FAqzdcRh66J3P8yEzhUvgCnIsnHJbtHB9IGnf6QS2msVSyzkbUqwdcxnw\n",
       "6qaXZdwn056DdidwXliUYLM1t8EVB+fnMRgdqez6NN0jD8ZFqACS7Kjo16MMYbocJMzfEwjcxMSZ\n",
       "VwDT6VZxyMhXEeQkpfpZA6T/R0UQwFjknivCIeRUY3yqEpuhDn+2p9FRmqZ2HQNBSUAxVNHrPgeU\n",
       "EpydR2u3mHK0TwYDuVsVhuuaJtFzEgUTh7+HWSqOkl0gx0hQMQ0WjOsVtT3MeQqN82AqbNxBST/8\n",
       "mv+bXBnXcBtPHCfrhoFG7CBnACxLjMW8nwqvZGh4I3EvpDMBK8pHB6HuCT89db+GI5H7wCXt1zVd\n",
       "BbXAofsU/BtuBkhLsc/XlNAzayP9kqcorUoZnffR2yRD21JNylNSnV/2O6I0mqWFIt9KW891CjkU\n",
       "DA+8D3xoxeFr7k8YpopkN57TNK2gooQ47VztvnuuYT79NdBFOc+uNDY7CmXSM5UiDuY4dPzl/bZM\n",
       "tr2Y9tPTIW98Dtqncz+gVDDdpfUoinOeCLHeFnEAAAFNQZ6bRRUsM/8AADYMOoLjFLQkvAl9CUqZ\n",
       "cZJZKA/JYgWdnv1X48JIypxXw1gk63ZGWYBFUqZlNz5ZxNXc9NWQtOoGO1Dqb56dYUyB6YyzFRm9\n",
       "OCAbzbAz9HbetD93bg9qzpQ4Et3kvqRMttynjd5TEza5noemnKatILs6EiJsOa7dq2FUibNESGkV\n",
       "xV9pwGqqqSxRK1Utr3jlE40IbAVCkZWi88r83mTZetS7IN6pd+lfn14qFdOPVFeAUvTSa7YvHlDH\n",
       "D9jh/ef68KyaDyoyOb8tQ+p072scsw6SUW8mFYeheI+PxpeE8t2v/zRVWhidMtYbXMwz561swDrF\n",
       "bR0VWpEsSOL/7l4BN4EIigJyMQ7aIS7b6lNsz3D8Ao1q4NubCWUT8i+VHBXZ7cf2b3dPJOvIAvF6\n",
       "tAPYeg7qOMHUHzOX4WTmfmyzyDQR61MqAAAAmAGeunRCvwAAR10Jez9kG+lwCNOAEIZf84uE/vl2\n",
       "MmwW3y8m/mKJD/03C4BM6ebvVNxYzf2Ksoib6Z8rBSGe1H5e5hEUpMS86j3w8defTnmSl6rtMjvp\n",
       "YXVZ7B6VpbkICKYztRC4CUhJKUnkxijJwWKKqsffioKwAHJIfI+xAMfhhdIMcfbiUQUsdFxxO1BJ\n",
       "LAw2xCNTm5kvAAAAtAGevGpCvwAAR3X6bz1zaFMUdnfIGXYBybK1PLdBoxkuFWBNBBTVNxTgfoFa\n",
       "NzHxBmUeEW4yJY5LcWSNwDj+D99n0L6ahgxgdtWc5LoKvcC2Sinr2Aj4G512AAzsaikt+u/P28XL\n",
       "alidCRh18kf4VDw8BwwU/RnPXOkJ5pDNsSoSCUZq7EX2yBci7EyqS+nMSGIpbb+yW/+sGT27hPwI\n",
       "ic8qkVIPFQx/prLIPWqCHhB21N6JOQAAAhFBmr9JqEFsmUwUTDv//qmWAAADAlPK/wNG6T90AvfI\n",
       "eB6k9YPvzbIFukm9dqi1cUHNvs1VPj8lGGn8LjwNurnHGQFanYd529TCmRjW1z/6QdQSfmevw0ye\n",
       "Ukal0tFba1ouUoBbYW54oCuqsOMbCZ6wmacgjyuaSHqnybe6WRz8oqj9GskFmcPRPwYKxJC4v/NK\n",
       "W+96Lw7qcYbPGvsq4ioun8VmzgVzfsrEBUJNIY1oB/kbobkFZcUB+3KGPN8clwctjg3sWnRrI6pa\n",
       "uj9QMzO6JEUWWFGWs+ZOQjdg6E74VURPahOijnvIh23myABlxkZUR5l16EpeBUohdBHBXAaAoZQw\n",
       "gP+eLnMTUHRDvDV1nrJdDpDhGr8baNUgxDFcIEkLaevuFrx0oLRCbslimm0X+Rc7Enr17ro+T/rQ\n",
       "09clFeRl4KneBOlM11v7D2sjpDZmbsiT2XvJiKPb4cUgkfvqLJ/IBMbxWsIngbH2DHAQZ4SL3r+D\n",
       "WWs+VisIoHk4+3h6LVi8gqL9WBSM4M841C6k5OvB+fiFFjEFM+89BUllevOMRSpfzCM+hcMK/G1g\n",
       "lCPxnxZARcr1F2g2nQy3zdD8VufNHxKGOZGJikzDUq5bAhgcS1wA2AgaWjftcnRikQXcjI1GIn9B\n",
       "u4qzrNm/X+XjtmdWkw4zGEUxUc6viwOLOXHMdwE0U5lBE8v+i016oxJwAAAAoAGe3mpCvwAAZKw4\n",
       "I3Axivazz107r/uwSsHxoud6v0Th073vjWFm8r5bcfTtvpYvvfv179hzii44+AEuDO7olIvR0wWP\n",
       "5x4ZDfEYevMoQ4p3iPyw6WabyFLMXkTu/inOE4JxCifZkmwpBH7A15FFJlri58K9DeP0Yhjxri6B\n",
       "zcwravlM33knubM9ZhTA1NuZwO4EU3U/oNn3xlFFRozHXeQAAAJdQZrBSeEKUmUwUsP//qmWAAAD\n",
       "AlPVvYkiO1CCMHWcpglQBtcOwVWtqEEdUbPk/xZYzpDPJQjUHHfnJX9b3DdFPnFp3hZ5BpgjUSSW\n",
       "yPh3Ml4hoySZfeKVpZ6vMhyrDOHzjRhp/0ml2BO2kRzjYX8yfU54Gl4N1rPfXTes7nr8Dunq9Ah5\n",
       "ScFi3W1LYSdp6i5KpA/83eNz6vjLo4twRUj/qqpmtEzkDeoMy2Gqjm+dBPIP07xlndYMPx9b/ATe\n",
       "WF0tgbN/b53v/ynl9EiM+tIe+s+lfVFHotMpBEXxalc1+OWF7zGFUECoInkKipq9V29r29GF1KXW\n",
       "jBQr3TjFM4HqjknwWAk5ZnaBOUAVu+YiN6f0Bh3IKW9yY0bJzS9XNY9kvu4HpIcHFMwqOc7bn4pR\n",
       "4kUt4ZWVTKDtQ057rDnfUgg4D6lIvuWnVTfGiNqDIgzJ5a2wZhB5HKw4NZhi/sRSSqz73GlvSEJV\n",
       "S6s69+Uywe+Jj+wRcafGDvq/0VpU9IJqqzTzr+7uOpbnhC3CBH5+wJQNYLKD4fWk/GA0RDWx3GDC\n",
       "0TvrtqNwBEfv/2rOVVtD/hC35r4Wn7S81b/6XmZK9f4aIjBBRWjaH/UFoxMynUK7TR8f8XKGKy6i\n",
       "PltGa96HcGe3w+gmWMjaa1sRSc//T6OqRD4JGccUn2iGFjwi/N2SF74o8CLJSa0MewdOFck8kRpb\n",
       "lZBUmU6WRcp0ccR2lrbgYy9rgoMEG3vx4/7qoRIm7bmyq8ZnOW4nW0dXGVscv/tNDhxuGT8tkZv9\n",
       "mv3kcsSNsx859QEf+KPA44EAAACbAZ7gakK/AABjc8CLWveAsrG2AI6oKfnYBoARBi9OSRUh7Fct\n",
       "5eDSJH/W2tKV4VnwJ+V20pbwRO0IVuxD1Yj5O+XPdjz3AjmQkDGsD6T8TApUns3a3BaKlccO6rQZ\n",
       "XarMsvjirYjNMVWmCnxwLELON1ghX2Pa0zLO/Y5RBImx1ENUKc/r9h1eciVIn5d6Q1rzWBfX4nzg\n",
       "AeqlXcAAAALmQZrkSeEOiZTAh//+qZYAAAMA9CZvqOj8WfzzanCDHsgP+BWaHKkwQKPhjTYk0R2Q\n",
       "Afxc0OcbTwXz0V/PzhSchQyjg81PYc7c4Goh9z69JLMNS8O82gK8Q8eT7y03Ci4DpixnQJKMAe3A\n",
       "Gx++Xn/J3vH4c2hY5S1yAru+0Hz+r+3z7yLzjWzshZV4CxIQb29Zp2xpRr3I2bGjedl4NqfASRLL\n",
       "wqQ41dOdqPH772W9HYrZIslOsz7/EDPjtuQJi0bQcahbyMC7EKu399qvG1tSE/xRVJ3E6bTrpE1Q\n",
       "n++7Qya1mEx5O4tS3ohqSv3Dp8a0jDkDzrrL+UcpL7/41fHTT6XSolYPxO3Wkra/fwj7ORXLWhp7\n",
       "KBAk2MiJHaAvGbnW8cpWanFPJcVxlt/SllH05Fzm17Z8sNN+L14AUQsiajzUrmSVbcmMwTMRjr7m\n",
       "L5lWqoyFPbY8cMj41W4dtcsdARm45ppKXR20vB/uIEGj2C0oXNdDNBTbuy/sTBSAckaBG9xGU8iS\n",
       "aiPTV5Gulv6TYh/zjsGtvqfZ99Zq5tsXEXN0ZGvBv1SkkcxQwlCYAyJOhN0VdBgfWVMBLnHaua6x\n",
       "qP+PhC/0tPbQnJML934i/4jdFVXaYkNPQP7rPAXCLUqupgWFawuOwZh5zIOyEj4DJdaZYR5WwL9O\n",
       "+2AZHxXkpMknLLeU6zwBdD5NUbAcHdxo/7R/VxfHajCjmNGivFWQm1VMmCjDUhZfd965scNy8Cbs\n",
       "HkON0Nlrv1zm2EbwTfEMAK0npTPvgl8BM+9jTRnnXqa7yMpdWPIL+pg5PthgJQal52lWv7pyKWuD\n",
       "dxHyxd5aGOtphSuupKsuCugyk3fEBbaFECh+ufgeDbSsK7/TlGZ9QFHYliGbk9YgwauH8G9/fqsZ\n",
       "SJjDpb3b10RY2m0T4xNEGGVodD9rOd2DDtzkWXdtItgp1JWBBzxrmLetSQM4S07t43a00qFu102Q\n",
       "mXEfREZQT7cT0wAAALdBnwJFFTwv/wAASKGsWxi7wLd2+ckgbp5ehry5Tn5yK4aqfOgWfquBgOXc\n",
       "m7RpKPIb2AHfrGAaQemAiEtkpo8mR2F+o1tQs6VJlFOAKFjNrPN37xcnSWsgQteagjS0wHnBj3O+\n",
       "ftnqvdRjlry+QaUxJotHOJqpuRad6l45At0zyqCMvoQN/wRY+S2sxebW5xFKUkHeFOEpxCtA6ZQd\n",
       "unPoLQbkQlC0svcnWZR+4D42XWtx0J9RTW0AAACgAZ8jakK/AABHdfoPQXhJp2xGzUfhbvg1NsXR\n",
       "kT9SE65iepBG0d6IEojCBza2QOWmeGBIip9cq2HB4VR9eLWU4SQGXcYw0PIMYJFzMvMtMd2+FXEn\n",
       "23OjEIEunZ4PDFvlsQ9+NJQ2rnVcpSZlnEI8WlA+suCot7uPvEJ5m280mV0dIsErLntJd3RstFuD\n",
       "aJlSWJ5m8hMo0NIhmXPGmptP4QAAAvJBmyhJqEFomUwIf//+qZYAAAMA5PutA2XUe4B8Hv3BJMnn\n",
       "1xHPqGWsRKD+hafidthLCSz50isGz6/Ew7IYf/3AWaiCFEBPOKP+fHL33k2hsagdQBF+ESoNG7aY\n",
       "D5qqqGCt0Q2yf3RKTQtu0C50ljFaKXORXdPma7qVCku7SAQk4gOcY9IXcTp/8kxRq8SxCiuF2AEZ\n",
       "7rftzrrNp5dF3W2EmCYAKFhYm45AYdA5mqijae1d1WECHFt9yQQSPxW76yPen3iW2uEr0Sm6lc6f\n",
       "5htYR3b8hwVBsR4ezpdB15sUck1nMBQK7KAIPnjPwjdTaILTCsXAKL9LKgCtHQRRIaeBjGYySMfi\n",
       "GoI1J1Ut8MZeHKK5PlHBVUT9nbfODaKP1iI8EdNsFf85SWb7mUWYiYbfxCJZK4LiIAswHfxCkef3\n",
       "/usGFrNeBmcLEOMT/wnIZIFC57wEU6Q7SXcapifNuvWeQJRDDe4nQgSqDLRJzrPZSyfbWKwy1YzA\n",
       "ycxTqabDhziqf5dDGEf+yYp71azx5OdGo/38TxhRRXxRpobENSD4+Ch/iw87sOu6GmBHtAeO68pg\n",
       "QsGdUdS0l2Wj4Vr7SjWIFGc7B+FMUVAzeGNTjYhpRIyEH3vL5PrR5st6Z4Pm/IQ1Bs883AomV6PG\n",
       "hfb2NCK+f6frGYHnljC+3I/M5aNAQFbCj0DnKQc29Pa5kbtpPvjsXAxN+ZRgtE44Jg/6jP3INmNr\n",
       "PFBx0YBt3IM7uR3j4C0gIW+ZpQyydj/hGA7JYCHVxYFeB3N0XTMTpgh+AinlMwdl1RmnrSLaxY+x\n",
       "zcWC9e4hxTlHTwWI0S54bi9Opb+DG/v+H9VFkSUxT2d408d3qe7H8JhVSLYCONky/pIb9yepB5MY\n",
       "UvZE2oS0SP6/lFoHG3Fls6Pw0Ov3K04CYk8zbT8hTWk10EwMh+ih0E9pKjcRood0KbrOafpHf2ew\n",
       "piaNu6asoaVkcP/Mi6e2paNX9LZ7iPoeKr+BaRh1HLn1TCLBAAAA5EGfRkURLDP/AAA2DDqC4wq9\n",
       "V772mFwNFPiAH3p9LaOmCoAznCC2UKQa7IJy0Y7E4ssh7/e7s9vFGQjfdI4mZg6F/BK3nlKDnJxg\n",
       "/+eRiaY2lsre5fFnamcKHtjoyL+dhwyY0sB7shzqM2/8U67+iaQMkrqmz4j8BikHwQgu5DxQcl4v\n",
       "LLytOI33ZG6iJuhua+Eby5+haiku+rzVkWAy3onxrWk20ku0tAWnv+aWWwrttIT01MeBKxCDv8cL\n",
       "qJdnpihw0m+oXsv9jOJJ+vG6ZEtpBG/8fmvWw1jif8JLVLCLm+Q8YQAAAIsBn2V0Qr8AAEddCQ85\n",
       "wjfbmJSTjUT00AEPhbyuAix2wGa55pZyQcmAjDEpQouZlYmeEVaiCCYRDOq2kbQO4j81yeaCtocO\n",
       "BVQKM++kmCbKfC0QoMRg0I3X/ZKHJPIUZUKaYPMsHxNjyEO5D9us+ZBYRgMwk8pgOG2VMfkKlnuF\n",
       "yGyKwl2eLmFKAAU1AAAAjgGfZ2pCvwAAR3X6DL+RswjJV7RpvuADw5gkHb8b6Mn7emxqLN4498Av\n",
       "+R1gJqKAuLT8kGwcwVO1Yq0OGOaIBtkGeFjKVaxfxeXuipFkmdfcao7WhPFIw1JtsgCW+kftWhlO\n",
       "Pms30O7rdXDknjFIZEHrpmG0iDLXQnUuAB00UO2bzH5C45q0n1H5hWwAAP8AAALKQZtsSahBbJlM\n",
       "CHf//qmWAAADANp/fgDR2FFDdke1cuzaWpiuphu7VhGviQUGOLxDJRDYWsw6sMrJZS2qxB+hN/pr\n",
       "0mkqRwYA1jqnPxUC5oj11CoziEzWjkJjgkY+cMTZwrP7/zgnyJpewrWRCHv7CqvUWDdQZ5xc3b89\n",
       "CURu3AlfF7e/kMc1jPfLQ1MoIjrBQRPnnBx/TH8FZEs1+KrXqRPK18P4p6QC/f1LrgbOZ1SA8BOc\n",
       "FUc3aoHssiTQXVUoINDb2xAVdEJ38nv/7vw9ANOnQLpDQoEJ9a91IoMlKProzc6bSHZOmc77r5gh\n",
       "nzIGzlsnc77T9ieNjklTYXhW/tPCMnx8DL81RbyFS4Kfa6xsF7bv5OS1NxIlrh+IhYdLhU79ckKv\n",
       "g81rPilvzCB0sK/X0730iTXlSeYlv6ZC9o7UewBQzMSde3WhZrnPZMrkM0nKLts4F+KlzOOopvjC\n",
       "UhySDfVj3mMX/7l6XGCA695eONxJvLomKCNIBARxj4SXU74DYa2dXhbWVImXgK551vPluLcVxEHs\n",
       "QMow09e73BvobgkkaLRe+KzrIq6Scc8TLEaoxHWJWRXpTvYmTHlfJyFyUN8TRUoLmuOneWsaUNaL\n",
       "7gvogIGPVgNAMaj5X7sNoSna5It8v0EfMjFVcG41jdsphWC/1onfSmsY4fwu8xlM9lIRdnZ/NAnR\n",
       "C59CScs3p0k+9mqJSof3qHZxerPBO5uxS4iQOi0PJP22RnPZ9O/dG2pvRLa5QtWeoUF/GFAnylXG\n",
       "CYiP0gdmtQDn1gFkeRs8hJT5BG1wNcEh9P9L5gfKbnxYimRPZ495Uvwlo6dus9JxoQopDzCR936R\n",
       "lVYKm0VNBI64cbb9WSPUW8GGZKTg7pL1N7ORf69WVJgRZkiZY/kM1uKlq79XGAe6cte8/p//WnqB\n",
       "hiOphPwT4Uiy3N0NBJnrQeZxnDPgAAAA2EGfikUVLDP/AAA2DDqC4wq3dexhAB0LkngwDUyhnqrl\n",
       "AoMpMp4BppfkuqvD2tg7r+cwWuvqfMO4mE5cVLsIuydz6vvA+HrQsX4igRHnQCLhjMklNjI7rtxM\n",
       "haT9hwvF+eue31fH8eeIxwyP33RpYlE/9b9KhTA9YLIw3NTxZnNgt+HY+6ycOE/PODPZ4pOHxhMZ\n",
       "+6UxE3K4SxQiVkTJajPF+tnkgaSg2omseEqeMnDFrZ49ej57oa505LwIrVlc44Rfk//b9pnmETre\n",
       "OL49YhlWRoFPmOZOwQAAAJQBn6l0Qr8AAEddCQuKvMzwboADh2KWTaXy74N5YptZohfSYB8gvL2q\n",
       "PWEmB3F9c0SjFdtzVSVc+FbRm94UMyxqi8pPCCn0ztJPaeWWwEA3kMw2qvUYpRHs1X8BFN6UmZAh\n",
       "Q1Tux/NGbPLan/tP9/0xJ7UJWlr+xF+5y4fNVS93Tbbqe6G7OvRerPxexjAgiBxrXcabAAAAoAGf\n",
       "q2pCvwAAR3X6C3+SxT0o0yTOXNovs4AIWO81QAIH0DDbH7CgRmFpBTZMfm697PI9AU1OjhU5q6uY\n",
       "lAYpLu44Tj6s8qg5inUX7FJEoZvgghW5m7imHP2TchUSdzLx0gf6IjgXZM8QhQfzj0kak4Dw1H9N\n",
       "AjUTD6K9VVz9+b+z31vCwnuOKnLDgLnmNXcAXjgIUi1QrppwqCIkd3FcbJAAAALQQZuwSahBbJlM\n",
       "CHf//qmWAAADAFL554wR7ux/Zy5zz9nieXHK/SvpWnWHE+8AVchoBVOiyuMwUMVUGqwoXNAcPBLx\n",
       "VxDf7FyAfUqSMnttsQDXb7UXdStsNfdJioliCtMBROQRcp1E16Zv7C1BLjHLBgHHapCQ8nrX1TBQ\n",
       "d3HUh4F+Kbr0MhKlYFS38GEiBR/ib/AQMpDmCSni0syVvRve2ddHOu/N8lZnrzAghsRalR6CdoTr\n",
       "EmdJi1NmSQnAKpc/fnKNAlMSe5gAhdt91wj7D3Fr8BIO4Wbmyjm8yDo942HcnDSY0rXIeRUbzxhx\n",
       "IPIRMhrWS5PNEjvjoM3EcbOUxinAY6AsMTzFDvN98iu/5x6oOCPhZWHV/wxHOAPkFf3i8v7MwyWE\n",
       "2eit4HfjmFSqIDG1FOBrvx4BNDSOHvElT9xJBFdgI/tByDo4Muov72HoUXr14BR8Xv+yerVDqoAL\n",
       "IQGJKWpf/I2RvAo2+QHP+jfLSvgR4A/n3guOAE63pup+IBwgU37SCyFKG2ui5leYOU2Gq62EDkoi\n",
       "950HMgpxLtCV11RB0tSNKvCSTdmH/4q2skjLxghyOUPT7fKGnbVU+tJjMeoO2yG+EgO4VIfSRAE9\n",
       "4imbQQDuntq02iRQ92BptDTv8S3VBmyAomyjsZJXPebODm2PmFSmK3a5aIUudl9oLnHYiheIm9cX\n",
       "v6BHEhKt7MYWIhK/thCK/f2ltg75+b5rXEbuM7xn38NvCsAS9/5LKkMSNmyfGEZUejbzhbX8dnWo\n",
       "SRn0wHVd1PaLqqnq94q+kVYIYRQvdpBgOhkcQuTmNYQ6I8/2ScXnRII1zj9tV8HSYPYkfV2Ubevp\n",
       "tZ5aTVEyCypfwuf6DlFU3ZBV5srlDwaEwb5Asju+nOwNiv+yZmQC7+JNoV9O9jPUjMYF8lGKg+BP\n",
       "7PlsI5K0jKT9FDikvNpuxTODBevixWBzeGpBAAAA4UGfzkUVLDP/AAA2DDqC4wqK++/bt/3Sw0zE\n",
       "Xnp2dmMNoAH2p9rNECfznj2rIyZ+Er5ivxsE9tqesTbKMrZI1Is4SjlxpHiUkwEvbZ/r7MDZhEfk\n",
       "2jS9v0RoVT2i4o6A6p1EWQzu/NrxVkcf1N0H+xTp7qZKwY8AxBCBfXOviegCKyRmmt72VsF6qV6f\n",
       "+QigDzyDWBiJKjd9zq2L2K71rIfZAp7oql5a7UqZhLBHTWsjeS3OT2O+N8M5jG+4flpCCBmozg9p\n",
       "UpgMQzZPcvRlOWac47N53ePdoAX4fdlTo/VOiQAAAI8Bn+10Qr8AAEddCOtaDY6eBBYAw0B6IqE7\n",
       "wAAA7ASTj70pYWYuxFEUinIVrlbhvcisGB0FkkNFGGP2oj6WVaQ6hpvduhmtgkLlpx/CRyJJfhcA\n",
       "HnOI67Rzv1/UcX2Pw7brKSbByrZKvXVT03Z0DtYc5V2l6R2u5vAnSJjL2gsbd2h6Ioq/71eFLYMF\n",
       "7gAVMQAAAKIBn+9qQr8AAEd1+etWaG04RQqyoq7Wib4ALYf1esc/NwZWnrdl3cC6K/eQjhu49opf\n",
       "9TvsjzY5zXZCgdRsCMUPBhK2lv1kTk6/ZGoAANEn0gpm3kX/Eo0PndLvxifW2EqSZl9iGXHuMQhm\n",
       "1PG2VcJzY3tf0+Y0OJqM2zXdTDYuow+JlsO/XoEgfXKu6gvhZdFpmsCvvDLQohNn5HvpQG4+29AA\n",
       "AAIpQZvzSahBbJlMCHf//qmWAAADAFC+BQkyrbRW4gSeqTBqeS/zfLgMXtJcuiGC3vKeGR6YdY1M\n",
       "Ql/uDkldtohTk44enP0YlHrDYCe5SGfRn0lic9zFSpBBjCFOPYqbzmq4+StmcJpnBeaf8DukUe/m\n",
       "abOg6i1SHe4Cinammt4muSNAMWlLjLA7oFuR0uPpyXKF/ykvKIZzmN1rtw5bq+VH1AWAW8PjNzvL\n",
       "/spr/EoMPAiRq48FUa3fAUFDMHZA1xKKiAySqhEwIDJco6by77ASD4LoP0GDcHTj6vJDO0BVqVol\n",
       "WjQ9weoVYBN0ye39s2grELxkYt0nB2VQkg2xyrcHAiRV8AEBY83nDsyIdcJ0J5mRT7gA98sFsJIu\n",
       "rVX/muPFh9mnWu04xk7svto3FwJe+q0wbwHJx2z/CmyNJKUg4TLhRyap5lKDBZV1GPbYjgnCok/1\n",
       "hHN67Yl4pG6ESCOEk/BALIVHJB7umwlscl2IubotW9NMDc9yQG4C1fLi6AIAzpnwpxJM+H2VuQxN\n",
       "hQ0B8ctAnkEWQhYEKIDWjKeQBzQvt24sxy/7b8Z7mvtnTYh2xW4ocRY2x0g+uk7NOzX9Cv9tYEYN\n",
       "sRCh/7ANW9tp6YCe+j4/4obsvzAUeRieht4fZ1fXo99EpTE+hE7VAFZhjBXqnsf5oE7Zbe7I1Dtd\n",
       "1N5oouRQOoCe6fktPYkdWGyRT2wnSE8i2ZqW3RRYJtWvwyPscgGXJ4fnTAAAALxBnhFFFSwv/wAA\n",
       "SXzpBqmngfcm/SVH7oADXOMTQu1Et5Dc7nGKHx9RBn/EvnwyGrztY9Bvb1ZfbdRn5wdgfD10ZmB/\n",
       "Tjm8oppPhAwlj/+YYiW4fflTXZgpbgD95p9AoJvQz2WgzHZprACSsKaqb/DIIIFx9Ml+SQqy2nsh\n",
       "bEiZ9gEwJgiH/rSs/hM+Gl5rvRHK/F2w1QfNUxEREXjxaGonUE1j1LxjJXk9xH3R6cQbOO0KBXUz\n",
       "w08x8KeKgQAAAKIBnjJqQr8AAEd1+epg9WTeoAErdDkw/9Gz3zZ5zO9OuAcTYHCZ81vwDIGgYt+e\n",
       "TVMOr6U3lePidaaW4Mzwj6qFn8JzMXIc5iUE1KzOhrx/VkwIw4+UO4HeBzjmFNcVnbJVaazalAVF\n",
       "7rrcBNVH7w68tGuse3NFRDnjE/jykioxG75e3XbYWxhDKIJSPAqjH9rTjwkzOYa7+pH/wN2KgGHL\n",
       "HdAAAAGCQZo0SahBbJlMCH///qmWAAADAE4lTyH0ExwAW9G4Hq35fCXxh5nO0zv0JNwMIOtZ7a+z\n",
       "GCawlBdJ7rfd36Jj9IE1tyctzNkDt6VrsMdix2E5xZEtj8TvK3JLsZ5PFd+7OyVL5hCmEVXK4jp0\n",
       "n9utEPmp/qjkj2W4ffaQwDH/DN06EZz5hoUv85vvR3BiOKAnHsFhx8TYlZmsQ1NXgKNfVY/qB9fJ\n",
       "WuvNjDVFA2NZBAx0SEIOb2DmKrmrz/9vmZs5PViecDr9dfPY+MWX2OMeQ0j/Me1qyI7ynJ3OWQ4C\n",
       "xLt/LYsW/Ts0es23D5kKb/r9EFqjVRkNpB83/pOpuiiOw6cAyqGRAwJvJqnpWggUpmmbY9LxybG4\n",
       "E5P6woFq2Ez+h+50l0EP/gwj5s24qyaOWkv8xnWEk1+kild8JANdnmzCQe+moNfjXhg+PPhSD3XK\n",
       "DUS7L5zla9eui35iH4L1AR8wovr871dVg+4KsPuxVWoV/BpqCitKcrXsYOcItBS18AwAAAJRQZpX\n",
       "SeEKUmUwIf/+qZYAAAMATn9RoGvybFITppQ/Kf8dDJiJ2MYfC7KHLXqERjBOGZLbSiAGDeaq1A1J\n",
       "NTjRPHr/WNDb2E0yPkezMpVstrDoFRIdOtX9Ch/TCsnVLgaR1eFDq3CP38GlCmVm/Frg2NMb8+Ib\n",
       "xbVsl4HGDdgEYmXD/sVB2esTXbVROy3xmqtPNHzlE1g6lpLUsJhHDDr2BKR2Hqh7+8kvl2u21SM+\n",
       "bYROtvPiofT/2qVvlqFZrE+qKeFpoUfepJHE3hMgwkCiFfxD0d9CttE4XYWG18hdBHQiL14KfUpz\n",
       "2m7fepchCGJrIWS7POJMjj6VPtpQR25581/6H3Avna/IDgI6VrJGL1f+ooIXA7M+/SWl38cpKE8L\n",
       "omXLG/ICS1B8+KOaYjIEyqUqv+Q1YoLa5pZAcPDi3U2+rNjv2irkNJIDB3dpq3RoKr4Tu3kiJgKq\n",
       "5yzk0BH2hvliESj/brKvTHpCeXdixEZHIHarMImO/yerd8GvvzMKjHscUJDr8EzSQ//fwdxPgQ3A\n",
       "Phhlx8beMnzH0M5aJ3S3jbpKm1owJMOurN1l9GDc7QJBHixTR50GCuF6uzFKziLBpQAfsh6ilpJz\n",
       "8jIvkB7raFJL6Kyj2/JC9RrCchSYA4v5yVm73Z2J0A2tlpAwUC9ol3tL1aQKxTsJMpN3uUdt+Rdn\n",
       "NADAJhorp/iJX6kMedK0CW13ZJ0Q0V/c/ETQosGC27nEiF3SupwIVeZmK/+MgditFp+28vJUa2hF\n",
       "jpe3QRK+ogBhVIbOV221N/G2bE0AAADdQZ51RTRML/8AAEl4u93L1QarRSwjCFACwa6zsWX5TiUr\n",
       "HN4/6ki6vPVP4vKEBoi3VJGSry+xL6bYrHfP0fRAICLT51EWnUxQmua8EmSZ4dGfAzGXSglBHUxB\n",
       "XvfPABvwB6i96dgLkMrDqkT/GJYq/qyJF5SfWcRna16lS5C3ejeCWJHxL72UtNTo3rwuB5NuOrv6\n",
       "t+p9o25XspgdV3bv+Ayqozky6mbHfjEjaIchJZujMk4+5ixRN6EBoEPcfZNhyWJ8k7g4wDosgcoJ\n",
       "SAIdLN/SLozI7Ce4YPMlMSAAAACTAZ6WakK/AABHdfnqJUqVhTKPAAA2n5GfZioLGRuJYnIeADQ/\n",
       "3RnijHJTi8wrRYGT7uG7mNVUwYgwlaJjUy90dT3dmnmPBDkH0UvIVk7zuyltiij+m4rk7jWpaHpM\n",
       "ANmU5eEPDgJPmn+sK27qQc/KMPm8IXBYOW5taf+JXfEIF0NihtMWRZ1BJ5Q0WQmIb8rQ8f2VAAAC\n",
       "qUGam0moQWiZTAh3//6plgAAAwAdTi/Po/MCph2ABwVDVmgLPEAnJh6sPa1xLWXjZkpOXVkfgwKg\n",
       "F9bNLikLora5T463hOUx1aqaf6jQeoK+nZ4z6RCGohZTGy+j1N0klWHx/ILCaLAGp3HNekyBFENK\n",
       "lfs7CyzRCIcR+TgzBjDNSaASSQnqH5/kB8iKBUN3ZHbP9I90D5M9b7OKOcja6rlXAMEmg+Cd8AXi\n",
       "jUUOd8C0o4ZXEV/NGqnMaOXrv96Az3CmT5VF89SG+9YAOkWKtnp8xmjmqBrv+Yn764A6Ys1TOQJx\n",
       "Nf63wj7QbDhIknfXeDtICJm/qfmwkRKd//LcvGGS7Zdx9F3Xv9Yevfgzwy4bEawJe6yCJrOi2UMx\n",
       "RJYCLC5zwwje7lNaa9NNz+S9ZUvad7EqzWHVEL2hSR4w04jeALvT19Pa/IC4Jd31FnLtEaGdcGw3\n",
       "MhB6qnjwdd59oSobRbJQo0TGsPmsHHVOtrE/DdnZIP8/1vbkYga451ElqKvle0AGz3uolFOe+RfX\n",
       "6wRhgRSiWKUlIk64yGlK/96PpaTAxbYkrU0xeExi5NzAwRcOpH3UuvkgmTH/4iRX2GCG7GG5HI/Y\n",
       "Cs/bUbM9e4h7HmJCSYfCS1BHqOo/mgFgYkUbGT6CFj2e3952f98WGqoCyK921eDq8U0deKn5KcBv\n",
       "oBM1z6/23Ov9HI9O9Frin345MZo8QutKuksRsBQJQSTbwSDRy29qsH70kOSMgi1B+rDRUN1W7/vq\n",
       "KHWAZ4Yv4MLcdjLycRVHhmBydUktJT8ocgvIgjkfyKbGbX5BNeKF33YBQu/1hlr96ErDXhU26pXh\n",
       "EghKSWFEpBdJH8/0WWUDQn8sN2LuYpt93VCeGHiOgtQG+m9QioN+tpvcH3WQo+Ih2+Vgv9QBgQAA\n",
       "ANhBnrlFESwz/wAANgw6guMKeWeCPyKsgAnHJf8mqYY3bsoMfrLYyvf72X9ee5mw+0YJdrp+vY31\n",
       "miMa177mRqFB/XebYjQj4xd04bLN0g/P5JL0uYNt0kABD3FdGqccuI8P+BqAzW8uKEv2yAfV7rFF\n",
       "tBUoeATubdewRSAfzVNPuraroOgnqw/2VJ+AkzXipHZDAZl7MpvuI5b4N+4Fp7qK503FlzbFBIpY\n",
       "QfQPH+EqJ6Q8nwzbc0B4HNmAk4lzIrx7qPIyQdjf31GhQpLrHz5/WRoya4ldCYsAAACLAZ7YdEK/\n",
       "AABHXQjevMCO/d27hSzKc8JMWf+CAA5DWBvOgF7blqtv0WKVsxK8NkUIC+rx2RzuKU2bQDjOcsz1\n",
       "toD1Dj7Rlt8Da8Xnv/JRpA/pozZLqRZeJrTBLTlpke7TmESex2LvlE15mbtpY2ApuRncVf1jrzAP\n",
       "2rHHlYxImsPWVxxPrCiKDFcBlQAAAJcBntpqQr8AAEd1+d7n71MrkCFP3l98RBmw/TyW7/GpyNcl\n",
       "m50U5OFFd5rIJ5ABZq/fwtEAa0PbrvCsIfqzItlPjZ4UAIzTh18VoXAgpbQti8w1BT+c7dji56Dr\n",
       "CWaxF8DyTn/z9ldPajqwq2CzDy/wSzK7opPPPqDTV3n6Fg2T8Z8nGuvcTOg5RyrGdjMAMF+ltkub\n",
       "D6L5AAAC2kGa30moQWyZTAh3//6plgAAAwAcn+j6F8dhSGWwVx2drqdssaAOin2BlzFOnWg1/hg0\n",
       "+gIyj7I5Ph9goqS0JfqoDPvgEwK7goqeAYYBQAGx+daORTAfCDyXJxFhdwqUeHBbVPpn1+gbg/T7\n",
       "4JZhEN1HBq5/OuHufD6l5mZ/sFsO0icJ4EdpIRpH6uB5R1fzWeGhab9ZKj9f691+gf9EqL4NpWXc\n",
       "82TcKpwZgDv0+FvC4bINPAygrmJ8YER+sTCQZ3cPMgma1iPJiuPlKZr2vpsxowtT8eWSLGHp29lR\n",
       "gL2NhUtfysudK8P7TPPO/NkpbcMCekubRqTbs52snwO8v4f7zeEa8kA1lG2eyHU+iby0hpF1SXXJ\n",
       "sWG0ja0l3DNhzjAvIS4DlG5D3ZPMHOmSYHAS6jDKfBS5qiFqifv3Nxv9JZjioqH0+6es/U8+8bsK\n",
       "Sn0XPPN6Zx63hGH1iqHvYT2rpJOaCh4mWhtx3f6VqmeNBp9X33m8w41ka0ZuCpG2yQQCgjbB7nsc\n",
       "t3JbmLGh6bh5NH/YJDEIDcrrDN6qiVSm70Z0UxpEtZgzT+M9Fajc25an1v95DnShAINOARIJxno7\n",
       "8faBl1qkwsmmCw6tR9VnVyYE6tKT+LqQgCgD6kbVolFYtvoheSaAEiDNEdWIMCMNKdybd47GjQtd\n",
       "+nlz8fSO/2DUqce5HYJJ9PVE/Yq61o2tf2iW9YReJkNb09tl7cYvNB9HCqQMWKBGzc2ujE4EWUUQ\n",
       "xK3DOqnhPA/HutJvJGmZGXLpZVvV0tq+yLrbCt9vw7E/hE7Q3E/42/yEDfWBmyL7cvNLZUB1zJfc\n",
       "TJzvM9KM2Jr1IevJsdFZtOI/J8/rnE2Xz2NA/SUypQObrE6ojjLBKTsIz0iFkF9rzIXGFpbhwgOY\n",
       "slCYR3ZwNiWTD7VYZb1Zfx4EMeEHdLq/tce3der0OiUK9YGcUN8XkcNTXE0Pyv3IXlrXBoEAAADj\n",
       "QZ79RRUsM/8AADYMOoLjCnluvsrOfADc/Bn2SLvCRmAzTYhfe91pFLI5SzrN7f/sZhJKiaJ1nIte\n",
       "WplSNi7JHtVgDFHVrjQFdbCbIVwmcHJFCr2OpcdD70EQP2JIWDYl1wAXKsWhLZ10Po4iUeOuJ9OX\n",
       "QvMpSNDyrRpfybRm+Uafsia0e4O5yi4J5Aw3sm22/Fz7vYGmqs47GbLPF41kWwuc/fDTq6n5wxas\n",
       "4nu7doKPt7fO9yvUsvFEuH3xkC+2p6ZtFV8ygQ0gh8gq+R+OCD8y5IDGaY6IFKaDjC+z9fUoVF0A\n",
       "AACIAZ8cdEK/AABHXQjevyV83QAOLuLcypCebVBxzfQyLecATG2cQGliWJsTlkfEUv6GQUOjKUks\n",
       "t9DHMush6JAoFk/PYXsqj7urOqXbARRan/5Ly6cDLggY5OEvBmuGH//cIpwdLtW0qzafo4a64Ug2\n",
       "CnygPoW3R4yXuMU6cOYcKZBswe4Npm8nugAAAJ4Bnx5qQr8AAEd1+d6t+4a2q9A6acgBa8g2944N\n",
       "UOXs9+SJs2S1q8PfFws/WNLSCO/e3dP9MrBb8W2Fc3r7ucpdAL1b7OOUFxOfv0J577cy+ewHiWQ8\n",
       "nJIMLQS65G+OWNOUFHZKQoENh0zU7LRk7uxQNKjDzIZt8aE6bfBQSuHCbJ4yMTSB2bbVxU74r5UN\n",
       "uVnplZR9JQ8aOYi0kVoPaAAAAmVBmwJJqEFsmUwId//+qZYAAAMAG+4v0bb/SairYMIwAE6CvuUo\n",
       "MVjGeijjTBfC9gc6+bvD6q0/Y+XMDBpspt9NOJjSRlFurVrbSGM2IhxXM316zCblEyN4pyNzVrIa\n",
       "D6vdEvavlnbvnjl6o3i47jNlSx7MI/Y087BWTmF2d8IUXhLrhbrQ+N4mKVSWPobcn6NCtYME7wGH\n",
       "hOwj9zbvxHsDpW/mfue5Pp3uP9pC6h+wzJBIN+VVfo10HGBThSixEm1VrzT1ZSdVB2AxzL2NcFFz\n",
       "LOXdGqKmmtHExqoGIgysbBGrXUS7VZMpon8Z7Pn50qjdJYRbfRIWLb2CikX3vW0VbPwnhg1eKc/7\n",
       "OFEORig94uGHPc4jM6W2/LBai1F78tYcPd4+ldVeiMKYAE35Mp1mpclbIbBy1na3sMVr0a3BcrBD\n",
       "8u12F/nYA5loXBPdM+bV/6wWWxX3vEWP+Juup5pOIFJEWEzC4Vgh75OC8/nSMp+UNDgV4ctaxRXI\n",
       "nxs4OyVKCpGiH2vb3+AAjRZg4EtP5sOMaIB/5UR74goYN++c4rqh+mtrUSjga+qrJ9b/ZHRSLiT9\n",
       "DSvSXDnliuRHqnD/y/65VJUXw1xGFe+yVmoSDOGpD3w/tjBOa/g2bkbQdTpBE39nMJ4KIa6sZtRF\n",
       "Q30BD37GLLSKbk1uXtY5wivVMuVFL38HPXekrpekPdkqG+x1L5JN0zKyMDIcp40dq9n57DrkaiEK\n",
       "Mw/d2lcxUR4psGvTT8VfGrAiul6mHJFhAwapbpPlRyph2BUWZgKIRqM1wGKstxw6DHbQt807WLMA\n",
       "BtsGc3BBAAAAwUGfIEUVLC//AABJfOkGqac/vQ9wCa+pQmWfBLfztecW/J4YKb2lFmLJNXlTEPzA\n",
       "+1xMp0RDx0ivLG5jB2kpYCtfvKTQ6d1JPMFqEJ53dxQCZwtThwa0b7d1HNVWZ39iuu4IjTNXOt7x\n",
       "QH9XNzPoWJLZ3Kr+kQx6rHPyjxT/WsfNUdcsm4IhMwleSLY1ST5aktRZN9I+N2qHIIn+yrUy4IuX\n",
       "b85e+QmfiBo1CS4PLZJ1dleUQZTAxemoARAyYlbeFpAAAACKAZ9BakK/AABHdfnemAvHu7wIFSLV\n",
       "hiZf900qtpm0Heljz8lw8BbXq6Y7f18KdUcuLxUzFJiepT8T6ACqSqAoAViX+jQgiUy5t4dgyzE9\n",
       "7LD6aXiJ4M3BP6ZiRkNm3fdOQjnICRxLhfH8pERAAzIM69zRiXyXiW/NcLw+smD9JwgOTktaSgq/\n",
       "HJnxAAABeEGbQ0moQWyZTAh///6plgAAAwAKTYby6ur8uBRgBIrUsI0FirfwAlYK8MSRUrqYHOfp\n",
       "acpysMwZDdc986bBeDVrLqPN3cDn0nsSg5bPinnDG2YF//7h/KYmkGHD7/wyRmzW901GeHQTbaj8\n",
       "8ajsUwt0PZ/7C146s1YEPQ2aA8eZWyMLUYyUYEGfzsyApu90u1+0iN1EraprzYr6Ss4g5OJdsBgj\n",
       "XTAexmbl1DLDYkm9Ime3VK12DH8ZbjwvFJ57GxojiC3FtIMLGk1+PrAs3WG2ARlBY9/0x0taOP4R\n",
       "kVEhaUEOgXYP+YM0f4vzwwvifsxaaTeOvCQsHMKzip9fHi+d/AK/112BLZn3FRnRfAp7SWqmSm3f\n",
       "Jq5wrCIbZUfYmYW1ZgusPhrRPi3CGiYHst99sCS4L8D8IJepOMKsHphXm3UCuwLvrgSQyFsfuVpG\n",
       "o0ZC2m535vkAnztvzb25Kk6bsRfFAdmb3LTc952L7xBHF25xupOKlNAAAALZQZtnSeEKUmUwIf/+\n",
       "qZYAAAMACk8HxymcAK0kL9sq4Vax3PCLOOb+uYKYtkkIvpvZYLyIQQ5T8G/fj1D84y1f+hv1qm0k\n",
       "qoIzN/OgDF7RbqUrk0Gzxc2cLSWFJH1TSSKFolm+2S71hcudbPFrCdxoHgpNkcDC9hPsElUivQlA\n",
       "7LUJM5eHlZPeURMyXMg5A90W8BjuIPpYajmLT8aRlxEYnBhxv8xHErpyyWQ8pwVQUnBLjK0jc0mo\n",
       "P9iq/ayV618sO/2DTsIq0aCi3Gl4Owq1BufDI2Dmz9xXWJvodYa0b0kJCodSGDNuvc8QPNPt9chv\n",
       "l+1Duf3BIiQRT/MWh+0ipRU5W67jmWesdWzOZb47EaqihzIxgZsu6ORQAgoXJg3VJ2lgmmtcwDhI\n",
       "77u5o24xwN1CaUUdjttf4G8sRttfbJMBxk+5AWADlp0YZ723RskdS5hK9ra8gYOzJXK2sI5T3ku4\n",
       "jr6WgzYnmU6PZfOSEWWfoJiAS+BWjDKp6b1TVyP/PG2H0DYw66+Ot5Z1e80skBflP/TS2f9HmCTk\n",
       "VzEeDmN6h4jgFNeKLaFPcIqcr/kIiDsVV9EC5osCgYLIoViBR3/HxTftyqW9KEOYXnS/JHkWr9of\n",
       "iL7bRadyVKtLuXRTpwvV5obkacWyh31lXhy/wuerFZ+rBdTFxhmRURkB1u9up6QVvIysgWJa+JsM\n",
       "VZPg6F5iDgew9PaX1rPxL9h7Qe0nG8kMkIsNq43xBpa9DeQ6W62XJuUD6+0rJXr1hqMG/uEvaEEN\n",
       "AcjyfdioMdYBJMdpelI7zfqS6MbpNcr+xhF7wJ+ZZplebdCwtV1cFykMhDGLuprs3cldgoUHrmZo\n",
       "c/C9wF3x/T0sIEK8dPH9IjVar6zOnwvara5aiNCTikxb3oz8UH/cgbymYg6X+bEAOus0aa4H19MW\n",
       "iJ1Xay0FvSHVY8T0KAAEA7GX7GHfWjQQTWRSafTCr/BBAAAA8UGfhUU0TDP/AAA2CcCTsWU8doip\n",
       "djPrAz+O7u7EmpnEADiB111YBdRHTPNuJxTCX8DWPTdGyft7dVe02XWs5Y+Nmmbrko1Z9snuSLS8\n",
       "Pp9vSUOAVfFkpSEIcyquhJuMRDIHGAodIBxIBm2NPv4j6qL+GhyA5nO6RVhgVrl1Z7vatat3ETvZ\n",
       "rJqZU0UsXq8Te5pHr7SS1+SHOfWyAjMpO71SsDoyd0OmqqTQAXlbDykema7uCmCA0wn/iYTmJwDT\n",
       "bOmTIKyr2bVZDFfc2CqRCJcgQiL+CmjtKPsjdq55QhKQWQZLK2Gb5BXSv2RXTTVFLVMAAACaAZ+k\n",
       "dEK/AABHXQjeH0fpa4OP1UACVEG7lbD3w+gq09n9aePTy4KS+W3q7IF3/XWK3xYVDBjbWZavj9ZE\n",
       "gRM91RcszCu+zH2crEhLnEfLZ1PlpwhfjW+cdTpSBt0dap9R24F43Rl1zlc9+w31DjVLv+EngeaI\n",
       "ZaGNP0IJ7h64w13pz3hsA/h9lE7JdJDbIqoAtly8rd0uXkAqoQAAAKEBn6ZqQr8AAEd1+d4hv2dR\n",
       "YJz3GpgzyDU+7hRMO6HHUkQAkQirsYvc4E0w6PSpCGlZ0IFKlA0bPqPpYf1AZBU2saSaZZOrxVwv\n",
       "V3Nxa1BJrKF8EK850qO7ov9MZvcbtNJ+lB5GJ7dRcd45GO7RPLHkDA3Xlz9+iiZuAzAIhQQlsq5V\n",
       "5lxuVuVdU1z+d78jR2nhySzNTlJYgaI+xetD749WwQAAAyRBm6tJqEFomUwIf//+qZYAAAMACl/m\n",
       "XRkgnI6AX2fQYJJb5+I2LImYiP6cCCgsaemb3gkhs0a9zUHHqqz51LhA9WrvdJH3/g2NVpDGbSaO\n",
       "scGD7Ki907kToLRi1Ns+44K8KN4IzTCUu5mRxMW2NQ6tsmzpxgN/7aQuLPsBxqlhajnK45INJAFk\n",
       "gS4StYQ3ZoxMByUjqc1EP9OMlbb9NFcTm3AJPyncYHPzn6prFFAQWw1XelvsLziuKXt3zNO7dMDu\n",
       "YZZ6oIvhDZcvkAS70dycQIMtN9pxc8F++TVRU6NHC2vMkSh9pzYmVhzCLB2PoSWNi8JhB90P17q/\n",
       "/bZOL7Dl5c3d50gZf+o0f5BackuqtjKajeq5x6cGdkOntfYMOOTF3sjOTytPDs04P/l6aDKDMav+\n",
       "hMcaXyIWduI9hzBqYlpZ9T4LZF3Q0cnQ0DKxAmqeEULzRK73pBEnn0BxooOMOw7SLOqo8LvN6tfD\n",
       "snWIBPtBXOgYUJB8QQ4JD7dvNXqxFqxWa4rWmG7HmIDQpffPYFq07qdtCtv7r1wXVkFIdYWoBseZ\n",
       "4KUK2Mnmk3PVUSUCh6ysAy7AQ30e2G12QuR8GqHDdpXYBtGFA+MT+BOj1fbP1XmPayPbdsVNQYOu\n",
       "6xcCgP7iy/QTXVqaue+7ycL8qHKBmBs0UMefut26UxvtBfzNrB+9DRmbH+Sji2bsATDarSrOl7bx\n",
       "lbgy0AxBtM8L4BI9OjXoha6+4ZAtUD6zVrvE9UIHdH+FGZyrZpB4kEaMdmFffu7fXhSbBn2xRtE7\n",
       "jQSWE72Bo7yHHoh8f6lm5CZ+KEgFtf5bMwNMGcztpmiHohbyL0P/2tzwLdwE5JtIuQM/7nTd318u\n",
       "kBvBhxwH+SGKjR19zAXET4xlZbl01PULO+mx3h/o4zRckAaJtFDFoWRTjI8C5svEDMuQJGvVmD94\n",
       "l0aJ/ectMTrBrTpLOpMZ7/H5NN3UMRyKotfvCxccNvIFvPOgdnOm4DHs37kplFqLMyV5jksrqwSD\n",
       "422bqliTlJKNksJNbjPpf1e7X7D4ncGvkb63X/tQiOJ0RgWjrkFCwMAAAADuQZ/JRREsM/8AADYM\n",
       "OoLjCnjt12COQ8MtSyo7WoNs79YIO2aZxlZzZFSnaLccilOpVrsV99e64BcdGHSx/tTKrzF0BFxZ\n",
       "rMOtyWT7qcriqBuSZ0CbTOKxfUwsoPQOdGOYUJTlq1bJRpvIBmAPFTC7PNligFIzw6vruBNj7VtT\n",
       "kqvWk8H5yxGCMMD6SZ1nBvOH8aXivD2vGR7n47E7nQLt5cIZzvLlo+Gx2neF4iU5F3A2KDPu0eFh\n",
       "qeCc6ZFQgcYoD5MCeP08wFNcse21uK8f2ddGyjwXBAJ68D6REm7+eyg54fwFp72DYvts9rpHwAAA\n",
       "ALEBn+h0Qr8AAEddCN4fR+lriPCWIISGQKCnd9mzHgFEPQIX6E4q+pbNdgx445VWHKTRsv76gUtV\n",
       "5me3h1LUxj8mCIqHh7bbowqkbWlE1E5Py+W8WR9zP2qQ5kl82/jaZF+kMDh5hTlgpHqof37LboZf\n",
       "nx34m6LAX/SpXYvqLulFvPcH/OM04U7ZTddwZ8py/nq08VFwY+1EZR3KHqtcIOktJxFbNbcNIYPd\n",
       "QC1eu8wmelUAAAClAZ/qakK/AABHdfneIb9nUV439/lACvHl1ARDZHDmpFn33c3jNlhxNmxgTmUJ\n",
       "GbhwSGgJz0KVLj3Oq5edwHpoHF+RRtckgnmiftVxrHL89rAPID04NWyV3i3ssYLr1a+eGGSAxmJD\n",
       "9SksWYPnR3fRWIPTo0Yj8d2Zmy+shun25RblYiAKcg1fchMnS3/VZVh4Ku2tcqvlRyJ97aP5+Lhp\n",
       "SYxaPGMoAAAD70Gb70moQWyZTAh3//6plgAAAwAKFzzyOw/M275C2vzCFCriLnYrt5pS2CJIR/FZ\n",
       "Dv/xPVFhsA2C8hBcFSVjwkQZd3LLja/hwSVoy3W12FuCZ/FvAs3n6BHyVrKqr57Zbha5jTLzUJya\n",
       "L1xo85quB0ULIk/2Ii9BoZFZdatjQZp34ymR1u8wPONn+bEW3DMPiTTiEOsVR+Y8C4aFCzIHlZ7F\n",
       "/ebYnUhk7ifsTTMPda/pdLFZPV9M801T2pwBi5Uq9GkZ/4Z40Z/rFRkYkHW04MlgXP2pZ7I6FrcB\n",
       "N7uv7juqr4wts699SIkfkBjfCLWtoaTF54YRp5P9vduKlxb1u+K5jj/TJgHTj+wlTk867OwSmSFJ\n",
       "SLb9oqQg3IgghmNQ6J1cY4HplI4V+OrNxHxzEsQKrH7vLG4e3LRcI9BKmYstisijLLq4yuiC94wg\n",
       "tU70MDs65H9IV5wVPWpujJ+CEe6adJXmuP9n6UeSX/LQExNVyKtTxteNK39f3nXB0sFikjpfmJWJ\n",
       "eb1Qix+bMUsXL9Vuxl9iYkRKssAbvrJ2hBJbXYF60CjsgedF34ZdOuTu8uz+BwhySznHbfraSMwo\n",
       "IsWbKWgfk+wqZMbFvZf6xjkoZZdWwN/TgP4XLw6KT/3UBjPC0W/fsfKT6lRak5E0XXklltRG0ehE\n",
       "f2QwM62ovl/If9GiipGSnfnA2itHMUiNxL1wFkSRexYFu/NLL0J98CVQaEIdP2q5zMZA7r37Obg5\n",
       "CFqFnaeMGQuXL/mxrsIQr8R7qyYdp5bjKITMp+tW4m2cp0C/hZ4JV2HviOBIjweP1G3LW3Ag40a5\n",
       "6ALhguit7ZKHNgpD2+jKE5UmuSPUIToVjm/yhd5ZuOSplr4VJuiplOVQs7CxkXwGBp8vLVDoXiqz\n",
       "nIJNphUoDDOBsF3Big1iV1Rx7dcRnEwEDzrbQLuw+qbakooEhvCtXRaoeZ51k0VSGSnctwoHPgMJ\n",
       "1mxfg+wQTlMzmib+E10vmyV6qpw27bPW6AG4hHSuOt/ymTrKbxT1/qutqwoXtSnAsdTqXL6nkoWC\n",
       "9xLukPVqcatTzCIFIB87tnDPVn5igWLhJwF+GA8HUcwd5cpBmKmmnZStpxdiDDkXbrL+NM3/aegk\n",
       "7StkpgQZklP4ki/A45U4QBuqtA9voLlc+xSf9F3opCQydGc3YS+e12AX4wtQzjL1uct2BqbXRE4Q\n",
       "/E4QTPwtS45Zm2SCnIinaFlVa/pgXZ1MKJ43gUJI5w1phPlCYqMozz36WD/O8ASadwFFsyLSV3/k\n",
       "2qBybOxKVaF6vp7E/Expd0a4In11oKurGbQ6HzFVGO52XJ/o7+22mx6AEMqwqQF8AAAA+UGeDUUV\n",
       "LDP/AAA2DDqC4wp47ddgjkPCfspMmIvKxtsKYheyGAD6g14ySNuafBoEvrvyM9/1VRRcxJpqZOGO\n",
       "Py/sTd5axRLmNpLdWD6whETMwHAcHfdJ5hplxqp3o3xoC7LWQyfkXjhGYIe0j/zDlGMcLCc/zQeE\n",
       "4OP1ZqP2x17ii//5zQTfq85jo+CM2vhRmfV7ZgGqEjWAYcZhmMJmd2Zv1Di2UKJRrnp2FglMtmXe\n",
       "pC2mOmzE1us32DIOt7RevOR9VkO/EXTvHRAJuAZdubhdLcZreUrOyYoqYGA7HlCDFy89y0znt/b6\n",
       "ydNs2/Nkfws10HR7QVu+DQAAAJIBnix0Qr8AAEddCN4fR+lq/VTzcFPxPDXbH7ne+9kP15mxhsVY\n",
       "mVOWBvLL4Zsx2Hnqb2kULI+tG09VVcBfcHEbZp0r9QAr7zi9msZ346a1hwp8QzuHG/qq30rTm8oO\n",
       "yGd04O7ya3EHb7bVk1UwlIUqqWQz37YRyDwXUkQb4bbhDGx0vzFTu8DXEwAd8FCmE7Z69QAAAJ8B\n",
       "ni5qQr8AAEd1+d4hv2dQjs/E08xVIAAE3bhgq9GQnAI+RJFm3jJZ1XiZ5gXkhbalr4LE6qGdh/oG\n",
       "xAZt+JAmPrNNnsadH+SQqb3Hcw3xm6E96hEtd8rMkvONNhfIjBk4BYLYmoK0OvZQHmkUZ757MhjR\n",
       "0EAtfxOY7BwBg22vXlg2H4vxTmaLWR+97sHDjnl1SttyZzStMdv65KQcJ5UAAAMvQZoySahBbJlM\n",
       "CH///qmWAAADAAhB2bAlh2XndGI01lpd4F9JP+RIXuYIlXWT5QuA6asO3XF/EpkgfconpP0wk7+d\n",
       "d7hPk0ZkSetcnZA6Dg/eg/19oFxsnSNKtua19EdERqmdNxChO3mMtaWqMn7MUnyxh3ySOS4U2wZT\n",
       "7JXvmzIbk8NoYdFKmzKgnC1zoEgf5ah7v/4ettwN5RIQQ9//Ef/cBgCYh82X8YerPHi0CPhHyNUp\n",
       "X+5se+il579tJEJ37pceE1/AfI9iAR/3rF92ncEtfaQ+dlGFgipVv3X2Oe0TYMNSxrZaqny+wujM\n",
       "rqezdNvoMMxs9MzoA/DZxV6cTaP/QB/w5KzlBOX9TY46yRdYISEsXxCkXmNUx+M0UjYsYYHMqKFz\n",
       "JfQ1uD25y/fTisonvXUMQS1ZZWEmU+4eOhU8EfvcMavMgXa4DdbctWx27ZOPYCwtEtXImSORf9CY\n",
       "EbbmiW6RhEdRsybQZjbwPVwgLJJJW1QSp2CljiqKU4rgXOjDGFvu0wMqjIEoAppTy1brrNDzSufY\n",
       "m91robkdN2hfA04giEkpLIPivLZB1ZzCj//qOqK2RjGgNq8oJsmZPlXFsnpbbVyyo4vOgyg7rjXG\n",
       "lE6Eck7wwTgtDKHaRN+8rBOkiltyZXS5eVr53lwPn3znVaSXJOsjklsAai4YuG5nF0otfCC0VpFy\n",
       "mEK1hCtVK0DLZihOiGrya1vcAMvV23AUJtu+dXyDsMt6sOTvfKHgKJ45MyCP7alvT5QWMZLdxqpY\n",
       "1lBgRln+fIU3Xpfut2pHS27JQecVt8RgN+oH/3Y70OZU+IPtsCEWZLPavYg6eOmPNtR9/oEBGfBv\n",
       "b3Gd2EvApBFQEaFo7UTrEHsAD7LU815fk2ItWJ0lYFPSmLQjUa07yyST1jKi4Ap8WTr2U93IyGsE\n",
       "P27TVv1WBuUDAkBwtLpqCzSIymlNDUXV7SZMo5pWG2maZk5u+MtsWwk9S1FVdXw0Dzh8GViFR8Pw\n",
       "q1IaocQhq0Qb95rwsdAL/sEkjkgbUUOe4LSOGu8QHrs31hA1T1QNz/WeedqhCE0+bxz3z1wYtp3F\n",
       "FTSipxSIdUAAAADDQZ5QRRUsL/8AAEl86Qappz8aYjRFaPDUvzwZZjtOlV9ACMfp6cZUiAvqAze7\n",
       "DRvFXge8hTRiRShLl9/GX/WvVPR1UfxrjG5Z6Zus1CJGsSnnDZCpIpSmHdVRM4rgRkb7vL4hHZAk\n",
       "0eydTzSGUCOs1FEnPETLvVXZt1o9qt4yiVfGwhiOo43IlhXkpz3sRrx3BLiFhfIv7bedk6AoqxjK\n",
       "Hc+ssw3aYt7QaKxLlbFFw1d8QBRyM2S5S12X0gH/gwuXzD0gAAAAmQGecWpCvwAAR3X53iG/Z1B+\n",
       "lskVCUl37ULDvSZOUXlKwdNujcyWrfTzxIbymVFok22GYdJcOA+8Oo1eBmdZAAQqvdHH6ecvltqz\n",
       "X5lZwLMkQqImgqOQLT7Q4BrHr8I1eqdnqoOuvtT5cy6vFh5bjh0Ln6OL7YnVtJfaYqfzbrIbH7fz\n",
       "Jl29h2Apl9125uAQQGKNX35Wp8bugQAAA19BmnZJqEFsmUwId//+qZYAAAMACAUGTGzAEeINHnW8\n",
       "3/rDpx0Z4+2aXJHF3SCM1W/BzPX/IJ0h6IriknBYYafJE2sgslmeb0+vV05y6zOK7sD8UPNbS9A6\n",
       "05qc9ZFve13NPB2OJ+4gFsXA5lT+1MLZ877/NDpwRRJUgpydMHJRRr5KvnTgKbZY8BX0fXzaE28s\n",
       "6OMX7XL27Tlk9i50OJdCI03cUXRnfQdCGJgfDqdH94ZvJgHdefdqhVp8qcDtARn2mgmrBmCbnKJm\n",
       "b/hZ5vIt6OgOCv1v44FJPVLYdVWcDgel3m+od7q/IfosftV+MTZskHQ/dXuNtO4v4GkfKVbBPhi4\n",
       "Ry0N3KV6k6N5nyPTXCUoJdUrLG8R4COAl2xqi6PzqdMtrA5vLqOLwcEbFPabdgNRM26dauMsqxHw\n",
       "V58INqKr5D0hvJAjy8HFYHUgOtwCC4rhxXS4gyIXfNDLK6Yn0RuT1DzLxKFwusOz/AHegrcocQ8A\n",
       "Lbvs94QBDLig4r8b7f/ZJOPm43a3swjJOC4leCFMl2BNAn5V/+TRD3hreRJrLgZ0aOroK5IhQQI2\n",
       "Qtff+naBMDN/TMlKQbM1mBwT/d4g6TMCh6DO8ucM0I+s0t1HwlNY18rqDrAUrD+uiYzCX7C/ESlM\n",
       "GPEIwdTSqtK8Gqd7VRpjb1qj0ca+Q7WeFRJt4lWdfW44sjbia0ZZbNUVobpeypDl/+NVB6Hw+7PV\n",
       "YUgLNSGKCQX9Utmf6/DUGpHJbSIsL/7VFE+bGiPXNrwxnzxBGrDmOtDqQGyqEhtndKEmdU0WriKT\n",
       "FIck2m+PzTf85yl145wPtu9WrdrkuItw4rIz0f4AGyGhIuqnmFrNsgr9QWvZMqd1P8hi8HRxdONB\n",
       "xqAAiEWnFDLGvkyBPsFW0mdIHWkXXpvVIhwJn5/QielFCa8pUu38V2qbhIfsWr1nGStN5aLLU2Pq\n",
       "pzWvGvHYCURUhFr0+Pym8hN5GxLBdahIiVnEDQdeAIOfOHFrjZ/Dsn4oKIaAnkC6tZ/eY/HuGEjM\n",
       "QFs/ZcZ7rr0VEMHKzORtVlm541QwWfZA4i+KBIWvd04p1eIZ6tPIyX9e8IS99tvXGdLyMtWmkMbc\n",
       "/OyUGHRtny/xBqvttlt+bo1KDeJi7u3NC+Z9S0vyfc5EYAAAATpBnpRFFSwz/wAANgw6guMKeO3X\n",
       "YI5DwXO1T4IFG9kPDqMvoiAK9h5Kxcz6+GzVMbwYT9BLVKzvmrDijMDVrgK/JPLoczPokR9udICN\n",
       "hwgwYWaIHWLV7LGpOhhmdpjD4GwwmFJlkrpNfQ0+Do63pmOgLFoPbNsHnFDzNqva37Wpd9G/ZnYP\n",
       "nZ3jy2LiEvMi+QArsVh/A8ZErfWsqiezs99qXha2pVWkjnXPMDvslfKEtBhv2+6+eMw0bG02jI/N\n",
       "T8l+DtyBwNXwtsIxJlK9QyENF2A9ejBIc3q5hx2PdDyeo3r1pBDngyo/5B6d7Ym2NuPL2QINqa/z\n",
       "VSk+JIEcQnIBfM3NNVPa89orAfzHPWIVIbt+4g/AY11P80yrF+1JOzmUXswBLJ4Nb0OwxQp4BhyS\n",
       "0X2mK0uPgmZbQAAAAL0BnrN0Qr8AAEddCN4fR+lpZM0wf2xL3D4h31N2NJjVBD1hy0M6alIDWYA/\n",
       "y0GewL9arn6L+/N8G+etn8IUdVWNTTGPnVAKNWm4iijoFEP2BRYvME77l9O+aNdfXPmXCTaNe5y/\n",
       "XssqpgpLsHBn4fw2f3DIEofIBJnfjzaGGgLRte6gG+TWjmZJ4536Znmt9OzMBFExy1kC2NBVQzK/\n",
       "av0cx1h+if8LKnbb+BNlSsHe8pkJbEKWONYYK8B/M+8AAAChAZ61akK/AABHdfneIb9nUH6WyRUJ\n",
       "SXzdEvpMQVpzr16Susbqkr8lbuyJmCLOe+P9hXJXZgNfn0c93xLfCv8XutWABNjbrjZ2dmu8cxJn\n",
       "aRhn6JK7DyKsQoSwVLTCpFY6KaMBLnY8994+9r4i80lklS4ScAw4aATV8yPVe4FKQ3yMn8vKin7Q\n",
       "90AowrxRQ0OKsrYWoxu89W6ecPCbsbuxv8AAAANYQZq6SahBbJlMCHf//qmWAAADAAhBmiAg8lAI\n",
       "v+8OCbIJ903Nv/MknbVhbcckkCizHJnLwhTAIvePOM51bWBo3TAz7N6MfRWDvjXqi1a4x/rSkuY6\n",
       "yrZ1r1I5kjM1nz/xk5Oy0B9vUd3BzFV7nZaIsrVDen4mAkQC8BcWKtFRa7SpeOrrzlYjgIwMx48F\n",
       "9h2+G4Td4oWM7fuUScfgC2JL3hre9tLlBWruFCZ4NQgE+JiawwH+WAuNbD76lqtJDWDzk2W+4c0c\n",
       "uqwww86RCqU1hkbPH2xSh09qwwYFF6xC6KFWmYy/kCMT2P/gmv/hbdN1p0Xf+UtUIt7A4HtqQAJt\n",
       "+rDalHV5h0onxT3LdHrP/iWUilYlRrG4n/rsveDluKZoY3BzkT75xRsODJapR8zC5iGpdkVCFupt\n",
       "TqD0gfHn/qI6WEBMANNnrKQPu+LzGkVwZLpf19oarbx1zKN1ya8Q39en4T8XD0nwDh/Z74XGP2h4\n",
       "k6vhurYra1xHPQJFT7VT6VIqNFFZnaGXPUxuX+vlM4FFdPY1K7z3P3TFwvtZYVFMn4V0YNyIGoP2\n",
       "pP+QOQEC6X2AtEIhN5wqpBz1Z077Lt4xsS4FQZ59uXjzENrExWTYK4tjWyuIrqZIsRki7hZmDNPb\n",
       "xEXQC4NvVO1h05nevPEzsFaZ2OMzIVmbdeHfM7LBrHm/rer3erl+02++x23BOMQIYjoaMYDTWmJs\n",
       "QLtTuLW4hCXTPsg4BTwyrBWcgcKRKPQDB+NvoAGXHZpvDusUQMbTuKgtoK7dHeMGuzH9AeYG3/PH\n",
       "qj3R5U1h2NL9jGeJ1ucgQKhikPf9bEmTppB6pBquHUCbrZOzm706JalQx3QQlet7NdRklEJeDLWc\n",
       "UbHbXINwaChvyQc7PaY1Q/vtuU3AaJ+nWKTHmQwEYYweeR4UH7nwTL8S2vPKyiE3yA4OH6netJKD\n",
       "XSU49WuMJYQX/qCguyxO9n9lQw4PRvnqaFvFH5Fhft4woFmmXmuDitUViFkB0D0sDkq49ShVoO4m\n",
       "PvPML4OS8oRYnZMvxQdn53k1uMD4NX9uFfQW8x7otD/OFiFbebryHej3fezyzMNV0PSv2Je7HQE1\n",
       "2bQD5Pl4m2UawjzOVzDRhqg1gC1oj9TU6DiTRGhDwQAAARhBnthFFSwz/wAANgw6guMKeO3XYI5D\n",
       "wXO1Tz1sPaMDyovuSJEuG3v82x55GEFpMart4+bloALYHS5QsspIWkSGSqBIXZy9S2/zA1qgdwZ4\n",
       "AUQQ+/pnGBPdO1Fpzp+O8g1qEAnDTPLq8RbcZPP+mORTzTQPQIIfTBcUMJ3FJUIKxAgx18Edo1AB\n",
       "8RvyD/TyhIVs9JKiwEqrPeDAU60QNamuwwMOCV9q2awLb5gsaJ1mwdUE07eXIdTxF0bJnoq5im56\n",
       "Tp4E0n56fFpzNm9d4tYe/NGv299IKCSWA0yRK2n0Ykx94Bgcpds614xICZU80VViTlKAgd7xb7Tb\n",
       "uDdXZ06HzQYTMBtM+yFNt92PI3LogqsCUzIioB3RAAAAvwGe93RCvwAAR10I3h9H6Wlk8/JuPAzB\n",
       "dQ6d/yN2zekh+/mj7LSO9oLAe0XYdaKCcyPquPNgH9JHoBp54wAlpn/DFm4OBVqay/A3YnpyPK2T\n",
       "xk+iHlsg98PYVPpRsgBwAZOuU36/biD7IurccaTrV82uN8MWBFG3JGBcTyLrvEiWc0WJXb53e9Ww\n",
       "EfmW8HuCmE5oayUBBygzus650wiAIqMr4tbohloeN7wOLwxdT2f/JwqZ+WtBD4EfgP+7/R3oAAAA\n",
       "pgGe+WpCvwAAR3X53iG/Z1B+mzMcJpcjl9Jb54MmIVmMzHUeogBCD3LtwhUWTTiv80yn3n7+eZmi\n",
       "KK04Zt5l8npWC65i8P7jbbX0GbBEIL2bjV8pQx4Yh1lXShn5glBp+9aV6QK+xtmFMP+bPVeqXJdf\n",
       "Yre7mZhASZpEkiDRzM9AaEr/ntDjTfp//6sNxRKUmURwW5HexJ8hay0V8l0lOhHNVpQ3jysAAALe\n",
       "QZr9SahBbJlMCHf//qmWAAADAAiCp1dETeAACAooS51lK2AVUV/306TmjWT+948pMxtQtuBJ03VC\n",
       "aiO6csbSTM07k/cCN513JzAxMe2Scqh+Q4QqPHiGpkUd5W72aoDsCGjrwW8xpkelM7jw3vCDntjG\n",
       "wEf/mKuC+Q2XYGExr7zEfo/G9lWy/pf0R/u8rDesg7jII6ZcYdJ7cYVHeuMrqHdgBwpZ2u2mwS6d\n",
       "Il6EwAErnCKdkj0nY1iGxHCAjtvLIuNzwKj4uSG+xkQyYMTvfsWcsShylHQjIQUjvw9Bo7+7W8ye\n",
       "xAp+PKYdoSetMj21fRDGDWsGz87a42b7VW/qO7PgGjlglec0M/GfL1ePFO1TPt5a5P932jgzdEUS\n",
       "sjrH13FmWhm6GWv6uHPvNC8caNG2c1xoe99QkeFQrdVjMHf7VUqomlh9SuitIwtHomNgIDcgMl/q\n",
       "nzZayCWHV7i/VNVOrFiUx41mV6Tg83s7VmydMdf95F1QmfJk4w7M66uZQeDjWsBa3ZDFS9WNpFRA\n",
       "tVx9+uv7PDhOkGxu7iorF/j6ekn9c3zniqWjdBH9SaHPgx1yGqpu84kfB+KD9bSb6+ptTt8G+riD\n",
       "X6kusCLp9UYetPXX7QCC3xzwT3U8uhE5jN7AEbG3egbu3R8L3Yyg2AajBxDbBy3rolV1oMVtmgG5\n",
       "9gFZCI7wGBd+hfL/hrkfconybdrHttNY1MmkOQmahfBN67/oCQgvaFSZNgmmS7lGnOGDyIhehaca\n",
       "Ld9Lc9U4BMbCqnJwUI/c9EBfnBQc41ErVIVd3NrzNKVx9lg0+FuVWBE6MiHYZIDh8GlZVCHqVLSt\n",
       "R283lUWeO8AeMgN+Q9cR6Gii/Drc/q/YKvBaa91peIs1ifhASPAdxFJTXh0g3VXDsPxjQA/Hx3f4\n",
       "7YZw+1AUvBF5BRf0eUF1+XKYDyYj/aVxNp3QWBUbA6vI0FzAmnLJrPkTYbyMuoziATgAAAEEQZ8b\n",
       "RRUsL/8AAEl86Qappz8aYjRFaPDOZKerzuBL7vOpHsBj+vjOnaqIufToat4kOyOAD7Vz9h3Dc0OO\n",
       "EcbfiHGUaMFufThsAbzmjHpqBgDRuaTsYLYz1+HQSZHCA6UCGq0aYtg2XSnU+D/6NVfTQVtTqHP2\n",
       "1ZNRQgexWqIVzu2hOIaNcuGX80jytJDSadzWNeIbUghhks6GHd/uyeNcm2lZfWf7P6V/XBYkl2TD\n",
       "IhSMQ/67M/xqy/ed7OUHHwXYtMJ7bL0lpcgwisGwopIJt7FoepZbwX/kaX4tfjImrgVRsQWxUUKC\n",
       "MId+2inFForvDRvlmijJYOO++VrGYuyEEWw6taUAAADNAZ88akK/AABHdfneIb9nUH6l+3BPxoT/\n",
       "kHGoXUgUcD5nYgAnR+egwBNDUbuKWGnXyu0R80BZV99h3mEg7oyFdnrTITZb7KQfDK68/Fv+feNd\n",
       "rimvhlzcqs/Lh2kaa7WA0kqEBMhsq7txqlP3xSfwLi5KBiH63tY87OI2nJo36QVR2xqYyQ6B2JzU\n",
       "ChcrlL7ZZDjurkRWmGE8uQZA7sbC7zwUwfRPuuCv7sbgWcjFyRmptWnnZ7HC6EI+dVdKo5ZoWRS9\n",
       "X8lAFzPJUf567QAAAj1Bmz9JqEFsmUwUTDv//qmWAAADAAgFCkV9ADiYOTogjx8UABxsYOmGKL6d\n",
       "Te54JdB1b9dW0nsNno3aEipL9vPGUX7tcUdgdxUTfZRhI3/WQrch3o1syly5y1wGzIFq9US9EaYE\n",
       "5AKV8ih7O1BK54Pxt0xZrCl+DjIzwuCpNWtKrTkf15ZEHinSergVBeqLj2H2w0X8uDynjee+Hvi9\n",
       "ZIC2D2ltZs1kp1mo7C6ZMPlw/ax9lTGIBAIoth55nklXDj66GB8a3EIdzMcl3Z4Wn/9rbgiJHy8f\n",
       "Mxelc0mIBo66gJqIaD9GgxSvawu1WLhckRHtDU2MicTvI0hWX6M1OADm+RgmHHt9cdr1baAHv0pt\n",
       "aelFY2ERW2ck5f44RIPHMM2NnFkyTXpEN5vudegXvRkQbYPConulJstaSdQCjXQmK+W+10/+j6Kn\n",
       "/OOb2SFwNBLTNHxWN5ZAz82x7dbJBQv+ABYwxeT4jWpDsoH/tFR+yd4ufrg+uvWRNMN/Asa2fGwb\n",
       "ZPdD4bdgdc1LoVIZhwkO1JUW+uU9nIVImCbcCp76LCBOSF5sLC+G4VZwH7VlVBKPEoTWUEbpYkcX\n",
       "y/my9Nu/SF5FKK5TBFgyY/4qI8jpgGkt/zQKcahcTKS4WLAqefwGZ09hgMQuEB02O/PQmmYjlnIn\n",
       "fL718CJe2LTbQ9nBgxS1l4MtNIqevtl0viLaEDu40npmhsYbbkcdR3ZJ1SV8JQrKYTFq4dIRgTj6\n",
       "QClBxc9KbPZFHLOtX977kmAAAADHAZ9eakK/AABkrDgjb+5+OHRXqMODMBgTjvsgy4pig0LXBXm0\n",
       "BX/eEdqv8yTqxa8XkH0/ABoDRAeEfnnRYWwkFs2o4EmVoPjB5ahADfim0dFjzA1A35ZheL6gMZCc\n",
       "7aY6KjgN9zMFs3Twh7fycwusNKIFn3l9Sulkl2EJMA+jJ8EeIPmAoFaPSwzbYghgkY33YXahbSdX\n",
       "KwVEqEtRycCOkEmFMPwSQHckDbrfm9/iEbXribDbDyVctcO/Uph7qEgtups4jhv7NwAAA45Bm0NJ\n",
       "4QpSZTAhv/6nhAAAAwAP3pyLDUAT2NOs+maTKHwBGogRJ7HnkyvnNVJj4tKQ6/kWmTKQF0LF6J6I\n",
       "4M0AiES0o/6k6UBFMieF9AlGFuAkdzw8cGn/nXozQTyTvXEwmGuR8w9T+yEt84czfCvSwRWoHEA4\n",
       "58ce45oYLZC+x2FT5AixrXUwAnwJ+DBtbYzA6gSJrZ+30UCNjkhWorFcZHqO1AZEOo67zVaZCxFk\n",
       "HrSg7LBQZN5+85SJb7goQHTJzLlq9aJV1nr/7yg6hTjZ8cdYjpZP29ihO9QQq4I9JE8l2f/bXkye\n",
       "V1genSB7XDdtTXRr2Pk/0EGOpNJqAfpGyb/gjZAAnAG79yxaY3O6+RwJKLlrx27Ifan8R4giSeCQ\n",
       "jEWvPUoFW69pWn7uf8jaLhUsPrL303ewt28+xcNf65r8zNwqPAXWtvEFsEwGXUz7t3T1WhWD4JoR\n",
       "E5TR4AUnFTnrN25cODeSXZd6p2smP/wSlXUuTvfpSkaN/x4Xe7idTxaV8ICNPllt8ydoCuYghxH8\n",
       "65E8d+3dESE3JwhU4GnAMQjImdGafeWVNokXCF/H425Yfxeb+Jkhnm6y/DR07Ll1E0hODcMlEL2c\n",
       "05dSak50pcTBhkejrqySthlUf2mRVTOUhqlmjtDctZWlEJie+0eeCkoDP6iQ1RyPOoO4AbIJWsaO\n",
       "nbffC7sKIo1fgRCHOrLaD84vde+s2P4MWYXEk4l4pvBXs45zJXKOih+wt+JztnwWwMaI8OpGn9R1\n",
       "5ifPEaG13rDEsdej70DeDhS758EGmVUXW96yghxi0X/qZPdBoVE8VxrN7CIhK/izlF5MacdihQ6W\n",
       "e/uZXKmi+yo8P9wmRm+80nB+wyKltsn/vNAx9uBHNRf2pzM3JYW1WITw5n8CXiAPGyyBe9nXWMwl\n",
       "W9tSohXqHeBqwBfFX8lieAbDkSgjekw0H9PdzK2F3DVQkqPI0xGng+jIXWCW+HcsAOMlgqyWTCWy\n",
       "iR2UOKYsOvTvwQmS3UMKCVIHTJ6BvDHhZqmCe8TCwM+7PopMik1qpyGvwpWmmO2w2zBRPHZpNSm7\n",
       "Gben+ojDEU0J8F37rTS++4y8noIgARGLkJyZn2DkclHBWSvckpiUuprDCgAbfxxOpKogIPhGpcix\n",
       "74u0eyLHxXbnqu3rkLSeT6QMIFi1RLbgueFWwOrLO3RaPCMEIUaDMwyW4zbnap4Pb85hAAABY0Gf\n",
       "YUU0TDP/AAA2CcCTsWU8doipdjPqd367EdfleOcB2KPqTbf/jFN6nImtOj2PHRGWLgXGYsRZZYcf\n",
       "gZkQCooHiABa9XuggmbVMakxS8tpsqEWFQUMG7MzCSh7YWBNzj6Seco2vbEEg9asexEv5pK/EAbj\n",
       "JeW+9pVNj/Kve7xeMabS2DzNF0hFl1agyCjxVTXiWABMYqK0TjHqOsnq8qAUpNbSG4aCXH87O305\n",
       "fkOqb1TNIKP3+FF+aen/mC+Apr86kdhUGau02J0MiB7lcw8ClauFg04DVwUFtdgH0byaAoyHAMD8\n",
       "db8MVNVmpifzl6agHINrH75FngGaX/q2Qu/pRnfGha8wmnbNPaxbXkNG7Whh8hzq+0VA7HRPtD1G\n",
       "ch5bdR8j6vdiNxvWHR3QKt0fQZ+TaBcb3XBrft4x4IUVx2+mS5zdCJB8MStwAiT0RJg0ePVmWotE\n",
       "YVFA1XtejSxEBcoAAADMAZ+AdEK/AABHXQjeH0fpaWUX+Gwtp8+I19DtxetG7g+oTpMe0xwXEYP6\n",
       "rPiaftgA2QO2/rCM4bcGOHmAChVD+M9meG/s7DlV7JeYMXzUmtG+BOLP/Px/o3+QyBsQSJTo11jo\n",
       "rwEJbiNDFAznffPvfoG9YSKlxrrPtcp+erFRkB7jGT5cZuSygQt//1qA/Ko77GvyHPsmvrosv/ts\n",
       "YzGbLsql4YhIrvjKzNua5PsS1A7nNqqUOkhaiA5iodG1nwS7swxgPOirw7sDc9rhAAABAQGfgmpC\n",
       "vwAAR3X53iG/Z1B+pxRfiz/u5IMSy44QySCuoFtTfSF/95+DEo7NEK5EsABwrusB4zqaMMLt50OT\n",
       "HXqGZxHMPvmexD1NJ799PVbF1zlMn3B0A0+1SxQUVB5asW3qWvLSymnEKA1kzEbhv/+op+Fv6zXA\n",
       "HssqILqIoD5754hi/HWLnWKUKbI695BGxXLPEPzhKaX2yIxTyuxe2JCcbB/xB/8G2afEG4lwOmCC\n",
       "ObZFNdBV71fjvA6iduT/kWwXWx1GDPJOQui5dd8LJseoL8ll1qcSqoCIZYl+sOhH6YfPbhv/FMB/\n",
       "0QbM6F2PGQ8OhUIwoT7tpucVHq/5k7EgAAAB3EGbhEmoQWiZTAhv//6nhAAAAwAP3ju6gCtFOV7H\n",
       "WHcK3stiBYTi/RccOBWhVOUEYovHIJt8cyFnynBGUtGRTpmrEzfu/ybcmWHGZvXgciRyCZKzQW0L\n",
       "oSzOkkv5VKAGlZXeZurhhrTDd2bGVZSB/thafGKk/yb3JhQZp7s/5B277Ie1vAmBuV52s2LsKIu/\n",
       "ttd8ioTXYV7FzytHRvOYLq7CVjkPumqYRjO43Dcbxc2x1d65jvehW5LVAb71Bv744qxONYLKqYgs\n",
       "DHa9HU3ReHHinSJP54vANE+PtNl/iITxcUYkRIeXl4DRZVGnhmdyEss7PSexNOsv+6/3airvKnMH\n",
       "QvRD+EI6xuE1IVsO3Oty/Ja2cN4vRh2s8qFQZ9MdhGk5y3CEB3xa3icdUxaf8He5qeaopx26xXoC\n",
       "ciAHcc8AwsuELBB0n0ltYK6OnwQ/7rLv8OGt35z3ksPknV7Wl5OpWl4Hi3h8gEVWdAJwZajp7uE+\n",
       "8oM36RTQNpkh7BkKIuqwCELS7TfmVjpHweL0rJI29cp1j0Ga+Ldu1E8h4n/J5XI6fLS66cBSvQXP\n",
       "1/HauyGn49fJMJ0uomFk5CO01dLfgfDX4DRsrI0/aqxnIC/B+/grEUXfLahGqaFxAAABskGbpUnh\n",
       "ClJlMCHf/qmWAAADAAgE3QkwA2R4aj/CYTMrJBxCgrnyObEaPeXP7uboyuAC9whVLY3jU/Wrb5zS\n",
       "a7tC/QQwVnVNaD6vSE+H5gSPaU95VIc105grF2wJtJvNJWhsuqImeaDhEXKSgO0S/E9dAnPvCeMb\n",
       "kC6uwEmFaXwxZp1YxecTImaOHWf/vGMqk+TR65PdewTemYohefaCeVOWGp3w5yUvmG32hNM1Cfym\n",
       "6ahy1k2COhZl8DbJWwdm/lhoFo/tTUQ4IGKO2xe/CgUtSMjwhr/VzR18C3wVZf5XS32//rnlpsJ+\n",
       "IqLi9L2NLk/qVMRE1uJeKk0ACjnbJJZfiPR0tXTDYXM/9P+9NUcKHYQYbbuzgGKkjcubSqW5ReKQ\n",
       "n8QkwSkUwBoRiZcVyrwO+U+5tKwF9fZAB0Vdi/GrzGE8VCJtl+iHf1eAKE2ldLLS4rbFVXfClpYs\n",
       "p56X5MkOaMzhnS/9r6vxfJS5eENYaP/kWsMeqqaUvC3xBOqjHZTJ9FGCshqhQNW1Umtdt+jY1Qpd\n",
       "jeFrmq9c7Xq7kqZUcIqb0N9NI7b6uDrj4gZIiisZAAABw0GbxknhDomUwId//qmWAAADAAgBr5QA\n",
       "gW8DB0gM97NIyN9rKxe47oAVcPIvpquqZWU2DUCJaeTVtFomAMCDYS/kYF66hjsACWkuvNEzkNmt\n",
       "dvD7jD+eumJ043y9Cb/Yda86J97Yd4yWLAfG/sOAV++XBUMpS2yA90mZpAFRBH4JMOEwo8Mh7kOY\n",
       "b6Qkx1GsOWBtjHD1aKy5FpdiB941X8WxmeMy9geWvK7vc7/Z4OSzEZt44Zy9XHW1hm4th6/nm6y+\n",
       "hDf8ArJit0Tcj2AGAwBK9aWDKsNV/E/yv2vSfZ4YYMhMOxemEhQZGvKZkLP5fgNLn+yATZ80MeCi\n",
       "N1cb2gs5lzgnfBy4wFxNvw/ntgJO108WhyZ864xrg2RQAPxrKNdLKs7KBPPAQzIn4JaRmubLxhux\n",
       "3t1TShE9pIOBmM+HjdFAXuD4zbK2MJemrANMyqPXz6yCCkErFaEN5aT2P4WINadJRoQLENU7X4da\n",
       "Www6ioXmYf2fjYYSFg9PuUwJPyPfZ1sXakQjignwYRc9VrNvWBbwGF/xZ11hFYb2sj+DALckFvDJ\n",
       "bE86Wvj3gr4fIYnpU+q1cznAXcqI7PU/l439jiEAAAM5QZvqSeEPJlMCHf/+qZYAAAMACAUEDxJg\n",
       "BUuf0I568go+f7K0VM1o56UmPf+jKxB+2BiklgT3fD7zLRd1Z9F2Lwq8rnju5UQcJDFqobaK/ukF\n",
       "LTXm5/o3y24tiwZPB6m2aOFhOasCvRwg60LPcqF7JW+tu39M1i7h+KrmJzycltJtLeKkjEErvzlL\n",
       "ZOJrbDVYJ7lYje/rnP5aQO7h8n54LCOYuaAHt6Z55pVgk7cGgbKxoKxJsieHntxLxU300atslqMW\n",
       "Xa/AwoH5vRCw/D+obnyyFRUH0svxpeht8L7FeamX3GWbePQSEimgvMupt1cltDMYp/h22VgpGOiV\n",
       "4JJ8UN89ksVpb68rXSgJsExrdm5Z/zFJluw9LA6LDfxoD9LCV+x1oilsU99antHR4CRJhyvf+8j+\n",
       "gILmBi+7n/8QbIS4vIc51Bi3e432WgjfP21LSHvRCJpML34uUVZV60K4tGuutnMG4+v8PcVzXwqn\n",
       "1vaznc0ph3cOapudS4ZcN5v/Aw95TShuOE5wDuicC6oXYpFNWDWN0/rRzHAN1OsIeMudsHR/K8nK\n",
       "5433N8LHbW6+snBa9FChmV8JI5ExQBQS/6vQVdKi78J0zKGVU1y/KqKlaV5au7bQeWXNmCk6XqVJ\n",
       "kKm0EZTpIRw4XzonseML67iSTfSdL1CqIlt66OwctAxFfiyx5yDeeGd/lfEKSN2sgGQZiLXAuTx3\n",
       "8VCxS9ZZD8yWh+dS0bat2/i5LXkMhwTCPoxqMNHaXoYj312oqh7T7oGGPv2QtjnePX/bZa2oqv8N\n",
       "jz3PfcSeg39oOJv6WlivIHqicVKGNc/TDtNSQup1VNofWvWNOYrRBY6wpxwkgZUnPovLRXv51i5g\n",
       "ThrWhmYoRl/sniPivbUUTsEMoCeLWDf2fIy2TxvStQvd1Gi/0VQEFlU66L6MKyIhR42/hRwoHmxl\n",
       "c1NpSpFKd73GlPyGZ5a+sY1I9e2fPJTujcjKrUADWyol29f73qzHP15snxnjTMOiid0GWVTRLAOf\n",
       "xRRwvxzfclbkD0FrWXKVnCAuU8H7x3f8rfYEuqwTm7O+327ssAb9HTfRqaC2a0v7V0CmPnGJ6z5x\n",
       "g3zBAAABU0GeCEURPDP/AAA1e6gtjQXO1j3gnJCL6hVPuFWunrMFArufqNww3n17JADljQ24XEWh\n",
       "ghgrlQ1Aq8PLWWwYjHeAHkJOo5QMUYb+5AWtI2IFQllQZXTqU7BG1e/oy9hXaCjqbseixHDx8crJ\n",
       "FEZkn9Dr4/rdQ+wwG+cppu+Iz3Iwmfi0qhxtdmBBORZDTuT1HNJCJBx6dpKr/RaNv2za5etLYRwJ\n",
       "ZPTbX66ADpZYip8p9XQ66RZmPcRFGq/ISLzZNDb+kSQKxnYgqKcjRIaxY55vJyGJqls63vxFhOiS\n",
       "gp5srBpO6Jz+1evhHs3qM4vmh+D281ItKEA1b7P3b/4ZWDxniDe8Y4tLeFwQ5f1bir9ukG5ZicXm\n",
       "UthoMgFyD8k6sXh1rwMQTXuoda984gqo02px0xWEfTwaJrZZFHWbQv3bUm1I3SNHrzPGoFUk3trp\n",
       "PoBywAAAAMcBnid0Qr8AAEddCN5vSLTnE/p4ECxjwAJWHtVgvNTT50SRp68t9gAnK7xBg8G49Izh\n",
       "E1XEDYb0D/N4+SqN89YyCaQzNOMhiFmS6EPndiit95yglADe7ABVyP0LhQq0DWRv7ENy3e2mW79+\n",
       "SJOt5gsIBweI8rPuS5UH2Rib4mlvR6NnAJ66sX5FNnXkXYzcF0hU5kaMVi+5CaADOhqcTsV7UMuh\n",
       "KjD8ZozpYM7RpIECk8u9oTIVTpaPRbZpI1bwXBvB3yasblKUAAAA2QGeKWpCvwAAR3X53nG/4U9w\n",
       "EU13V7B05AHys9jGoAuxEpxt44W/v1UmUQf+YwWE7xIIYA0AE1If6kA8pv41rYcoTd6SwhUbyJij\n",
       "tvykd+vTgNS9KHHBuFcqkua0ajM97kZXhVN4gCsPY48I2D6QLrpYUNcEByJ1XcNgNGb1VQZeBhiL\n",
       "MDWIbKSlk9OaCEwPJ90VvUjB7lMijROa6WsfMlDnOJ9P0xlTEO1dfNkFYG2/SY25RA/DgyLdXt7Q\n",
       "MVQEY7RgJnaBsMcpuCIm8q6UrZbNJyoXG/9u0k8AAALDQZouSahBaJlMCHf//qmWAAADAAgFA8ud\n",
       "ACVSADgoVIzhDnheI3PsXxr3jzOdrGn1fABkD/rlcLnx/4RqaBV+D2gSutqpmRDlr4CgqpF1e0du\n",
       "OiDgZOcEeYZcpX2397bd2OIrJ/dhFaCAM6XcbZmCfClMVy+WCAEUvjv7P3LLCoLaXcmy7FNK2p9+\n",
       "TINN28DwCWp6jCN53/XvY6/EWKHoe9QhKfN1pzvip3/va6QFlNBG0WApYgL04WyDmjuz8fXlfuVN\n",
       "mLnVqunAvFYtG/C9uPj1DVgHWG7j7AmBy1L22GCxBTflTpZUtY4SgMKpK2F0L2CMRsD+M9bzLsGU\n",
       "6nCH+dtPbxonpoPj5YR53ku7zBaRszC+2p42V+gDf5V6mI94i+xuAACyu/hUVjJPBqx7GPoEnT3T\n",
       "bV6ZwHOOf+x7DSiw06po3gkJLc/RO34/GloX8ayWiAAqgDiImyyZ6drN8tdzueE///gqMcIOEcT9\n",
       "Pl5cKY58u4E4Zr5IsLska3/rRUSE5JOlulNrzWQ42tR4t9HZ/EwaHIo+rRhZlD/9iPHxObP6cxR3\n",
       "uwpPIHwF5Qnni7EbT3J5eAAfxbqpcNeMOiSycqlaq9L6UkJElf1HNhrp/rD+Ny9V//vuyaLBdvxl\n",
       "Y4J7a0NOetRgGYXoYCpqNA9z1xJBl3iv4oK5A0XzFIP7L31cq7gpc0kGFAzZLT90ehwaan0kRXFK\n",
       "AFrQn237/tA/1urP0I/GGwQYL1jig7sHDyA8H9zvzXCr0oahlA2ulDCxRMFzkBjCl0k59uD4MZLN\n",
       "uKx5QaP5ITPtFW68aPuHn1ykS8iYmUaIn9YpHUfo0NiCXCSHme0QQyOI0gu5xTlh4CQjc8suiqFx\n",
       "sShwej//gPzVw+D1/VIl1Brsm6U//+4/9yqrjs7xqUxdyfdpsAC2OYZ1D3p6ekT8ipdqcD5Yc+wA\n",
       "AAFcQZ5MRREsM/8AADYMOoLjCnjt12B48dCCEBgdPHdVUUunjWuwQ1HCEkZjn2Rz6zG1Otw6WNvp\n",
       "HSh61sFAAralTTrxxT9OT0G6eqmZqeU8O/3SN2I/i3ZfD8mEKh1DrdAycvkCJzKMOl5LxHfKxNpR\n",
       "kZ3hYRVeRP+1WvKzdbS2CdEaxPu7Y12S3f0sL2gfFFTA50MRMTVqnzJ+CEr7hqcvCN9uK6gU9yAi\n",
       "Fi3tfwn/qCg1Ws5unIQHsQcjKbsS2sqiw3npCU8riQ1K4ZdCmDmObt8Te9TmC6GR+7IPAhs20bWu\n",
       "y4cgb8exxkDwi3o865oMe0Qy9AFrxdkYaRnSDdfXzYRgo7ey1f7aRfZfV7anFSv0HN5x85bMdC0a\n",
       "DZ7sCMaaSAS+6rLItFR4Azg+qIOmuGfsnkj91PGOyqjofROE1yTU+mqszBB7qMaDL1FRg9okNPmN\n",
       "74+kll67CSRqAAAAuAGea3RCvwAAR10I3m9ItOcT+mIoYtGNJN9/aPbdVLTYiCKlvP45sF6pAAAO\n",
       "DYAACPacPhgRvaG/sNWD4E/SgeRepo/t2D4iCvPNE3PQqrSY1Brz/i4SphKDDfa3nL07VbzbKZRG\n",
       "6DUb8KtoyqIUWJi7Wb1dPvHPH9trWlftFxlbGobfgCR9UsGY6c7FsSMwYpM4x5dLBe4DhzZ0SQwh\n",
       "9Km/xiMwNDxMoWgha3tcKTwUhUZkN6fZ0UEAAAC3AZ5takK/AABHdfnecb/hT3ARTHwxI3CeTtIw\n",
       "xpn8xlTKI64DBVYBpOEFPG5TpuI8AIUxp6notTb0Nml/mHkzVUie9Mi8CC89Kg3GGemIoMMVMJ7F\n",
       "6x690PbnB0Xr087r6b7VpXb5b0cG+65j2A5x2Kv0buk00x3vVdxhX0Ha42GnDYXabXe7mss30EE3\n",
       "266mQam8QmiBQEyPV0t0RnSSBji8UTMVHPM0e2ZVdFtMSgS1GTcfP1kdAAACI0GackmoQWyZTAhn\n",
       "//6eEAAAAwA+GfChxYAAEzfhKa2jwUf/uFZIMHnJYXM337/Gkj+6JV3jxQyJ2BhrQVVIV9W0WuFK\n",
       "t9RcLAdEeYdtB3fwRPQHuxgD94Poc1V7rSaMOHxRN7z0zKrVL50VSelyRexCFYdVcr2ez7yDo8Iz\n",
       "aKaYlkfkz1jYk7pzmBEH72UYDBwhMsKxl/CiciWbft+31OdDROe9Zi0jMZr8vvwJfhfhqwB+oeqg\n",
       "twZH/IgaTSSk13ck4jd9/JRcchcfJc5sg9bnYa0aa/EaSRZ5FzoTu2R1FQY6p/f783473HH6sdAX\n",
       "rCJClX7skc7boHmEn+7AyHCryFmut6rCkBsV9iT4XsqMNPCQIYXB/6Npqt875Q4o4CFF0t1cwLQr\n",
       "718EramHruGWWl90R+7FPl0kZk5eATYSIE/Bc9Yb1Po3nNp1Bj7w+1e0Nwh8u+DheDSasJE2Hva1\n",
       "36SPKy6NNlpDhW4OA708X4J1w/l6D/0OT8/I56u1TPLt3disBj1XhqhTFUJe+qztfAU05CsBB6KL\n",
       "2Q0GXS3FPgmdFtyVzVhbpzpaPtV3To+3uFGWqFm0KfZw/DtiFp9qK2XtzAO8xvNCN3709bz9fdOa\n",
       "AEPAJ5qb9n4BoLzHE0D8IJvRwnoy9Qb6TBikb47ymabz+uzSXDE85Wqm5ivcUGk+LP2f+MENOFyH\n",
       "IF31/4DJj2bZpEvfpakGTbI2xLMtqbcAAAGFQZ6QRRUsM/8AADYMOoLjCnjt12B48jmJM+jP7ItN\n",
       "BXpX3AOtOsuylKJ5dGGv9yx0oheaclWsnxn7t0iQIonS8gE9EHJ2NAOPP03CVg0tmCd3eXFLIHIe\n",
       "KvR/tNj7qlcuvqYRliRLqRghnWvvb2omBy9KjVH8QGtMT1ILJ+hNiaQoAZBb/yeJgFiBlWxyGC5a\n",
       "NbrEk9BnHyjR0fvoFBS+a9T37vc6WFXr8E+1zRy7l8n5McpT+OoVFB26nGMGP/2c4rB/UYqpxo4i\n",
       "kVdDX1pxrPlasgjmvEyeBGYlPCBe6mKZRU/90Rbe+bCEVIrT60xfDds/2NIgkxaXGHbSaxdFlzjU\n",
       "O0q9KLGP91EQQyeMeJwgpJPri9nMm8tQcItVgbVT4lWwk4oDVVoMCFWDWkDYwkbhNoFpHJZ87F4l\n",
       "PwL2mF9PcuAzWR+yhAJTanDvIGCFVIqjn2JbQ6WNAfbKBVwWx0dzncm07gCct930j+GGhemrPSfI\n",
       "qlvmBz3bMUu1a1Tg2Z+cotAAAADyAZ6vdEK/AABHXQjeb0i05xP6dEaMVhmQFRcLvP5rp3InLRb0\n",
       "6AwNacstLDxWIAPumsUAh1OClqrRNR+gpw3zkD0aU8NFbwAlFa0zts08nK/m9EUfz7SVUDPWTmMo\n",
       "7yBVWoQRFn6pxvzeCDCIvBPCpcY64ECLOPmX3yilizQyKrHSkdoh7bKLtwH3F3p0Krq6BmkRx+fj\n",
       "bBj+Nor8tim90w5hxSrPMPi52gKAxDio4RZBkMxdTPinUNDXjtTU+HDcn7SWCChDgQQM63fz9iSC\n",
       "PdPPetRKRBIdbM5bR0UU+UMPlmV4tA1NFChViZ81EhzLY3QAAADjAZ6xakK/AABHdfnecb/hTvMh\n",
       "NnpqgARAiNKxihyGRDfe/oDPsU2DJiX7WC1aMNT2AD7dt79sD9zHMd2px5QSFj5pTVKXChbc6T73\n",
       "19qGCFDkO5FZiYuYd+xGc37j/q/GUMGxIIjpeRhtIFmotkI8/w/cOhJ2BEeS3s/XLA6VYMwjQvto\n",
       "Dl1K4/f+QkfLVxmyM6N7glXPdFhrL2SFrSCYkOyKU/H37UYYm4FXgterWThn3fwIuG8q3AvDLLvn\n",
       "qloGjbNP+todkUA+gnOj5U0wkMrHV/G/beg/gM33dnH4iPU64G0AAAEEQZqzSahBbJlMCFf//jhA\n",
       "AAADAF0ZCpIHE9Th9IXJgtWN5qX+3hTKexqGlABpVl4KJoJkTbXsQ1viIIAoMyGZBFsBczXHeYyo\n",
       "CJ/rLTV5Q3XXu+EmpRFg2/n55e+Y9vb5e+vjrB8Lv/oeyccz6AvLwB6Oi+3RddGIKc92dGIRslwJ\n",
       "8W0I+aetUIamktuAiDLPD0r0j+1KD08QqHoLtRCESCS5sx9TVRuvDJ76WYbC/hnNEitzsTJuPSYy\n",
       "mT35S2w1OqHgUd3DItJyyt6tiEu2LhqJIrKZ+xDVe/GT9tOHVX9PY6ctrc9+DDU1OQqTb26MKHjg\n",
       "yMLt8N0j7qSVPDY1wf5Y7EAAAAsibW9vdgAAAGxtdmhkAAAAAAAAAAAAAAAAAAAD6AAAIygAAQAA\n",
       "AQAAAAAAAAAAAAAAAAEAAAAAAAAAAAAAAAAAAAABAAAAAAAAAAAAAAAAAABAAAAAAAAAAAAAAAAA\n",
       "AAAAAAAAAAAAAAAAAAAAAAAAAgAACkx0cmFrAAAAXHRraGQAAAADAAAAAAAAAAAAAAABAAAAAAAA\n",
       "IygAAAAAAAAAAAAAAAAAAAAAAAEAAAAAAAAAAAAAAAAAAAABAAAAAAAAAAAAAAAAAABAAAAAAoAA\n",
       "AAHgAAAAAAAkZWR0cwAAABxlbHN0AAAAAAAAAAEAACMoAAAEAAABAAAAAAnEbWRpYQAAACBtZGhk\n",
       "AAAAAAAAAAAAAAAAAAAoAAABaABVxAAAAAAALWhkbHIAAAAAAAAAAHZpZGUAAAAAAAAAAAAAAABW\n",
       "aWRlb0hhbmRsZXIAAAAJb21pbmYAAAAUdm1oZAAAAAEAAAAAAAAAAAAAACRkaW5mAAAAHGRyZWYA\n",
       "AAAAAAAAAQAAAAx1cmwgAAAAAQAACS9zdGJsAAAAt3N0c2QAAAAAAAAAAQAAAKdhdmMxAAAAAAAA\n",
       "AAEAAAAAAAAAAAAAAAAAAAAAAoAB4ABIAAAASAAAAAAAAAABAAAAAAAAAAAAAAAAAAAAAAAAAAAA\n",
       "AAAAAAAAAAAAAAAAGP//AAAANWF2Y0MBZAAe/+EAGGdkAB6s2UCgPaEAAAMAAQAAAwAoDxYtlgEA\n",
       "Bmjr48siwP34+AAAAAAcdXVpZGtoQPJfJE/FujmlG88DI/MAAAAAAAAAGHN0dHMAAAAAAAAAAQAA\n",
       "ALQAAAIAAAAAFHN0c3MAAAAAAAAAAQAAAAEAAAUwY3R0cwAAAAAAAACkAAAAAQAABAAAAAABAAAK\n",
       "AAAAAAEAAAQAAAAAAQAAAAAAAAABAAACAAAAAAEAAAoAAAAAAQAABAAAAAABAAAAAAAAAAEAAAIA\n",
       "AAAAAQAABgAAAAABAAACAAAAAAEAAAYAAAAAAQAAAgAAAAABAAAGAAAAAAEAAAIAAAAAAQAABgAA\n",
       "AAABAAACAAAAAAEAAAoAAAAAAQAABAAAAAABAAAAAAAAAAEAAAIAAAAAAQAABgAAAAABAAACAAAA\n",
       "AAEAAAYAAAAAAQAAAgAAAAABAAAKAAAAAAEAAAQAAAAAAQAAAAAAAAABAAACAAAAAAEAAAoAAAAA\n",
       "AQAABAAAAAABAAAAAAAAAAEAAAIAAAAAAQAACAAAAAACAAACAAAAAAEAAAoAAAAAAQAABAAAAAAB\n",
       "AAAAAAAAAAEAAAIAAAAAAQAACgAAAAABAAAEAAAAAAEAAAAAAAAAAQAAAgAAAAABAAAIAAAAAAIA\n",
       "AAIAAAAAAQAACgAAAAABAAAEAAAAAAEAAAAAAAAAAQAAAgAAAAABAAAKAAAAAAEAAAQAAAAAAQAA\n",
       "AAAAAAABAAACAAAAAAEAAAgAAAAAAgAAAgAAAAACAAAEAAAAAAEAAAgAAAAAAgAAAgAAAAAEAAAE\n",
       "AAAAAAEAAAoAAAAAAQAABAAAAAABAAAAAAAAAAEAAAIAAAAAAQAABgAAAAABAAACAAAAAAEAAAQA\n",
       "AAAAAQAACgAAAAABAAAEAAAAAAEAAAAAAAAAAQAAAgAAAAABAAAGAAAAAAEAAAIAAAAAAQAABgAA\n",
       "AAABAAACAAAAAAEAAAoAAAAAAQAABAAAAAABAAAAAAAAAAEAAAIAAAAAAQAACgAAAAABAAAEAAAA\n",
       "AAEAAAAAAAAAAQAAAgAAAAABAAAKAAAAAAEAAAQAAAAAAQAAAAAAAAABAAACAAAAAAEAAAYAAAAA\n",
       "AQAAAgAAAAABAAAGAAAAAAEAAAIAAAAAAQAACAAAAAACAAACAAAAAAEAAAoAAAAAAQAABAAAAAAB\n",
       "AAAAAAAAAAEAAAIAAAAAAQAACgAAAAABAAAEAAAAAAEAAAAAAAAAAQAAAgAAAAABAAAKAAAAAAEA\n",
       "AAQAAAAAAQAAAAAAAAABAAACAAAAAAEAAAgAAAAAAgAAAgAAAAABAAAEAAAAAAEAAAgAAAAAAgAA\n",
       "AgAAAAABAAAKAAAAAAEAAAQAAAAAAQAAAAAAAAABAAACAAAAAAEAAAoAAAAAAQAABAAAAAABAAAA\n",
       "AAAAAAEAAAIAAAAAAQAACAAAAAACAAACAAAAAAEAAAQAAAAAAQAACgAAAAABAAAEAAAAAAEAAAAA\n",
       "AAAAAQAAAgAAAAABAAAKAAAAAAEAAAQAAAAAAQAAAAAAAAABAAACAAAAAAEAAAoAAAAAAQAABAAA\n",
       "AAABAAAAAAAAAAEAAAIAAAAAAQAACAAAAAACAAACAAAAAAEAAAoAAAAAAQAABAAAAAABAAAAAAAA\n",
       "AAEAAAIAAAAAAQAACgAAAAABAAAEAAAAAAEAAAAAAAAAAQAAAgAAAAABAAAIAAAAAAIAAAIAAAAA\n",
       "AQAABgAAAAABAAACAAAAAAEAAAoAAAAAAQAABAAAAAABAAAAAAAAAAEAAAIAAAAAAwAABAAAAAAB\n",
       "AAAKAAAAAAEAAAQAAAAAAQAAAAAAAAABAAACAAAAAAEAAAoAAAAAAQAABAAAAAABAAAAAAAAAAEA\n",
       "AAIAAAAAAQAACgAAAAABAAAEAAAAAAEAAAAAAAAAAQAAAgAAAAABAAAEAAAAABxzdHNjAAAAAAAA\n",
       "AAEAAAABAAAAtAAAAAEAAALkc3RzegAAAAAAAAAAAAAAtAAAGrYAAANoAAABMAAAALAAAAC4AAAD\n",
       "UwAAASAAAACvAAAAsQAAAoEAAACjAAACOgAAAJoAAAJ6AAAAnwAAAloAAACSAAADRQAAASAAAACz\n",
       "AAAApgAAApMAAAChAAACmQAAAK4AAAOQAAABEwAAAJAAAACfAAADbAAAAR8AAACNAAAArgAAAvUA\n",
       "AADCAAAAoAAAA60AAAE0AAAAkwAAAKAAAAMmAAAA8gAAAJYAAAChAAACzQAAAL0AAACuAAADcgAA\n",
       "ATUAAACYAAAAkgAAA5AAAAEmAAAAqwAAAJgAAAMLAAAAsgAAAIoAAAHgAAABpQAAAosAAADGAAAA\n",
       "lwAAAX0AAAFoAAABuAAAAakAAAMjAAABJAAAAJcAAACRAAACTQAAAK8AAAHXAAADeQAAARQAAACq\n",
       "AAAAogAAAmoAAAC5AAACqgAAANgAAAMWAAABWQAAAKAAAACwAAAC5wAAARgAAADBAAAAjQAAA0gA\n",
       "AAFRAAAAnAAAALgAAAIVAAAApAAAAmEAAACfAAAC6gAAALsAAACkAAAC9gAAAOgAAACPAAAAkgAA\n",
       "As4AAADcAAAAmAAAAKQAAALUAAAA5QAAAJMAAACmAAACLQAAAMAAAACmAAABhgAAAlUAAADhAAAA\n",
       "lwAAAq0AAADcAAAAjwAAAJsAAALeAAAA5wAAAIwAAACiAAACaQAAAMUAAACOAAABfAAAAt0AAAD1\n",
       "AAAAngAAAKUAAAMoAAAA8gAAALUAAACpAAAD8wAAAP0AAACWAAAAowAAAzMAAADHAAAAnQAAA2MA\n",
       "AAE+AAAAwQAAAKUAAANcAAABHAAAAMMAAACqAAAC4gAAAQgAAADRAAACQQAAAMsAAAOSAAABZwAA\n",
       "ANAAAAEFAAAB4AAAAbYAAAHHAAADPQAAAVcAAADLAAAA3QAAAscAAAFgAAAAvAAAALsAAAInAAAB\n",
       "iQAAAPYAAADnAAABCAAAABRzdGNvAAAAAAAAAAEAAAAwAAAAYnVkdGEAAABabWV0YQAAAAAAAAAh\n",
       "aGRscgAAAAAAAAAAbWRpcmFwcGwAAAAAAAAAAAAAAAAtaWxzdAAAACWpdG9vAAAAHWRhdGEAAAAB\n",
       "AAAAAExhdmY1OC43Ni4xMDA=\n",
       "\">\n",
       "  Your browser does not support the video tag.\n",
       "</video>"
      ],
      "text/plain": [
       "<IPython.core.display.HTML object>"
      ]
     },
     "execution_count": 63,
     "metadata": {},
     "output_type": "execute_result"
    }
   ],
   "source": [
    "from IPython.display import HTML\n",
    "HTML(anim.to_html5_video())"
   ]
  },
  {
   "cell_type": "code",
   "execution_count": null,
   "id": "96cdbfbd-c438-4bc3-9c0e-71bf20ff9d0d",
   "metadata": {},
   "outputs": [],
   "source": []
  }
 ],
 "metadata": {
  "kernelspec": {
   "display_name": "Python 3 (ipykernel)",
   "language": "python",
   "name": "python3"
  },
  "language_info": {
   "codemirror_mode": {
    "name": "ipython",
    "version": 3
   },
   "file_extension": ".py",
   "mimetype": "text/x-python",
   "name": "python",
   "nbconvert_exporter": "python",
   "pygments_lexer": "ipython3",
   "version": "3.10.12"
  }
 },
 "nbformat": 4,
 "nbformat_minor": 5
}
