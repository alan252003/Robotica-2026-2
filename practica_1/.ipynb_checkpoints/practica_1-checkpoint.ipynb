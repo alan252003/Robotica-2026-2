{
 "cells": [
  {
   "cell_type": "markdown",
   "id": "4ad60680-68ce-410c-b0e2-b4c1c133cd82",
   "metadata": {},
   "source": [
    "# Práctica 1: Manejo básico de herramientas"
   ]
  },
  {
   "cell_type": "markdown",
   "id": "0364f5ab",
   "metadata": {},
   "source": [
    "## Objetivo\n",
    "\n",
    "Que el alumno haga uso de las funciones de uso básico de las herramientas del curso (Ubuntu, Python, Jupyter, Github)"
   ]
  },
  {
   "cell_type": "markdown",
   "id": "283d924e",
   "metadata": {},
   "source": [
    "### Metas\n",
    "\n",
    "Que el alumno:\n",
    "- Integre texto en Markdown dentro de Jupyter\n",
    "- Integre código de Python dentro de Jupyter\n",
    "- Haga uso de la terminal de Ubuntu y contruya un script de bash\n",
    "- Genere un repositorio en GitHub y comparta su archivo de práctica"
   ]
  },
  {
   "cell_type": "markdown",
   "id": "66021773",
   "metadata": {},
   "source": [
    "### Contribución al perfil del egresado\n",
    "\n",
    "La siguiente práctica contribuye en los siguientes puntos al perfil del egresado:"
   ]
  },
  {
   "cell_type": "markdown",
   "id": "650038e0",
   "metadata": {},
   "source": [
    "#### Aptitudes y habilidades\n",
    "\n",
    "- Para diseñar, construir, operar y mantener los sistemas mecatrónicos y sus componentes.\n",
    "- Para crear, innovar o evaluar las tecnologías relacionadas con la mecatrónica."
   ]
  },
  {
   "cell_type": "markdown",
   "id": "35e56fe2",
   "metadata": {},
   "source": [
    "#### Actitudes profesionales\n",
    "\n",
    "- Ser creativo e innovador.\n",
    "- Tener confianza en su preparación académica.\n",
    "- Comprometido con su actualización, superación y competencia profesional."
   ]
  },
  {
   "cell_type": "markdown",
   "id": "33ee9807",
   "metadata": {},
   "source": [
    "#### Actitudes de tipo social\n",
    "\n",
    "- Promover el cambio en la mentalidad frente a la competitividad internacional."
   ]
  },
  {
   "cell_type": "markdown",
   "id": "3db59ed8",
   "metadata": {},
   "source": [
    "## Rúbrica de evaluación"
   ]
  },
  {
   "cell_type": "markdown",
   "id": "f6c7cd2e",
   "metadata": {},
   "source": [
    "### La evaluación de la práctica contará de los siguientes puntos\n",
    "\n",
    "| Elemento | Porcentaje |\n",
    "| ------:| ----------- |\n",
    "| **Cuestionario previo** | 15% | \n",
    "| **Desarrollo** | 35% |\n",
    "| **Análisis de resultados**  | 35% |\n",
    "| **Conclusiones** | 15% |"
   ]
  },
  {
   "cell_type": "markdown",
   "id": "57741f8a",
   "metadata": {},
   "source": [
    "### Se evaluará con los siguientes criterios:\n",
    "\n",
    "| Elemento | Malo | Regular | Bueno |\n",
    "| ------:| ------ | --------| ------|\n",
    "| **Cuestionario previo** | El trabajo no contiene cuestionario previo o todas las preguntas son incorrectas (0%)| Al menos la mitad de las preguntas son correctas (8%) |  Todas las preguntas son correctas (15%) |\n",
    "| **Desarrollo** | El trabajo no contiene desarrollo o su planteamiento no concuerda con lo deseado (0%) | El desarrollo está mal planteado o no llega a los resultados esperados (10%) | El desarrollo tiene un planteamiento adecuado y llega a los resultados esperados (35%) |\n",
    "| **Análisis de resultados**  | El trabajo no contiene análisis de resultados o la información no se está interpretando correctamente (0%) | La interpretación de los resultados es parcial o desorganizada (10%) | Realiza un correcto análisis de los resultados de forma organizada   (35%) |\n",
    "| **Conclusiones** | El trabajo no contiene conclusiones o no hacen referencia al trabajo desarrollado y los objetivos planteados (0%) | La redacción de las conclusiones es desorganizada o confusa (8%) | Las conclusiones del trabajo son claras y hacen referencia al trabajo desarrollado y los objetivos planteados (15%) | "
   ]
  },
  {
   "cell_type": "markdown",
   "id": "e5ff673e-01fd-4484-99fe-3a26e38c516e",
   "metadata": {},
   "source": [
    "## Introducción"
   ]
  },
  {
   "cell_type": "markdown",
   "id": "dafaaa10",
   "metadata": {},
   "source": [
    "En el desarrollo de la robótica moderna, es fundamental contar con un dominio básico de herramientas digitales que permiten documentar, programar y compartir proyectos.\n",
    "\n",
    "- <img src=\"imagenes/Ubuntu-logo.png\" height=60/ align=center>\n",
    "\n",
    "**Ubuntu** es un sistema operativo basado en Linux, muy usado en investigación y robótica gracias a su estabilidad y compatibilidad con librerías como ROS. El manejo de la terminal es esencial para automatizar tareas y ejecutar programas de manera eficiente.\n",
    "\n",
    "\n",
    "\n",
    "- <img src=\"imagenes/Jupyter-logo.png\" width=300/ align=center>\n",
    "\n",
    "**Jupyter** es una herramienta interactiva que facilita combinar texto, código y resultados en un mismo documento. Se utiliza ampliamente en ciencia de datos, aprendizaje automático y simulación robótica. Para texto utiliza el formato **Markdown**.\n",
    "\n",
    "\n",
    "\n",
    "- <img src=\"imagenes/Python-logo.png\" width=300/ align=center>\n",
    "\n",
    "**Python** es uno de los intérpretes más usados en robótica por su simplicidad y su gran ecosistema de librerías. En Jupyter, se puede combinar código Python con explicaciones en texto.\n",
    "\n",
    "\n",
    "\n",
    "- <img src=\"imagenes/Git-logo.png\" width=300/ align=center>\n",
    "\n",
    "**Git** es un sistema de control de versiones que permite llevar un historial de cambios en los archivos de una carpeta (repositorio), así como recuperar versiones anteriores, y trabajar en paralelo en \"*ramas*\" sin perder información. \n",
    "\n",
    "\n",
    "\n",
    "- <img src=\"imagenes/Github-logo.png\" height=60/ align=center>\n",
    "\n",
    "**Github** es una plataforma en línea que utiliza git para almacenar repositorios. Cuenta con herramientas para colaboración en equipo, documentación y despliegue.\n",
    "\n"
   ]
  },
  {
   "cell_type": "markdown",
   "id": "0ca966a0-89c6-434c-b39d-22dc0b54cde0",
   "metadata": {},
   "source": [
    "## Cuestionario previo"
   ]
  },
  {
   "cell_type": "markdown",
   "id": "fae60cb2",
   "metadata": {},
   "source": [
    "### Responder de forma breve las siguientes preguntas:\n",
    "\n",
    "- En linux, ¿a qué se refieren los términos sh, bash y shell?\n",
    "> **Los términos en el entorno de linux, *shell* es una interfaz de línea de comandos que permite a los usuarios interactuar con el sistema operativo; esta herramienta proporciona un entorno para ejecutar programas y gestionar archivos, directorios, etc [4]; mientras que *sh* (Bourne Shell) es un lenguaje de programación de comandos para sistemas tipo UNIX, este se implementa en Linux y puede recibir entradas desde el teclado o desde un archivo llamado script [1]. Ahora *bash* (Bourne Again Shell) es un procesador de lenguaje de comandos y el shell de inicio de sesión predetermnado en Linux, por lo que qdmite funciones de *sh* y ofrece más extensiones como [1]:**\n",
    "> - **Completar rápidamente un comando usando <TAB>**\n",
    "> - **Búsqueda de historial de comandos con flecha arriba o <Ctrl-R>**\n",
    "> - **Evaluación aritmética**\n",
    "> - **Matrices asociativas**\n",
    "> - **Atajos de teclado para edición desde línea de comandos**\n",
    "> - **Personalización para modificar la presentación**\n",
    "- ¿Python se considera un lenguaje de programación? ¿Por qué?\n",
    "> **Python no es un lenguaje de programación, es más bien un intérprete, ya que no conlleva una compilación del código para asegurarse de que no haya errores de sintaxis, sino más bien ejecuta cada línea de código línea por línea, y en caso de tomar en cuenta el *scope* este se diferencia por la sangría.**\n",
    "- ¿Qué lenguajes o intérpretes se pueden usar en Jupyter?\n",
    "> **Jupyter tiene compatibilidad con una variedad de lenguajes de programación a través de sus *kernels*, entre estos intérpretes, de los cuales destaca el intérprete Python, luego también se pueden utilizar: R, Julia, Scala, Perl, Ruby, PHP, C++, JavaScript, CoffeeScript, Java, Haskell, Matlab, entre otros; y además puede introducirse contenido en formato LaTeX [3].**\n",
    "- ¿Cuál es la diferencia entre Git y GitHub?\n",
    "> **La diferencia entre estos dos conceptos es que *Git* es un software de control de versiones distribuido que se ejecuta localmente en la máquina de un usuario, el cual se encarga de gestionar el historial de cambios, ramas y confirmaciones del código fuente, sin embargo no puede leer las ediciones que otros desarrolladores puedan estar haciendo en tiempo real, por lo que es mejor para el uso individual. Mientras que *GitHub* es una plataforma que puede mantener repositorios de código en almacenamiento basado en la nube que facilita la colaboración con Git, a fin de que varios desarrolladores puedan trabajar en un sólo proyecto y ver las ediciones de cada uno en tiempo real, en donde ya se proporciona una interfaz gráfica, herramientas de colaboración y gestión de proyectos [2].**"
   ]
  },
  {
   "cell_type": "markdown",
   "id": "fdcc24d0-38ff-4ca9-b068-35a9d34dfc10",
   "metadata": {},
   "source": [
    "## Desarrollo"
   ]
  },
  {
   "cell_type": "markdown",
   "id": "8ea2d641",
   "metadata": {},
   "source": [
    "### 1. Manejo de Ubuntu"
   ]
  },
  {
   "cell_type": "markdown",
   "id": "65bfe09f",
   "metadata": {},
   "source": [
    "En este primera parte, se creará un archivo .bash que:\n",
    "- Despliegue un mensaje de inicio\n",
    "- Se mueva a la carpeta de usuario\n",
    "- En caso de que no exista la carpeta \"Practica1\" la cree\n",
    "- Dentro, cree la carpeta \"Letras\" con los archivos \n",
    "    - a.txt\n",
    "    - b.txt\n",
    "    - c.txt\n",
    "- Dentro de la misma carpeta, cree la carpeta \"Integrantes\" con los archivos \n",
    "    - Nombre1.txt\n",
    "    - Nombre2.txt\n",
    "    - Nombre3.txt\n",
    "  \n",
    "  Siendo \"NombreN\" el nombre de cada integrante del equipo (sin espacios)\n",
    "- Despliegue un diagrama de la estructura de la carpeta \"Practica1\", con sus subcarpetas y archivos\n",
    "- Elimine la carpeta \"Practica1\", con sus subcarpetas y archivos\n",
    "- Conceder permisos de administrador al archivo y correrlo\n",
    "\n",
    "Como probatorios: \n",
    "- Incluir la imagen en una nueva celda.\n",
    "- Incluir el código en otra nueva celda."
   ]
  },
  {
   "cell_type": "markdown",
   "id": "6ed89aea-792e-45d0-ad1a-8dc01d6c899d",
   "metadata": {},
   "source": [
    "<img src=\"./imagenes/TermScript.png\" height=50/>\n",
    "                    Figura 1: Ejecución del script Task1.sh en la terminal de Ubuntu"
   ]
  },
  {
   "cell_type": "markdown",
   "id": "339e7968-b84e-42e0-b396-bcc4c2e53d87",
   "metadata": {},
   "source": [
    "A continucación se muestra el código del script de *bash* utilizado para generar los resultados de la Figura 1:\n",
    "```bash\n",
    "# Script Task1.sh\n",
    "#!/bin/bash\n",
    "echo \"Archivo ejecutable inicializado\"\n",
    "cd ${HOME}\n",
    "DirExist=\"~/Practica1\"\n",
    "if [ -d \"$DirExist\" ]; then\n",
    "\techo \"El directorio Practica1 ya existe.\"\n",
    "else\n",
    "\tmkdir -p Practica1\n",
    "    echo \"Se ha creado el directorio Practica1\"\n",
    "fi\n",
    "cd ./Practica1\n",
    "mkdir -p Letras/Integrantes\n",
    "cd Letras\n",
    "touch {a.txt,b.txt,c.txt}\n",
    "cd Integrantes\n",
    "touch AlanRogelioCorreaPalacios.txt\n",
    "tree ${HOME}/Practica1\n",
    "rm -r ${HOME}/Practica1/*\n",
    "if ! [ -d \"$DirExist\" ]; then\n",
    "\techo \"El directorio Practica1 se ha eliminado correctamente.\"\n",
    "else\n",
    "\techo \"ERROR: No se ha podido borrar le directorio.\"\n",
    "fi\n",
    "```"
   ]
  },
  {
   "cell_type": "markdown",
   "id": "8802332e",
   "metadata": {},
   "source": [
    "### 2. Markdown"
   ]
  },
  {
   "cell_type": "markdown",
   "id": "0a4cf491",
   "metadata": {},
   "source": [
    "En esta parte, crear una celda de markdown con:\n",
    "\n",
    "- La forma general de la matriz de transformación homogénea de un sistema j respecto a un sistema i\n",
    "- La forma general de la matriz de rotación de un sistema j respecto a un sistema i respecto al eje z\n",
    "- La forma general del vector de posición de un sistema j respecto a un sistema i\n",
    "- La forma general del vector de postura para un manipulador contenido en el plano XY\n",
    "- La forma general del vector de juntas para un manipulador RRR\n",
    "\n",
    "Colocar todo dentro de una tabla de dos columnas."
   ]
  },
  {
   "cell_type": "markdown",
   "id": "bcabdce9-baf1-455b-8a5c-3c214c6f8eec",
   "metadata": {},
   "source": [
    "|Elemento|Ecuación|\n",
    "|----------|--------|\n",
    "|Matriz $^{i}T_{j}$|$$ \n",
    "\\begin{pmatrix}\n",
    "{}^{i}\\mathbf{R}_{j} & {}^{i}\\mathbf{p}_{j}\\\\\n",
    "\\mathbf{0}^{T} & 1 \n",
    "\\end{pmatrix}\n",
    "$$|\n",
    "|Matriz $R_{z}(^{i}\\alpha_{j})$|$$ \n",
    "\\begin{pmatrix}\n",
    "cos(^{i}\\alpha_{j}) & -sin(^{i}\\alpha_{j}) & 0\\\\\n",
    "sin(^{i}\\alpha_{j}) & cos(^{i}\\alpha_{j}) & 0 \\\\\n",
    "0 & 0 & 1\n",
    "\\end{pmatrix}\n",
    "$$|\n",
    "|Vector $^{i}P_{j}$|$$ \n",
    "\\begin{pmatrix}\n",
    "(^{i}P_{j})\\hat{x} \\\\\n",
    "(^{i}P_{j})\\hat{y} \\\\\n",
    "(^{i}P_{j})\\hat{z}\n",
    "\\end{pmatrix}\n",
    "$$|\n",
    "|Vector $^{i}\\xi_{j}$|$$ \n",
    "\\begin{pmatrix}\n",
    "^{i}x_{j} \\\\\n",
    "^{i}y_{j} \\\\\n",
    "^{i}\\theta_{j}\n",
    "\\end{pmatrix}\n",
    "$$|\n",
    "|Vector $q$|$$ \n",
    "\\begin{pmatrix}\n",
    "\\theta_{1} \\\\\n",
    "\\theta_{2} \\\\\n",
    "\\theta_{3}\n",
    "\\end{pmatrix}\n",
    "$$|\n",
    "\n",
    "*Tabla 1: Representación en forma general de las matrices y los vectores que describen un robot*"
   ]
  },
  {
   "cell_type": "markdown",
   "id": "a6d5a8da",
   "metadata": {},
   "source": [
    "### 3. Python"
   ]
  },
  {
   "cell_type": "markdown",
   "id": "f4fb68dc",
   "metadata": {},
   "source": [
    "Crear en python las siguientes celdas:\n",
    "\n",
    "- Definir una clase \"Calculadora\" con métodos \"suma\" y \"multiplicación\" que tomen dos parámetros y regresen el resultado de la operación\n",
    "- Definir una clase \"CalculadoraMultiple\" con métodos \"suma\" y \"multiplicación\" que tomen cualquier cantidad de parámetros y regresen el resultado de la operación \n",
    "- Instanciar ambas clases en una nueva celda y comprobar su funcionamiento"
   ]
  },
  {
   "cell_type": "code",
   "execution_count": 18,
   "id": "475912b4-619b-486c-a35c-a1c31a9ddcae",
   "metadata": {},
   "outputs": [],
   "source": [
    "class Calculadora:\n",
    "    \"\"\"\n",
    "    Representa una calculadora con métodos que sólo aceptan dos números como parámetros\n",
    "    \"\"\"\n",
    "    def __init__(self):\n",
    "        \"\"\"\n",
    "        Inicialización de la clase Calculadora\n",
    "        \"\"\"\n",
    "        print(\"Se ha creado el objeto de Calculadora\")\n",
    "        \n",
    "    def suma(self, num1: float, num2: float):\n",
    "        \"\"\"\n",
    "        Args:\n",
    "        num1 (float): primer número para efectuar la operación aritmética\n",
    "        num2 (float): segundo número para efectuar la operación aritmética\n",
    "        \"\"\"\n",
    "        return num1+num2\n",
    "        \n",
    "    def multiplicación(self, num1: float, num2: float):\n",
    "        \"\"\"\n",
    "        Args:\n",
    "        num1 (float): primer número para efectuar la operación aritmética\n",
    "        num2 (float): segundo número para efectuar la operación aritmética\n",
    "        \"\"\"\n",
    "        return num1*num2"
   ]
  },
  {
   "cell_type": "code",
   "execution_count": 19,
   "id": "0629ee75-3950-49eb-8f43-c9ee89eccd64",
   "metadata": {},
   "outputs": [],
   "source": [
    "class CalculadoraMultiple:\n",
    "    \"\"\"\n",
    "    Representa una calculadora con métodos que sólo aceptan n cantidad números como parámetros\n",
    "    \"\"\"\n",
    "    def __init__(self):\n",
    "        \"\"\"\n",
    "        Inicialización de la clase CalculadoraMultiple\n",
    "        \"\"\"\n",
    "        print(\"Se ha creado el objeto de CalculadoraMultiple\")\n",
    "        \n",
    "    def suma(self, *args):\n",
    "        \"\"\"\n",
    "        Args:\n",
    "        *args ([]): lista de números a operar\n",
    "        \"\"\"\n",
    "        result = 0\n",
    "        for i in args:\n",
    "            result = result + i\n",
    "        return result\n",
    "        \n",
    "    def multiplicación(self, *args):\n",
    "        \"\"\"\n",
    "        Args:\n",
    "        *args ([]): lista de números a operar\n",
    "        \"\"\"\n",
    "        result = 1\n",
    "        for i in args:\n",
    "            result = result * i\n",
    "        return result"
   ]
  },
  {
   "cell_type": "code",
   "execution_count": 20,
   "id": "337824be-4f99-478e-9fd1-153b6162a149",
   "metadata": {},
   "outputs": [
    {
     "name": "stdout",
     "output_type": "stream",
     "text": [
      "Se ha creado el objeto de Calculadora\n",
      "Resultado de suma de calculadora: 108.14\n",
      "Resultado de multiplicación de calculadora: 2876.3999999999996\n",
      "Se ha creado el objeto de CalculadoraMultiple\n",
      "Resultado de suma de calculadora múltiple: 255.7\n",
      "Resultado de multiplicación de calculadora múltiple: 515552866.92\n"
     ]
    }
   ],
   "source": [
    "calc = Calculadora()\n",
    "print(f\"Resultado de suma de calculadora: {calc.suma(23.94,84.2)}\")\n",
    "print(f\"Resultado de multiplicación de calculadora: {calc.multiplicación(84.6,34.0)}\")\n",
    "calcMul = CalculadoraMultiple()\n",
    "print(f\"Resultado de suma de calculadora múltiple: {calcMul.suma(34.3,22.8,93.5,45.1,60)}\")\n",
    "print(f\"Resultado de multiplicación de calculadora múltiple: {calcMul.multiplicación(82.4,43.8,50.7,32.2,87.5)}\")"
   ]
  },
  {
   "cell_type": "markdown",
   "id": "d948dc9e",
   "metadata": {},
   "source": [
    "### 4. GitHub"
   ]
  },
  {
   "cell_type": "markdown",
   "id": "2943f9be",
   "metadata": {},
   "source": [
    "Generar un repositorio en línea llamado \"Robotica-2026-2\", donde se subirán los archivos de la práctica. Agregar a los miembros del equipo como colaboradores del repositorio.\n",
    "\n",
    "En la configuración del repositorio incluir  un archivo README.md, y en él colocar:\n",
    "\n",
    "- Una descripción del repositorio\n",
    "- Nombres de los integrantes del equipo\n",
    "\n",
    "Se recomienda primero crear el repositorio en línea, clonarlo en el ordenador y después incluir los archivos de la práctica. Para utilizar el repositorio para todas las prácticas posteriores, se recomienda usar la siguiente estructura de archivos:\n",
    "~~~ bash\n",
    "Robotica-2026-2/\n",
    "├── practica_1\n",
    "│   ├── images\n",
    "│   │   └── p1_1.png\n",
    "│   └── practica_1.ipynb\n",
    "├── README.md\n",
    "└── .gitignore\n",
    "~~~\n",
    "JupyterLab crea carpetas ocultas de nombre **\".ipynb_checkpoints/\"** con la versión anterior de los archivos que carga. Para evitar que estas versiones estén en el repositorio, agregaremos un archivo de configuración **\".gitignore\"**\n",
    "\n",
    "El archivo debe estar en la raíz del repositorio. Para las carpetas que queremos omitir, el archivo debe tener un renglón:\n",
    "\n",
    "> \\*\\*/.ipynb_checkpoints/\\*\n",
    "\n",
    "**Se puede usar como referencia el archivo **\".gitignore\"** de este repositorio"
   ]
  },
  {
   "attachments": {},
   "cell_type": "markdown",
   "id": "3a88c47d-d8a3-43cb-afee-5d54559450a7",
   "metadata": {
    "jp-MarkdownHeadingCollapsed": true
   },
   "source": [
    "## Análisis de resultados\n",
    "\n",
    "¿Qué utilidad tiene el uso de un repositorio en línea para código?\n",
    "> **La utilidad que posee un repositorio en línea es que además de llevar un control de versiones de los proyectos que se implementen, también los cambios se guardan en la nube para no perder la información por si se perdiera el progreso de forma local, y también que usuarios externos pueden colaborar en el control de versiones pudiendo trabajar sus prpouestas para posteriormente solicitar un *Pull request*.**\n",
    "\n",
    "¿Cuál es la convención de ángulos que utilizan los archivos URDF para los ángulos de las juntas respecto al eslabón padre?\n",
    "> **La convención que se utiliza para los ángulo se especifica en la etiqueta de origen referido al eslabón padre como:**\n",
    " \\<origin rpy=\"$\\gamma$ $\\beta$ $\\alpha$\"/\\>\n",
    "\n",
    "\n",
    "¿Qué utilidad tiene describir un robot en un archivo URDF?\n",
    "> **Describir un robot en un archivo URDF ayuda, en primer lugar, debido a que se utiliza el lenguaje html para maquetar el robot, lo que hace sencilla la descripción de cada elemento del robot mediante etiquetas, y además se implementa la definición de todos los eslabones y juntas por separado, en donde se describen las característas físicas y posición en el apartado donde se describe cada eslabón, mientras que en el apartado de las juntas se describe el movimiento que va a tener cada eslabón respecto a otro en un orden de jerarquía en base a su dependencia de otros elsabones, de forma que se puede controlar dichos movimientos con elementos interactivos como barras o cursores.**\n",
    "\n",
    "\n"
   ]
  },
  {
   "cell_type": "markdown",
   "id": "ed674101-3cbf-4c0e-b0cc-dcddfb09fba5",
   "metadata": {},
   "source": [
    "## Conclusiones\n",
    "En base a la fase experimental y los resultados obtenidos, se logró comprender e implementar el intérprete Python y texto en Markdown dentro de las celdas que componen el softaware de Jupyter Lab, ya que para la generación de las propias evidencias de este documento se requirió de los mismos, en la cual se puede observar que es bastante útil la integración de estos recursos para generar archivos estéticos, con formato ya sea para texto o ecuaciones, como funcionales para ejecutar líneas de código y dar demostraciones de la teoría que se pueda emplear en las celdas de texto. Del mismo modo, se logró manipular la terminal de Ubuntu así como la interfaz que utiliza para que interactuemos con el sistema operativo mediante un script, el cual resulta beneficiosa su implementación dado a que permite la automatización de tareas mendiante comandos de terminal; asímismo todo este proceso se puede dejar plasmado con el uso de repsoitorios, tanto de forma local con Git como en la nube con GitHub, para llevar a cabo un control de versiones de estos archivos e irlo actualizando o corrigiendo conforme pase el tiempo. Por lo que en esta práctica se determinón la importancia del uso de estas herramientas para la realización de proyectos que conlleven archivos de código y su respectivo mantenimiento.\n",
    "\n",
    "\n",
    "## Bibliografía \n",
    "[1] Baeldung. (marzo 18,2024). *¿Cuál es la diferencia entre sh y bash?*. Recuperado en octubre 6, 2025 de https://www-baeldung-com.translate.goog/linux/sh-vs-bash?_x_tr_sl=en&_x_tr_tl=es&_x_tr_hl=es&_x_tr_pto=rq\n",
    "\n",
    "[2] Duò, Matteo. (octubre 1, 2025). *Git vs GitHub: ¿Cuál es la Diferencia y cómo Empezar?*. Kinsta. Recuperado en octubre 6, 2025 de https://kinsta.com/es/blog/git-vs-github/\n",
    "\n",
    "[2] García Fernández, Candela. (junio 19, 2024). *Jupyter Notebook: Herramienta esencial para científicos de datos*. Openwebinars. Recuperado en octubre 6 de https://openwebinars.net/blog/jupyter-notebook/\n",
    "\n",
    "[3] Hernández, Yulima. (marzo 26,2023). *¿Qué es Shell en Linux? Guía rápida*. DONGEE. Recuperado en octubre 6, 2025 de https://www.dongee.com/tutoriales/que-es-shell-en-linux-guia-rapida/\n",
    "\n",
    "\n",
    "\n"
   ]
  }
 ],
 "metadata": {
  "kernelspec": {
   "display_name": "Python 3 (ipykernel)",
   "language": "python",
   "name": "python3"
  },
  "language_info": {
   "codemirror_mode": {
    "name": "ipython",
    "version": 3
   },
   "file_extension": ".py",
   "mimetype": "text/x-python",
   "name": "python",
   "nbconvert_exporter": "python",
   "pygments_lexer": "ipython3",
   "version": "3.10.12"
  }
 },
 "nbformat": 4,
 "nbformat_minor": 5
}
